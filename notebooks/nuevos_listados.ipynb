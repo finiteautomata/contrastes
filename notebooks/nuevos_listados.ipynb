{
 "cells": [
  {
   "cell_type": "markdown",
   "metadata": {},
   "source": [
    "# Nuevos listados\n",
    "\n",
    "En esta notebook, vamos a generar los nuevos listados de palabras..."
   ]
  },
  {
   "cell_type": "code",
   "execution_count": 1,
   "metadata": {},
   "outputs": [],
   "source": [
    "%matplotlib inline\n",
    "\n",
    "import pandas as pd\n",
    "\n",
    "analizadas = pd.read_csv(\"data/listado_definitivo.csv\")\n",
    "analizadas.set_index(' ', inplace=True)\n",
    "analizadas[\"Palabra Candidata\"] = analizadas[\"Palabra Candidata\"].astype('str')"
   ]
  },
  {
   "cell_type": "code",
   "execution_count": 2,
   "metadata": {},
   "outputs": [
    {
     "name": "stdout",
     "output_type": "stream",
     "text": [
      "Tenemos 5014 palabras analizadas\n"
     ]
    }
   ],
   "source": [
    "palabras_ya_analizadas = analizadas[analizadas['Palabra Candidata'] != 'nan'].index\n",
    "\n",
    "print(\"Tenemos {} palabras analizadas\".format(palabras_ya_analizadas.shape[0]))"
   ]
  },
  {
   "cell_type": "markdown",
   "metadata": {},
   "source": [
    "- Armar listados para cada una de las métricas acá"
   ]
  },
  {
   "cell_type": "markdown",
   "metadata": {},
   "source": [
    "## Listado de Palabras\n",
    "\n",
    "Vamos a regenerar el listado completo de palabras. Y calculemos cuánto falta trabajar si hacemos de nuevo los cálculos"
   ]
  },
  {
   "cell_type": "code",
   "execution_count": 3,
   "metadata": {},
   "outputs": [],
   "source": [
    "import re\n",
    "\n",
    "df = pd.read_csv(\"data/cantidades_filtradas.csv\", index_col=0)\n",
    "df = df[df.cantUsuariosTotal >= 2]\n",
    "\n",
    "cant_palabras = [c for c in df.columns if re.match(r'.*Palabras$', c)]\n",
    "cant_personas = [c for c in df.columns if re.match(r'.*Usuarios$', c)]\n",
    "\n",
    "df[\"cant_provincias\"] = (df[cant_palabras] > 0).sum(axis=1)"
   ]
  },
  {
   "cell_type": "markdown",
   "metadata": {},
   "source": [
    "Calculemos el valor de la información de cada palabra."
   ]
  },
  {
   "cell_type": "code",
   "execution_count": 4,
   "metadata": {},
   "outputs": [],
   "source": [
    "from scipy.stats import entropy\n",
    "import numpy as np\n",
    "\n",
    "df[\"entropy_palabras\"] = df[cant_palabras].apply(entropy, axis=1, raw=True)\n",
    "df[\"entropy_personas\"] = df[cant_personas].apply(entropy, axis=1, raw=True)\n",
    "\n",
    "df[\"delta_palabras\"] = np.log(23) - df[\"entropy_palabras\"]\n",
    "df[\"delta_personas\"] = np.log(23) - df[\"entropy_personas\"]\n",
    "\n",
    "df[\"log_cantidad\"] = np.log(1+df.cantPalabra)\n",
    "df[\"log_personas\"] = np.log(1+df.cantUsuariosTotal)\n",
    "\n",
    "df[\"norm_cantidad\"] = df[\"log_cantidad\"]  / df[\"log_cantidad\"].max()\n",
    "df[\"norm_personas\"] = df[\"log_personas\"] / df[\"log_personas\"].max()\n",
    "\n",
    "df[\"ival_palabras\"] = df.norm_cantidad * df.delta_palabras\n",
    "df[\"ival_personas\"] = df.norm_personas * df.delta_personas\n",
    "\n",
    "\n",
    "df[\"ival\"] = df[\"ival_palabras\"] * df[\"ival_personas\"]\n",
    "\n",
    "df_personas = df.sort_values(\"ival_personas\", ascending=False)\n",
    "df_palabras = df.sort_values(\"ival_palabras\", ascending=False)\n",
    "df_pp = df.sort_values(\"ival\", ascending=False)"
   ]
  },
  {
   "cell_type": "markdown",
   "metadata": {},
   "source": [
    "Cambiamos ligeramente el cálculo de la normalización y del IV, contemplando el orden de personas\n",
    "\n",
    "¿De las primeras 1000, cuántas no están en las ya analizadas?"
   ]
  },
  {
   "cell_type": "code",
   "execution_count": 5,
   "metadata": {},
   "outputs": [
    {
     "name": "stdout",
     "output_type": "stream",
     "text": [
      "================================================================================\n",
      "Primeras 1000 palabras\n",
      "Palabras  => faltan etiquetar 219 palabras\n",
      "Personas  => faltan etiquetar 0 palabras\n",
      "PalPer  => faltan etiquetar 0 palabras\n",
      "Total = 219\n",
      "Total (sin rep) = 219\n",
      "================================================================================\n",
      "Primeras 5000 palabras\n",
      "Palabras  => faltan etiquetar 1602 palabras\n",
      "Personas  => faltan etiquetar 653 palabras\n",
      "PalPer  => faltan etiquetar 1057 palabras\n",
      "Total = 3312\n",
      "Total (sin rep) = 1820\n"
     ]
    }
   ],
   "source": [
    "def analizar_palabras_restantes(n):\n",
    "    total = 0\n",
    "    todas_las_palabras = set()\n",
    "    print(\"=\"* 80)\n",
    "    print(\"Primeras {} palabras\".format(n))\n",
    "    for nombre, this_df in [(\"Palabras\", df_palabras), (\"Personas\", df_personas), (\"PalPer\", df_pp)]: \n",
    "        restantes = {p for p in this_df.iloc[:n].index if p not in palabras_ya_analizadas}\n",
    "        total+=len(restantes)\n",
    "        todas_las_palabras = todas_las_palabras.union(restantes)\n",
    "        print(\"{}  => faltan etiquetar {} palabras\".format(nombre, len(restantes)))\n",
    "\n",
    "    print(\"Total = {}\".format(total))\n",
    "    print(\"Total (sin rep) = {}\".format(len(todas_las_palabras)))\n",
    "\n",
    "analizar_palabras_restantes(1000)\n",
    "analizar_palabras_restantes(5000)\n",
    "\n"
   ]
  },
  {
   "cell_type": "markdown",
   "metadata": {},
   "source": [
    "## Usando cálculo viejo\n"
   ]
  },
  {
   "cell_type": "code",
   "execution_count": 6,
   "metadata": {},
   "outputs": [],
   "source": [
    "from contrastes.information_value import simulated_shuffled_entropy"
   ]
  },
  {
   "cell_type": "code",
   "execution_count": 7,
   "metadata": {},
   "outputs": [],
   "source": [
    "fn = lambda ws: simulated_shuffled_entropy(int(ws), len(cant_palabras))\n",
    "df[\"sh_entropy_palabras\"] = df.cantPalabra.apply(fn)\n",
    "df[\"sh_entropy_personas\"] = df.cantUsuariosTotal.apply(fn)\n"
   ]
  },
  {
   "cell_type": "code",
   "execution_count": 8,
   "metadata": {},
   "outputs": [],
   "source": [
    "df[\"entropy_palabras\"] = df[cant_palabras].apply(entropy, axis=1, raw=True)\n",
    "df[\"entropy_personas\"] = df[cant_personas].apply(entropy, axis=1, raw=True)\n",
    "\n",
    "df[\"delta_palabras\"] = df[\"sh_entropy_palabras\"] - df[\"entropy_palabras\"]\n",
    "df[\"delta_personas\"] = df[\"sh_entropy_personas\"] - df[\"entropy_personas\"]\n",
    "\n",
    "df[\"log_cantidad\"] = np.log(df.cantPalabra)\n",
    "df[\"log_personas\"] = np.log(df.cantUsuariosTotal)\n",
    "\n",
    "df[\"norm_cantidad\"] = (df[\"log_cantidad\"] - df[\"log_cantidad\"].min()) \\\n",
    "    / (df[\"log_cantidad\"].max() - df[\"log_cantidad\"].min())\n",
    "df[\"norm_personas\"] = (df[\"log_personas\"] - df[\"log_personas\"].min()) \\\n",
    "    / (df[\"log_personas\"].max() - df[\"log_personas\"].min())\n",
    "    \n",
    "df[\"ival_palabras\"] = df.norm_cantidad * df.delta_palabras\n",
    "df[\"ival_personas\"] = df.norm_personas * df.delta_personas\n",
    "\n",
    "\n",
    "df[\"ival\"] = df[\"ival_palabras\"] * df[\"ival_personas\"]\n",
    "\n",
    "df_personas = df.sort_values(\"ival_personas\", ascending=False)\n",
    "df_palabras = df.sort_values(\"ival_palabras\", ascending=False)\n",
    "df_pp = df.sort_values(\"ival\", ascending=False)"
   ]
  },
  {
   "cell_type": "code",
   "execution_count": 9,
   "metadata": {},
   "outputs": [
    {
     "name": "stdout",
     "output_type": "stream",
     "text": [
      "================================================================================\n",
      "Primeras 1000 palabras\n",
      "Palabras  => faltan etiquetar 213 palabras\n",
      "Personas  => faltan etiquetar 0 palabras\n",
      "PalPer  => faltan etiquetar 327 palabras\n",
      "Total = 540\n",
      "Total (sin rep) = 540\n",
      "================================================================================\n",
      "Primeras 5000 palabras\n",
      "Palabras  => faltan etiquetar 1827 palabras\n",
      "Personas  => faltan etiquetar 756 palabras\n",
      "PalPer  => faltan etiquetar 3741 palabras\n",
      "Total = 6324\n",
      "Total (sin rep) = 6211\n"
     ]
    }
   ],
   "source": [
    "\n",
    "analizar_palabras_restantes(1000)\n",
    "analizar_palabras_restantes(5000)"
   ]
  }
 ],
 "metadata": {
  "kernelspec": {
   "display_name": "Python 3",
   "language": "python",
   "name": "python3"
  },
  "language_info": {
   "codemirror_mode": {
    "name": "ipython",
    "version": 3
   },
   "file_extension": ".py",
   "mimetype": "text/x-python",
   "name": "python",
   "nbconvert_exporter": "python",
   "pygments_lexer": "ipython3",
   "version": "3.6.4"
  }
 },
 "nbformat": 4,
 "nbformat_minor": 2
}
