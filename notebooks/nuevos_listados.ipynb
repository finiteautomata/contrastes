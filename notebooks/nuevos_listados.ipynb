{
 "cells": [
  {
   "cell_type": "markdown",
   "metadata": {},
   "source": [
    "# Nuevos listados\n",
    "\n",
    "En esta notebook, vamos a generar los nuevos listados de palabras..."
   ]
  },
  {
   "cell_type": "code",
   "execution_count": 4,
   "metadata": {},
   "outputs": [],
   "source": [
    "%matplotlib inline\n",
    "\n",
    "import pandas as pd\n",
    "\n",
    "analizadas = pd.read_csv(\"data/listado_definitivo.csv\")\n",
    "analizadas.set_index(' ', inplace=True)\n",
    "analizadas[\"Palabra Candidata\"] = analizadas[\"Palabra Candidata\"].astype('str')"
   ]
  },
  {
   "cell_type": "code",
   "execution_count": 16,
   "metadata": {},
   "outputs": [
    {
     "name": "stdout",
     "output_type": "stream",
     "text": [
      "Tenemos 5014 palabras analizadas\n"
     ]
    }
   ],
   "source": [
    "palabras_ya_analizadas = analizadas[analizadas['Palabra Candidata'] != 'nan'].index\n",
    "\n",
    "print(\"Tenemos {} palabras analizadas\".format(palabras_ya_analizadas.shape[0]))"
   ]
  }
 ],
 "metadata": {
  "kernelspec": {
   "display_name": "Python 3",
   "language": "python",
   "name": "python3"
  },
  "language_info": {
   "codemirror_mode": {
    "name": "ipython",
    "version": 3
   },
   "file_extension": ".py",
   "mimetype": "text/x-python",
   "name": "python",
   "nbconvert_exporter": "python",
   "pygments_lexer": "ipython3",
   "version": "3.6.4"
  }
 },
 "nbformat": 4,
 "nbformat_minor": 2
}
