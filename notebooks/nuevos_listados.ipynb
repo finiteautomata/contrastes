{
 "cells": [
  {
   "cell_type": "markdown",
   "metadata": {},
   "source": [
    "# Nuevos listados\n",
    "\n",
    "En esta notebook, vamos a generar los nuevos listados de palabras..."
   ]
  },
  {
   "cell_type": "code",
   "execution_count": 1,
   "metadata": {},
   "outputs": [],
   "source": [
    "%matplotlib inline\n",
    "\n",
    "import pandas as pd\n",
    "\n",
    "analizadas = pd.read_csv(\"data/listado_definitivo.csv\")\n",
    "analizadas.set_index(' ', inplace=True)\n",
    "analizadas[\"candidata\"] = analizadas[\"Palabra Candidata\"]"
   ]
  },
  {
   "cell_type": "code",
   "execution_count": 2,
   "metadata": {},
   "outputs": [
    {
     "name": "stdout",
     "output_type": "stream",
     "text": [
      "Tenemos 5014 palabras analizadas\n"
     ]
    }
   ],
   "source": [
    "palabras_ya_analizadas = analizadas[analizadas['candidata'].notna()]\n",
    "\n",
    "print(\"Tenemos {} palabras analizadas\".format(palabras_ya_analizadas.shape[0]))"
   ]
  },
  {
   "cell_type": "markdown",
   "metadata": {},
   "source": [
    "## Listado de Palabras\n",
    "\n",
    "Vamos a regenerar el listado completo de palabras. Y calculemos cuánto falta trabajar si hacemos de nuevo los cálculos"
   ]
  },
  {
   "cell_type": "code",
   "execution_count": 3,
   "metadata": {},
   "outputs": [],
   "source": [
    "import re\n",
    "\n",
    "df = pd.read_csv(\"data/cantidades_filtradas.csv\", index_col=0)\n",
    "df = df[df.cantUsuariosTotal >= 2]\n",
    "\n",
    "cant_palabras = [c for c in df.columns if re.match(r'.*Palabras$', c)]\n",
    "cant_personas = [c for c in df.columns if re.match(r'.*Usuarios$', c)]\n",
    "\n",
    "df[\"cant_provincias\"] = (df[cant_palabras] > 0).sum(axis=1)"
   ]
  },
  {
   "cell_type": "markdown",
   "metadata": {},
   "source": [
    "Calculemos el valor de la información de cada palabra."
   ]
  },
  {
   "cell_type": "code",
   "execution_count": 4,
   "metadata": {},
   "outputs": [],
   "source": [
    "from scipy.stats import entropy\n",
    "import numpy as np\n",
    "\n",
    "df[\"entropy_palabras\"] = df[cant_palabras].apply(entropy, axis=1, raw=True)\n",
    "df[\"entropy_personas\"] = df[cant_personas].apply(entropy, axis=1, raw=True)\n",
    "\n",
    "df[\"delta_palabras\"] = np.log(23) - df[\"entropy_palabras\"]\n",
    "df[\"delta_personas\"] = np.log(23) - df[\"entropy_personas\"]\n",
    "\n",
    "df[\"log_cantidad\"] = np.log(1+df.cantPalabra)\n",
    "df[\"log_personas\"] = np.log(1+df.cantUsuariosTotal)\n",
    "\n",
    "df[\"norm_cantidad\"] = df[\"log_cantidad\"]  / df[\"log_cantidad\"].max()\n",
    "df[\"norm_personas\"] = df[\"log_personas\"] / df[\"log_personas\"].max()\n",
    "\n",
    "df[\"ival_palabras\"] = df.norm_cantidad * df.delta_palabras\n",
    "df[\"ival_personas\"] = df.norm_personas * df.delta_personas\n",
    "\n",
    "\n",
    "df[\"ival\"] = df[\"ival_palabras\"] * df[\"ival_personas\"]\n",
    "\n",
    "df_personas = df.sort_values(\"ival_personas\", ascending=False)\n",
    "df_palabras = df.sort_values(\"ival_palabras\", ascending=False)\n",
    "df_pp = df.sort_values(\"ival\", ascending=False)"
   ]
  },
  {
   "cell_type": "markdown",
   "metadata": {},
   "source": [
    "Cambiamos ligeramente el cálculo de la normalización y del IV, contemplando el orden de personas\n",
    "\n",
    "¿De las primeras 1000, cuántas no están en las ya analizadas?"
   ]
  },
  {
   "cell_type": "code",
   "execution_count": 5,
   "metadata": {},
   "outputs": [],
   "source": [
    "def calcular_porcentaje_candidatas(palabras):\n",
    "    subconj_analizado = palabras.index.intersection(palabras_ya_analizadas.index)\n",
    "    candidatas = (analizadas.loc[subconj_analizado]['candidata'] != '0').sum()\n",
    "    total = subconj_analizado.shape[0]\n",
    "    print(\"Total analizadas actualmente = {}\".format(total))\n",
    "    \n",
    "    return candidatas / total\n",
    "\n",
    "def analizar_palabras_restantes(n, dataframes):\n",
    "    total = 0\n",
    "    todas_las_palabras = set()\n",
    "    print(\"=\"* 80)\n",
    "    print(\"Primeras {} palabras\".format(n))\n",
    "    \n",
    "    for nombre, this_df in dataframes.items(): \n",
    "        print('#'*40)\n",
    "        print(\"Métrica: {}\".format(nombre))\n",
    "        palabras = this_df.iloc[:n]\n",
    "        \n",
    "        metrica = calcular_porcentaje_candidatas(palabras)\n",
    "        restantes = {p for p in palabras.index if p not in palabras_ya_analizadas.index}\n",
    "        total+=len(restantes)\n",
    "        todas_las_palabras = todas_las_palabras.union(restantes)\n",
    "        print(\"Faltan etiquetar {} palabras\".format(len(restantes)))\n",
    "        print(\"Porcentaje candidatas = {}\".format(metrica))\n",
    "    print(\"Faltan etiquetar (sin repeticiones) = {}\".format(len(todas_las_palabras)))"
   ]
  },
  {
   "cell_type": "code",
   "execution_count": 6,
   "metadata": {},
   "outputs": [
    {
     "name": "stdout",
     "output_type": "stream",
     "text": [
      "================================================================================\n",
      "Primeras 1000 palabras\n",
      "########################################\n",
      "Métrica: Palabras\n",
      "Total analizadas actualmente = 781\n",
      "Faltan etiquetar 219 palabras\n",
      "Porcentaje candidatas = 0.18950064020486557\n",
      "########################################\n",
      "Métrica: Personas\n",
      "Total analizadas actualmente = 1000\n",
      "Faltan etiquetar 0 palabras\n",
      "Porcentaje candidatas = 0.262\n",
      "########################################\n",
      "Métrica: PalPer\n",
      "Total analizadas actualmente = 1000\n",
      "Faltan etiquetar 0 palabras\n",
      "Porcentaje candidatas = 0.225\n",
      "Faltan etiquetar (sin repeticiones) = 219\n",
      "================================================================================\n",
      "Primeras 5000 palabras\n",
      "########################################\n",
      "Métrica: Personas\n",
      "Total analizadas actualmente = 4347\n",
      "Faltan etiquetar 653 palabras\n",
      "Porcentaje candidatas = 0.4200598113641592\n",
      "########################################\n",
      "Métrica: PalPer\n",
      "Total analizadas actualmente = 3943\n",
      "Faltan etiquetar 1057 palabras\n",
      "Porcentaje candidatas = 0.3814354552371291\n",
      "Faltan etiquetar (sin repeticiones) = 1235\n"
     ]
    }
   ],
   "source": [
    "dataframes = {\n",
    "    \"Palabras\": df_palabras, \n",
    "    \"Personas\": df_personas, \n",
    "    \"PalPer\": df_pp\n",
    "}\n",
    "analizar_palabras_restantes(1000, dataframes)\n",
    "dataframes = {\n",
    "    \"Personas\": df_personas, \n",
    "    \"PalPer\": df_pp\n",
    "}\n",
    "\n",
    "analizar_palabras_restantes(5000, dataframes)\n"
   ]
  },
  {
   "cell_type": "markdown",
   "metadata": {},
   "source": [
    "## Usando cálculo viejo\n"
   ]
  },
  {
   "cell_type": "code",
   "execution_count": 7,
   "metadata": {},
   "outputs": [],
   "source": [
    "from contrastes.information_value import simulated_shuffled_entropy"
   ]
  },
  {
   "cell_type": "code",
   "execution_count": 8,
   "metadata": {},
   "outputs": [],
   "source": [
    "df = pd.read_csv(\"data/cantidades_filtradas.csv\", index_col=0)\n",
    "df = df[df.cantUsuariosTotal >= 2]\n",
    "\n",
    "cant_palabras = [c for c in df.columns if re.match(r'.*Palabras$', c)]\n",
    "cant_personas = [c for c in df.columns if re.match(r'.*Usuarios$', c)]\n",
    "\n",
    "df[\"cant_provincias\"] = (df[cant_palabras] > 0).sum(axis=1)\n",
    "\n",
    "fn = lambda ws: simulated_shuffled_entropy(int(ws), len(cant_palabras))\n",
    "df[\"sh_entropy_palabras\"] = df.cantPalabra.apply(fn)\n",
    "df[\"sh_entropy_personas\"] = df.cantUsuariosTotal.apply(fn)\n"
   ]
  },
  {
   "cell_type": "code",
   "execution_count": 9,
   "metadata": {},
   "outputs": [],
   "source": [
    "df[\"entropy_palabras\"] = df[cant_palabras].apply(entropy, axis=1, raw=True)\n",
    "df[\"entropy_personas\"] = df[cant_personas].apply(entropy, axis=1, raw=True)\n",
    "\n",
    "df[\"delta_palabras\"] = df[\"sh_entropy_palabras\"] - df[\"entropy_palabras\"]\n",
    "df[\"delta_personas\"] = df[\"sh_entropy_personas\"] - df[\"entropy_personas\"]\n",
    "\n",
    "df[\"log_cantidad\"] = np.log(df.cantPalabra)\n",
    "df[\"log_personas\"] = np.log(df.cantUsuariosTotal)\n",
    "\n",
    "df[\"norm_cantidad\"] = (df[\"log_cantidad\"] - df[\"log_cantidad\"].min()) \\\n",
    "    / (df[\"log_cantidad\"].max() - df[\"log_cantidad\"].min())\n",
    "df[\"norm_personas\"] = (df[\"log_personas\"] - df[\"log_personas\"].min()) \\\n",
    "    / (df[\"log_personas\"].max() - df[\"log_personas\"].min())\n",
    "    \n",
    "df[\"ival_palabras\"] = df.norm_cantidad * df.delta_palabras\n",
    "df[\"ival_personas\"] = df.norm_personas * df.delta_personas\n",
    "\n",
    "\n",
    "df[\"ival\"] = df[\"ival_palabras\"] * df[\"ival_personas\"]\n",
    "\n",
    "df_personas = df.sort_values(\"ival_personas\", ascending=False)\n",
    "df_palabras = df.sort_values(\"ival_palabras\", ascending=False)\n",
    "df_pp = df.sort_values(\"ival\", ascending=False)"
   ]
  },
  {
   "cell_type": "code",
   "execution_count": 10,
   "metadata": {},
   "outputs": [
    {
     "name": "stdout",
     "output_type": "stream",
     "text": [
      "================================================================================\n",
      "Primeras 1000 palabras\n",
      "########################################\n",
      "Métrica: Palabras\n",
      "Total analizadas actualmente = 790\n",
      "Faltan etiquetar 210 palabras\n",
      "Porcentaje candidatas = 0.2708860759493671\n",
      "########################################\n",
      "Métrica: Personas\n",
      "Total analizadas actualmente = 1000\n",
      "Faltan etiquetar 0 palabras\n",
      "Porcentaje candidatas = 0.293\n",
      "########################################\n",
      "Métrica: PalPer\n",
      "Total analizadas actualmente = 664\n",
      "Faltan etiquetar 336 palabras\n",
      "Porcentaje candidatas = 0.2560240963855422\n",
      "Faltan etiquetar (sin repeticiones) = 546\n",
      "================================================================================\n",
      "Primeras 5000 palabras\n",
      "########################################\n",
      "Métrica: Personas\n",
      "Total analizadas actualmente = 4228\n",
      "Faltan etiquetar 772 palabras\n",
      "Porcentaje candidatas = 0.4231315042573321\n",
      "########################################\n",
      "Métrica: PalPer\n",
      "Total analizadas actualmente = 1242\n",
      "Faltan etiquetar 3758 palabras\n",
      "Porcentaje candidatas = 0.29790660225442833\n",
      "Faltan etiquetar (sin repeticiones) = 4530\n"
     ]
    }
   ],
   "source": [
    "dataframes = {\n",
    "    \"Palabras\": df_palabras, \n",
    "    \"Personas\": df_personas, \n",
    "    \"PalPer\": df_pp\n",
    "}\n",
    "analizar_palabras_restantes(1000, dataframes)\n",
    "dataframes = {\n",
    "    \"Personas\": df_personas, \n",
    "    \"PalPer\": df_pp\n",
    "}\n",
    "\n",
    "analizar_palabras_restantes(5000, dataframes)\n"
   ]
  }
 ],
 "metadata": {
  "kernelspec": {
   "display_name": "Python 3",
   "language": "python",
   "name": "python3"
  },
  "language_info": {
   "codemirror_mode": {
    "name": "ipython",
    "version": 3
   },
   "file_extension": ".py",
   "mimetype": "text/x-python",
   "name": "python",
   "nbconvert_exporter": "python",
   "pygments_lexer": "ipython3",
   "version": "3.6.4"
  }
 },
 "nbformat": 4,
 "nbformat_minor": 2
}
