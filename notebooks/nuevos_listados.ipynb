{
 "cells": [
  {
   "cell_type": "markdown",
   "metadata": {},
   "source": [
    "# Nuevos listados\n",
    "\n",
    "En esta notebook, vamos a generar los nuevos listados de palabras..."
   ]
  },
  {
   "cell_type": "code",
   "execution_count": 1,
   "metadata": {},
   "outputs": [],
   "source": [
    "%matplotlib inline\n",
    "\n",
    "import pandas as pd\n",
    "\n",
    "analizadas = pd.read_csv(\"../data/listado_definitivo.csv\")\n",
    "analizadas.set_index(' ', inplace=True)\n",
    "analizadas[\"candidata\"] = analizadas[\"Palabra Candidata\"]"
   ]
  },
  {
   "cell_type": "code",
   "execution_count": 2,
   "metadata": {},
   "outputs": [
    {
     "name": "stdout",
     "output_type": "stream",
     "text": [
      "Tenemos 5014 palabras analizadas\n"
     ]
    }
   ],
   "source": [
    "palabras_ya_analizadas = analizadas[analizadas['candidata'].notna()]\n",
    "\n",
    "print(\"Tenemos {} palabras analizadas\".format(palabras_ya_analizadas.shape[0]))"
   ]
  },
  {
   "cell_type": "markdown",
   "metadata": {},
   "source": [
    "## Listado de Palabras\n",
    "\n",
    "Vamos a regenerar el listado completo de palabras. Y calculemos cuánto falta trabajar si hacemos de nuevo los cálculos"
   ]
  },
  {
   "cell_type": "code",
   "execution_count": 3,
   "metadata": {},
   "outputs": [
    {
     "name": "stdout",
     "output_type": "stream",
     "text": [
      "columnas de palabras => ['buenosaires_ocurrencias', 'catamarca_ocurrencias', 'chaco_ocurrencias', 'chubut_ocurrencias', 'cordoba_ocurrencias', 'corrientes_ocurrencias', 'entrerios_ocurrencias', 'formosa_ocurrencias', 'jujuy_ocurrencias', 'lapampa_ocurrencias', 'larioja_ocurrencias', 'mendoza_ocurrencias', 'misiones_ocurrencias', 'neuquen_ocurrencias', 'rionegro_ocurrencias', 'salta_ocurrencias', 'sanjuan_ocurrencias', 'sanluis_ocurrencias', 'santacruz_ocurrencias', 'santafe_ocurrencias', 'santiago_ocurrencias', 'tierradelfuego_ocurrencias', 'tucuman_ocurrencias']\n",
      "\n",
      "columnas de usuarios => ['buenosaires_usuarios', 'catamarca_usuarios', 'chaco_usuarios', 'chubut_usuarios', 'cordoba_usuarios', 'corrientes_usuarios', 'entrerios_usuarios', 'formosa_usuarios', 'jujuy_usuarios', 'lapampa_usuarios', 'larioja_usuarios', 'mendoza_usuarios', 'misiones_usuarios', 'neuquen_usuarios', 'rionegro_usuarios', 'salta_usuarios', 'sanjuan_usuarios', 'sanluis_usuarios', 'santacruz_usuarios', 'santafe_usuarios', 'santiago_usuarios', 'tierradelfuego_usuarios', 'tucuman_usuarios']\n"
     ]
    }
   ],
   "source": [
    "import re\n",
    "\n",
    "df = pd.read_csv(\"../output/provinces_words.csv\", index_col=0)\n",
    "\n",
    "cant_palabras = [c for c in df.columns if re.match(r'.*ocurrencias$', c)]\n",
    "cant_personas = [c for c in df.columns if re.match(r'.*usuarios$', c)]\n",
    "\n",
    "print(\"columnas de palabras => {}\\n\".format(cant_palabras))\n",
    "print(\"columnas de usuarios => {}\".format(cant_personas))\n",
    "\n",
    "df[\"cant_provincias\"] = (df[cant_palabras] > 0).sum(axis=1)\n",
    "df[\"cant_palabra\"] = df[cant_palabras].sum(axis=1)\n",
    "df[\"cant_usuarios\"] = df[cant_personas].sum(axis=1)"
   ]
  },
  {
   "cell_type": "code",
   "execution_count": 4,
   "metadata": {},
   "outputs": [],
   "source": [
    "df = df[(df.cant_palabra > 40) & (df.cant_usuarios >= 3) ]"
   ]
  },
  {
   "cell_type": "markdown",
   "metadata": {},
   "source": [
    "Calculemos el valor de la información de cada palabra."
   ]
  },
  {
   "cell_type": "code",
   "execution_count": 5,
   "metadata": {},
   "outputs": [],
   "source": [
    "from scipy.stats import entropy\n",
    "import numpy as np\n",
    "\n",
    "df[\"entropy_palabras\"] = df[cant_palabras].apply(entropy, axis=1, raw=True)\n",
    "df[\"entropy_personas\"] = df[cant_personas].apply(entropy, axis=1, raw=True)\n",
    "\n",
    "df[\"delta_palabras\"] = np.log2(23) - df[\"entropy_palabras\"]\n",
    "df[\"delta_personas\"] = np.log2(23) - df[\"entropy_personas\"]\n",
    "\n",
    "df[\"log_cantidad\"] = np.log2(df.cant_palabra)\n",
    "df[\"log_personas\"] = np.log2(df.cant_usuarios)\n",
    "\n",
    "df[\"norm_cantidad\"] = df[\"log_cantidad\"] / df[\"log_cantidad\"].max() \n",
    "df[\"norm_personas\"] = df[\"log_personas\"] / df[\"log_personas\"].max()\n",
    "\n",
    "df[\"ival_palabras\"] = df.norm_cantidad * df.delta_palabras\n",
    "df[\"ival_personas\"] = df.norm_personas * df.delta_personas\n",
    "\n",
    "\n",
    "df[\"ival\"] = df[\"ival_palabras\"] * df[\"ival_personas\"]\n",
    "df[\"ival_norm\"] = (1+df[\"ival_palabras\"]) * (1+df[\"ival_personas\"])\n",
    "\n",
    "df_personas = df.sort_values(\"ival_personas\", ascending=False)\n",
    "df_palabras = df.sort_values(\"ival_palabras\", ascending=False)\n",
    "df_pp = df.sort_values(\"ival\", ascending=False)\n"
   ]
  },
  {
   "cell_type": "markdown",
   "metadata": {},
   "source": [
    "Cambiamos ligeramente el cálculo de la normalización y del IV, contemplando el orden de personas\n",
    "\n",
    "¿De las primeras 1000, cuántas no están en las ya analizadas?"
   ]
  },
  {
   "cell_type": "code",
   "execution_count": 6,
   "metadata": {},
   "outputs": [],
   "source": [
    "def calcular_porcentaje_candidatas(palabras):\n",
    "    subconj_analizado = palabras.index.intersection(palabras_ya_analizadas.index)\n",
    "    candidatas = (analizadas.loc[subconj_analizado]['candidata'] != '0').sum()\n",
    "    total = subconj_analizado.shape[0]\n",
    "    print(\"Palabras candidatas = {}\".format(candidatas))\n",
    "    print(\"Total analizadas actualmente = {}\".format(total))\n",
    "    \n",
    "    return candidatas / total\n",
    "\n",
    "def analizar_palabras_restantes(n, dataframes):\n",
    "    total = 0\n",
    "    todas_las_palabras = set()\n",
    "    print(\"=\"* 80)\n",
    "    print(\"Primeras {} palabras\".format(n))\n",
    "    \n",
    "    for nombre, this_df in dataframes.items(): \n",
    "        print('#'*40)\n",
    "        print(\"Métrica: {}\".format(nombre))\n",
    "        palabras = this_df.iloc[:n]\n",
    "        \n",
    "        metrica = calcular_porcentaje_candidatas(palabras)\n",
    "        restantes = {p for p in palabras.index if p not in palabras_ya_analizadas.index}\n",
    "        total+=len(restantes)\n",
    "        todas_las_palabras = todas_las_palabras.union(restantes)\n",
    "        print(\"Faltan etiquetar {} palabras\".format(len(restantes)))\n",
    "        print(\"Porcentaje candidatas = {}\".format(metrica))\n",
    "    print(\"Faltan etiquetar (sin repeticiones) = {}\".format(len(todas_las_palabras)))"
   ]
  },
  {
   "cell_type": "code",
   "execution_count": 7,
   "metadata": {},
   "outputs": [
    {
     "name": "stdout",
     "output_type": "stream",
     "text": [
      "================================================================================\n",
      "Primeras 1000 palabras\n",
      "########################################\n",
      "Métrica: Palabras\n",
      "Palabras candidatas = 196\n",
      "Total analizadas actualmente = 767\n",
      "Faltan etiquetar 233 palabras\n",
      "Porcentaje candidatas = 0.25554106910039115\n",
      "########################################\n",
      "Métrica: Personas\n",
      "Palabras candidatas = 262\n",
      "Total analizadas actualmente = 788\n",
      "Faltan etiquetar 212 palabras\n",
      "Porcentaje candidatas = 0.33248730964467005\n",
      "########################################\n",
      "Métrica: PalPer\n",
      "Palabras candidatas = 248\n",
      "Total analizadas actualmente = 861\n",
      "Faltan etiquetar 139 palabras\n",
      "Porcentaje candidatas = 0.2880371660859466\n",
      "Faltan etiquetar (sin repeticiones) = 417\n",
      "================================================================================\n",
      "Primeras 5000 palabras\n",
      "########################################\n",
      "Métrica: Personas\n",
      "Palabras candidatas = 840\n",
      "Total analizadas actualmente = 2047\n",
      "Faltan etiquetar 2953 palabras\n",
      "Porcentaje candidatas = 0.41035661944308743\n",
      "########################################\n",
      "Métrica: PalPer\n",
      "Palabras candidatas = 828\n",
      "Total analizadas actualmente = 2248\n",
      "Faltan etiquetar 2752 palabras\n",
      "Porcentaje candidatas = 0.3683274021352313\n",
      "Faltan etiquetar (sin repeticiones) = 3403\n"
     ]
    }
   ],
   "source": [
    "dataframes = {\n",
    "    \"Palabras\": df_palabras, \n",
    "    \"Personas\": df_personas, \n",
    "    \"PalPer\": df_pp,\n",
    "}\n",
    "analizar_palabras_restantes(1000, dataframes)\n",
    "dataframes = {\n",
    "    \"Personas\": df_personas, \n",
    "    \"PalPer\": df_pp,\n",
    "}\n",
    "\n",
    "analizar_palabras_restantes(5000, dataframes)\n"
   ]
  },
  {
   "cell_type": "markdown",
   "metadata": {},
   "source": [
    "## Sin usar el log(23)"
   ]
  },
  {
   "cell_type": "code",
   "execution_count": 8,
   "metadata": {},
   "outputs": [],
   "source": [
    "from contrastes.information_value import simulated_shuffled_entropy_multinomial\n",
    "np.random.seed(seed=1)\n",
    "\n",
    "fn = lambda ws: simulated_shuffled_entropy_multinomial(int(ws), len(cant_palabras))\n",
    "\n",
    "df[\"sh_entropy_palabras\"] = df.cant_palabra.apply(fn)\n",
    "df[\"sh_entropy_personas\"] = df.cant_usuarios.apply(fn)\n",
    "\n",
    "df[\"entropy_palabras\"] = df[cant_palabras].apply(entropy, axis=1, raw=True)\n",
    "df[\"entropy_personas\"] = df[cant_personas].apply(entropy, axis=1, raw=True)\n",
    "\n",
    "df[\"delta_palabras\"] = df[\"sh_entropy_palabras\"] - df[\"entropy_palabras\"]\n",
    "df[\"delta_personas\"] = df[\"sh_entropy_personas\"] - df[\"entropy_personas\"]\n",
    "\n",
    "df[\"log_cantidad\"] = np.log2(df.cant_palabra)\n",
    "df[\"log_personas\"] = np.log2(df.cant_usuarios)\n",
    "\n",
    "df[\"norm_cantidad\"] = df[\"log_cantidad\"] / df[\"log_cantidad\"].max() \n",
    "df[\"norm_personas\"] = df[\"log_personas\"] / df[\"log_personas\"].max()\n",
    "\n",
    "df[\"ival_palabras\"] = df.norm_cantidad * df.delta_palabras\n",
    "df[\"ival_personas\"] = df.norm_personas * df.delta_personas\n",
    "df[\"ival\"] = df[\"ival_palabras\"] * df[\"ival_personas\"]\n",
    "\n",
    "df_personas = df.sort_values(\"ival_personas\", ascending=False)\n",
    "df_palabras = df.sort_values(\"ival_palabras\", ascending=False)\n",
    "df_pp = df.sort_values(\"ival\", ascending=False)"
   ]
  },
  {
   "cell_type": "code",
   "execution_count": 9,
   "metadata": {},
   "outputs": [
    {
     "name": "stdout",
     "output_type": "stream",
     "text": [
      "================================================================================\n",
      "Primeras 1000 palabras\n",
      "########################################\n",
      "Métrica: Palabras\n",
      "Palabras candidatas = 161\n",
      "Total analizadas actualmente = 735\n",
      "Faltan etiquetar 265 palabras\n",
      "Porcentaje candidatas = 0.21904761904761905\n",
      "########################################\n",
      "Métrica: Personas\n",
      "Palabras candidatas = 198\n",
      "Total analizadas actualmente = 693\n",
      "Faltan etiquetar 307 palabras\n",
      "Porcentaje candidatas = 0.2857142857142857\n",
      "########################################\n",
      "Métrica: PalPer\n",
      "Palabras candidatas = 201\n",
      "Total analizadas actualmente = 780\n",
      "Faltan etiquetar 220 palabras\n",
      "Porcentaje candidatas = 0.25769230769230766\n",
      "Faltan etiquetar (sin repeticiones) = 517\n",
      "================================================================================\n",
      "Primeras 5000 palabras\n",
      "########################################\n",
      "Métrica: Personas\n",
      "Palabras candidatas = 795\n",
      "Total analizadas actualmente = 2194\n",
      "Faltan etiquetar 2806 palabras\n",
      "Porcentaje candidatas = 0.3623518687329079\n",
      "########################################\n",
      "Métrica: PalPer\n",
      "Palabras candidatas = 721\n",
      "Total analizadas actualmente = 2213\n",
      "Faltan etiquetar 2787 palabras\n",
      "Porcentaje candidatas = 0.3258020786262991\n",
      "Faltan etiquetar (sin repeticiones) = 3133\n"
     ]
    }
   ],
   "source": [
    "dataframes = {\n",
    "    \"Palabras\": df_palabras, \n",
    "    \"Personas\": df_personas, \n",
    "    \"PalPer\": df_pp\n",
    "}\n",
    "analizar_palabras_restantes(1000, dataframes)\n",
    "dataframes = {\n",
    "    \"Personas\": df_personas, \n",
    "    \"PalPer\": df_pp,\n",
    "    \n",
    "}\n",
    "\n",
    "analizar_palabras_restantes(5000, dataframes)\n"
   ]
  },
  {
   "cell_type": "markdown",
   "metadata": {},
   "source": [
    "## Usando cálculo con normalización \"vieja\"\n"
   ]
  },
  {
   "cell_type": "code",
   "execution_count": 10,
   "metadata": {},
   "outputs": [],
   "source": [
    "from contrastes.information_value import simulated_shuffled_entropy_multinomial\n",
    "np.random.seed(seed=1)\n",
    "\n",
    "fn = lambda ws: simulated_shuffled_entropy_multinomial(int(ws), len(cant_palabras))\n",
    "\n",
    "df[\"sh_entropy_palabras\"] = df.cant_palabra.apply(fn)\n",
    "df[\"sh_entropy_personas\"] = df.cant_usuarios.apply(fn)\n"
   ]
  },
  {
   "cell_type": "code",
   "execution_count": 11,
   "metadata": {},
   "outputs": [],
   "source": [
    "df[\"entropy_palabras\"] = df[cant_palabras].apply(entropy, axis=1, raw=True)\n",
    "df[\"entropy_personas\"] = df[cant_personas].apply(entropy, axis=1, raw=True)\n",
    "\n",
    "df[\"delta_palabras\"] = df[\"sh_entropy_palabras\"] - df[\"entropy_palabras\"]\n",
    "df[\"delta_personas\"] = df[\"sh_entropy_personas\"] - df[\"entropy_personas\"]\n",
    "\n",
    "df[\"log_cantidad\"] = np.log2(df.cant_palabra)\n",
    "df[\"log_personas\"] = np.log2(df.cant_usuarios)\n",
    "\n",
    "df[\"norm_cantidad\"] = (df[\"log_cantidad\"] - df[\"log_cantidad\"].min()) \\\n",
    "    / (df[\"log_cantidad\"].max() - df[\"log_cantidad\"].min())\n",
    "df[\"norm_personas\"] = (df[\"log_personas\"] - df[\"log_personas\"].min()) \\\n",
    "    / (df[\"log_personas\"].max() - df[\"log_personas\"].min())\n",
    "\n",
    "df[\"ival_palabras\"] = df.norm_cantidad * df.delta_palabras\n",
    "df[\"ival_personas\"] = df.norm_personas * df.delta_personas\n",
    "\n",
    "\n",
    "df[\"ival\"] = df[\"ival_palabras\"] * df[\"ival_personas\"]\n",
    "\n",
    "df_personas = df.sort_values(\"ival_personas\", ascending=False)\n",
    "df_palabras = df.sort_values(\"ival_palabras\", ascending=False)\n",
    "df_pp = df.sort_values(\"ival\", ascending=False)"
   ]
  },
  {
   "cell_type": "code",
   "execution_count": 12,
   "metadata": {},
   "outputs": [
    {
     "name": "stdout",
     "output_type": "stream",
     "text": [
      "================================================================================\n",
      "Primeras 1000 palabras\n",
      "########################################\n",
      "Métrica: Palabras\n",
      "Palabras candidatas = 219\n",
      "Total analizadas actualmente = 789\n",
      "Faltan etiquetar 211 palabras\n",
      "Porcentaje candidatas = 0.27756653992395436\n",
      "########################################\n",
      "Métrica: Personas\n",
      "Palabras candidatas = 232\n",
      "Total analizadas actualmente = 750\n",
      "Faltan etiquetar 250 palabras\n",
      "Porcentaje candidatas = 0.30933333333333335\n",
      "########################################\n",
      "Métrica: PalPer\n",
      "Palabras candidatas = 270\n",
      "Total analizadas actualmente = 907\n",
      "Faltan etiquetar 93 palabras\n",
      "Porcentaje candidatas = 0.29768467475192945\n",
      "Faltan etiquetar (sin repeticiones) = 450\n",
      "================================================================================\n",
      "Primeras 5000 palabras\n",
      "########################################\n",
      "Métrica: Personas\n",
      "Palabras candidatas = 918\n",
      "Total analizadas actualmente = 2388\n",
      "Faltan etiquetar 2612 palabras\n",
      "Porcentaje candidatas = 0.3844221105527638\n",
      "########################################\n",
      "Métrica: PalPer\n",
      "Palabras candidatas = 1278\n",
      "Total analizadas actualmente = 3184\n",
      "Faltan etiquetar 1816 palabras\n",
      "Porcentaje candidatas = 0.40138190954773867\n",
      "Faltan etiquetar (sin repeticiones) = 2969\n"
     ]
    }
   ],
   "source": [
    "dataframes = {\n",
    "    \"Palabras\": df_palabras, \n",
    "    \"Personas\": df_personas, \n",
    "    \"PalPer\": df_pp\n",
    "}\n",
    "analizar_palabras_restantes(1000, dataframes)\n",
    "dataframes = {\n",
    "    \"Personas\": df_personas, \n",
    "    \"PalPer\": df_pp,\n",
    "    \n",
    "}\n",
    "\n",
    "analizar_palabras_restantes(5000, dataframes)\n"
   ]
  },
  {
   "cell_type": "markdown",
   "metadata": {},
   "source": [
    "## Usando el cálculo viejo CASI idéntico\n",
    "\n",
    "No usó normalización en las dos primeras métricas"
   ]
  },
  {
   "cell_type": "code",
   "execution_count": 13,
   "metadata": {},
   "outputs": [],
   "source": [
    "\n",
    "from contrastes.information_value import simulated_shuffled_entropy_multinomial\n",
    "np.random.seed(seed=1)\n",
    "\n",
    "fn = lambda ws: simulated_shuffled_entropy_multinomial(int(ws), len(cant_palabras))\n",
    "\n",
    "\n",
    "df[\"sh_entropy_personas\"] = df.cant_usuarios.apply(fn)\n",
    "df[\"sh_entropy_palabras\"] = df.cant_palabra.apply(fn)"
   ]
  },
  {
   "cell_type": "code",
   "execution_count": 14,
   "metadata": {},
   "outputs": [],
   "source": [
    "df[\"entropy_palabras\"] = df[cant_palabras].apply(entropy, axis=1, raw=True)\n",
    "df[\"entropy_personas\"] = df[cant_personas].apply(entropy, axis=1, raw=True)\n",
    "\n",
    "df[\"delta_palabras\"] = df[\"sh_entropy_palabras\"] - df[\"entropy_palabras\"]\n",
    "df[\"delta_personas\"] = df[\"sh_entropy_personas\"] - df[\"entropy_personas\"]\n",
    "\n",
    "df[\"log_cantidad\"] = np.log2(df.cant_palabra)\n",
    "df[\"log_personas\"] = np.log2(df.cant_usuarios)\n",
    "\n",
    "df[\"norm_cantidad\"] = (df[\"log_cantidad\"] - df[\"log_cantidad\"].min()) \\\n",
    "    / (df[\"log_cantidad\"].max() - df[\"log_cantidad\"].min())\n",
    "df[\"norm_personas\"] = (df[\"log_personas\"] - df[\"log_personas\"].min()) \\\n",
    "    / (df[\"log_personas\"].max() - df[\"log_personas\"].min())\n",
    "\n",
    "df[\"ival_palabras\"] = df.log_cantidad * df.delta_palabras\n",
    "df[\"ival_personas\"] = df.log_personas * df.delta_personas\n",
    "df[\"ival\"] = df.norm_cantidad * df.norm_personas * df.delta_palabras * df.delta_personas\n",
    "\n",
    "df_personas = df.sort_values(\"ival_personas\", ascending=False)\n",
    "df_palabras = df.sort_values(\"ival_palabras\", ascending=False)\n",
    "df_pp = df.sort_values(\"ival\", ascending=False)"
   ]
  },
  {
   "cell_type": "code",
   "execution_count": 15,
   "metadata": {},
   "outputs": [
    {
     "name": "stdout",
     "output_type": "stream",
     "text": [
      "================================================================================\n",
      "Primeras 1000 palabras\n",
      "########################################\n",
      "Métrica: Palabras\n",
      "Palabras candidatas = 160\n",
      "Total analizadas actualmente = 736\n",
      "Faltan etiquetar 264 palabras\n",
      "Porcentaje candidatas = 0.21739130434782608\n",
      "########################################\n",
      "Métrica: Personas\n",
      "Palabras candidatas = 198\n",
      "Total analizadas actualmente = 693\n",
      "Faltan etiquetar 307 palabras\n",
      "Porcentaje candidatas = 0.2857142857142857\n",
      "########################################\n",
      "Métrica: PalPer\n",
      "Palabras candidatas = 269\n",
      "Total analizadas actualmente = 906\n",
      "Faltan etiquetar 94 palabras\n",
      "Porcentaje candidatas = 0.2969094922737307\n",
      "Faltan etiquetar (sin repeticiones) = 514\n",
      "================================================================================\n",
      "Primeras 5000 palabras\n",
      "########################################\n",
      "Métrica: Personas\n",
      "Palabras candidatas = 791\n",
      "Total analizadas actualmente = 2186\n",
      "Faltan etiquetar 2814 palabras\n",
      "Porcentaje candidatas = 0.3618481244281793\n",
      "########################################\n",
      "Métrica: PalPer\n",
      "Palabras candidatas = 1283\n",
      "Total analizadas actualmente = 3187\n",
      "Faltan etiquetar 1813 palabras\n",
      "Porcentaje candidatas = 0.40257295262001885\n",
      "Faltan etiquetar (sin repeticiones) = 3151\n"
     ]
    }
   ],
   "source": [
    "dataframes = {\n",
    "    \"Palabras\": df_palabras, \n",
    "    \"Personas\": df_personas, \n",
    "    \"PalPer\": df_pp\n",
    "}\n",
    "analizar_palabras_restantes(1000, dataframes)\n",
    "dataframes = {\n",
    "    \"Personas\": df_personas, \n",
    "    \"PalPer\": df_pp,\n",
    "    \n",
    "}\n",
    "\n",
    "analizar_palabras_restantes(5000, dataframes)\n"
   ]
  }
 ],
 "metadata": {
  "kernelspec": {
   "display_name": "Python 3",
   "language": "python",
   "name": "python3"
  },
  "language_info": {
   "codemirror_mode": {
    "name": "ipython",
    "version": 3
   },
   "file_extension": ".py",
   "mimetype": "text/x-python",
   "name": "python",
   "nbconvert_exporter": "python",
   "pygments_lexer": "ipython3",
   "version": "3.6.4"
  }
 },
 "nbformat": 4,
 "nbformat_minor": 2
}
