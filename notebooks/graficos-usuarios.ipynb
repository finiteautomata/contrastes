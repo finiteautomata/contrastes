{
 "cells": [
  {
   "cell_type": "markdown",
   "metadata": {},
   "source": [
    "\n",
    "# Gráficos\n",
    "\n",
    "Metamos los gráficos que necesitamos en esta notebook"
   ]
  },
  {
   "cell_type": "code",
   "execution_count": 1,
   "metadata": {},
   "outputs": [],
   "source": [
    "\n",
    "%load_ext autoreload\n",
    "%autoreload 2\n",
    "\n",
    "import matplotlib.pyplot as plt\n",
    "import numpy as np\n",
    "import pandas as pd\n",
    "import contrastes\n",
    "import seaborn as sns\n",
    "import pymongo \n",
    "\n",
    "database_name = \"contrastes\"\n",
    "client = pymongo.MongoClient('localhost', 27017)\n",
    "db = client[database_name]\n",
    "\n",
    "collection = db.tweets\n",
    "\n"
   ]
  },
  {
   "cell_type": "code",
   "execution_count": 2,
   "metadata": {},
   "outputs": [
    {
     "data": {
      "text/plain": [
       "56308"
      ]
     },
     "execution_count": 2,
     "metadata": {},
     "output_type": "execute_result"
    }
   ],
   "source": [
    "users = collection.distinct(\"user_id\")\n",
    "\n",
    "len(users)"
   ]
  },
  {
   "cell_type": "code",
   "execution_count": 3,
   "metadata": {},
   "outputs": [],
   "source": [
    "counts = np.array([collection.find({\"user_id\": user_id}).count() for user_id in users])\n",
    "    "
   ]
  },
  {
   "cell_type": "code",
   "execution_count": 4,
   "metadata": {},
   "outputs": [
    {
     "name": "stdout",
     "output_type": "stream",
     "text": [
      "Terminamos => 10.0M tweets tokenizados\n",
      "CPU times: user 1min 49s, sys: 6.39 s, total: 1min 55s\n",
      "Wall time: 8min 43s\n"
     ]
    }
   ],
   "source": [
    "%%time\n",
    "from nltk.tokenize import TweetTokenizer\n",
    "import multiprocessing\n",
    "\n",
    "tokenizer = TweetTokenizer(\n",
    "    preserve_case=False,\n",
    "    reduce_len=True,\n",
    ")\n",
    "\n",
    "processing_batch = 200000\n",
    "tweet_iter = db.tweets.find().batch_size(processing_batch).limit(int(1e7))\n",
    "\n",
    "len_counts = []\n",
    "\n",
    "def get_len_tokens(text):\n",
    "    return len(tokenizer.tokenize(text))\n",
    "\n",
    "try:\n",
    "    while True:\n",
    "        next_tweets = [next(tweet_iter)['text'] for _ in range(processing_batch)]\n",
    "        with multiprocessing.Pool(4, maxtasksperchild=200) as pool:\n",
    "            new_counts = pool.map(get_len_tokens, next_tweets)\n",
    "            len_counts = np.concatenate((len_counts,new_counts))\n",
    "except StopIteration:\n",
    "    print(\"Terminamos => {}M tweets tokenizados\".format(len(len_counts) / 1e6))"
   ]
  },
  {
   "cell_type": "code",
   "execution_count": 7,
   "metadata": {},
   "outputs": [
    {
     "data": {
      "text/plain": [
       "56308"
      ]
     },
     "execution_count": 7,
     "metadata": {},
     "output_type": "execute_result"
    }
   ],
   "source": [
    "len(counts)"
   ]
  },
  {
   "cell_type": "code",
   "execution_count": 12,
   "metadata": {},
   "outputs": [],
   "source": [
    "counts = np.array(counts)"
   ]
  },
  {
   "cell_type": "code",
   "execution_count": 40,
   "metadata": {},
   "outputs": [
    {
     "data": {
      "text/plain": [
       "Text(0,0.5,'Frequency')"
      ]
     },
     "execution_count": 40,
     "metadata": {},
     "output_type": "execute_result"
    },
    {
     "data": {
      "image/png": "[encoded data removed]",
      "text/plain": [
       "<Figure size 864x216 with 2 Axes>"
      ]
     },
     "metadata": {},
     "output_type": "display_data"
    }
   ],
   "source": [
    "sns.set_style(\"whitegrid\")\n",
    "fig = plt.figure(figsize=(12, 3))\n",
    "\n",
    "plt.subplot(1, 2, 1)\n",
    "g = sns.distplot(counts[counts < 3150], norm_hist=False, kde=False)\n",
    "g.grid(True)\n",
    "\n",
    "g.set_xlabel(\"Tweets per user\")\n",
    "g.set_ylabel(\"Number of users\")\n",
    "\n",
    "plt.subplot(1, 2, 2)\n",
    "\n",
    "lens = len_counts[len_counts < 50]\n",
    "g = sns.distplot(lens, norm_hist=True, kde=False, bins=25)\n",
    "\n",
    "g.grid(True)\n",
    "\n",
    "g.set_xlabel(\"Length of tweet in words\")\n",
    "g.set_ylabel(\"Frequency\")"
   ]
  },
  {
   "cell_type": "code",
   "execution_count": 41,
   "metadata": {},
   "outputs": [],
   "source": [
    "fig.savefig(\"../output/figures/dataset_histograms.png\", bbox_inches='tight')"
   ]
  },
  {
   "cell_type": "code",
   "execution_count": null,
   "metadata": {},
   "outputs": [],
   "source": []
  }
 ],
 "metadata": {
  "kernelspec": {
   "display_name": "Python 3",
   "language": "python",
   "name": "python3"
  },
  "language_info": {
   "codemirror_mode": {
    "name": "ipython",
    "version": 3
   },
   "file_extension": ".py",
   "mimetype": "text/x-python",
   "name": "python",
   "nbconvert_exporter": "python",
   "pygments_lexer": "ipython3",
   "version": "3.6.4"
  }
 },
 "nbformat": 4,
 "nbformat_minor": 2
}
