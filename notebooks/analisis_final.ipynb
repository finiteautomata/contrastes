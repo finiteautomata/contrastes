{
 "cells": [
  {
   "cell_type": "markdown",
   "metadata": {},
   "source": [
    "# Análisis final\n",
    "\n",
    "En esta notebook, analicemos con los datos etiquetados de la academia cómo quedó cada métrica.\n",
    "\n",
    "Para ello, integraremos los datos del último etiquetado de la Academia, que es el localizado en `data/listado_definitivo_2.csv`\n"
   ]
  },
  {
   "cell_type": "code",
   "execution_count": 1,
   "metadata": {},
   "outputs": [
    {
     "name": "stdout",
     "output_type": "stream",
     "text": [
      "Populating the interactive namespace from numpy and matplotlib\n"
     ]
    },
    {
     "name": "stderr",
     "output_type": "stream",
     "text": [
      "/home/jmperez/projects/contrastes/notebooks/contrastes/processing.py:147: UserWarning: Pandas doesn't allow columns to be created via a new attribute name - see https://pandas.pydata.org/pandas-docs/stable/indexing.html#attribute-access\n",
      "  df.cant_palabras = cant_palabras\n",
      "/home/jmperez/projects/contrastes/notebooks/contrastes/processing.py:148: UserWarning: Pandas doesn't allow columns to be created via a new attribute name - see https://pandas.pydata.org/pandas-docs/stable/indexing.html#attribute-access\n",
      "  df.cant_personas = cant_personas\n"
     ]
    }
   ],
   "source": [
    "%pylab inline\n",
    "%load_ext autoreload\n",
    "%autoreload 2\n",
    "\n",
    "import pandas as pd\n",
    "import contrastes\n",
    "\n",
    "df = contrastes.read_occurrence_dataframe(\"output/listados/listado_completo.csv\")\n",
    "nuevas_etiquetadas = pd.read_csv(\"data/listado_definitivo_2.csv\")\n",
    "\n",
    "nuevas_etiquetadas.set_index(\"palabra\", inplace=True)\n"
   ]
  },
  {
   "cell_type": "markdown",
   "metadata": {},
   "source": [
    "Las que sean 0.5, las pongo como uno..."
   ]
  },
  {
   "cell_type": "code",
   "execution_count": 2,
   "metadata": {},
   "outputs": [],
   "source": [
    "df.loc[df.etiqueta == 0.5, \"etiqueta\"] = 1.0"
   ]
  },
  {
   "cell_type": "code",
   "execution_count": 3,
   "metadata": {},
   "outputs": [
    {
     "name": "stdout",
     "output_type": "stream",
     "text": [
      "Cantidad total de palabras: 136847\n",
      "Cantidad de palabras etiquetadas: 4853\n"
     ]
    }
   ],
   "source": [
    "print(\"Cantidad total de palabras: {}\".format(df.shape[0]))\n",
    "print(\"Cantidad de palabras etiquetadas: {}\".format(df.etiqueta.notna().sum()))"
   ]
  },
  {
   "cell_type": "markdown",
   "metadata": {},
   "source": [
    "Ahora, veamos sólo las 1000 primeras de cada métrica, que son las que nos importan"
   ]
  },
  {
   "cell_type": "code",
   "execution_count": 4,
   "metadata": {},
   "outputs": [
    {
     "data": {
      "text/plain": [
       "(1380, 108)"
      ]
     },
     "execution_count": 4,
     "metadata": {},
     "output_type": "execute_result"
    }
   ],
   "source": [
    "listado_total = df[(df.rank_palabras <= 1000) | (df.rank_personas <= 1000) | (df.rank_palper <= 1000)].copy()\n",
    "\n",
    "listado_total.shape"
   ]
  },
  {
   "cell_type": "markdown",
   "metadata": {},
   "source": [
    "Ok, 1380. ¿Cuántas quedan sin etiquetar?"
   ]
  },
  {
   "cell_type": "code",
   "execution_count": 5,
   "metadata": {},
   "outputs": [
    {
     "name": "stdout",
     "output_type": "stream",
     "text": [
      "Faltan etiquetar 460 palabras\n",
      "De estas, 22 son lugares\n"
     ]
    }
   ],
   "source": [
    "faltantes = listado_total[listado_total.etiqueta.isna()]\n",
    "\n",
    "print(\"Faltan etiquetar {} palabras\".format(faltantes.shape[0]))\n",
    "print(\"De estas, {} son lugares\".format(sum(faltantes.es_lugar)))"
   ]
  },
  {
   "cell_type": "markdown",
   "metadata": {},
   "source": [
    "¿Y cuantas tenemos en el nuevo etiquetado?"
   ]
  },
  {
   "cell_type": "code",
   "execution_count": 6,
   "metadata": {},
   "outputs": [
    {
     "data": {
      "text/plain": [
       "(460, 4)"
      ]
     },
     "execution_count": 6,
     "metadata": {},
     "output_type": "execute_result"
    }
   ],
   "source": [
    "nuevas_etiquetadas.shape"
   ]
  },
  {
   "cell_type": "markdown",
   "metadata": {},
   "source": [
    "¿Están todas?"
   ]
  },
  {
   "cell_type": "code",
   "execution_count": 7,
   "metadata": {},
   "outputs": [
    {
     "data": {
      "text/plain": [
       "Index([], dtype='object', name='palabra')"
      ]
     },
     "execution_count": 7,
     "metadata": {},
     "output_type": "execute_result"
    }
   ],
   "source": [
    "faltantes.index.difference(nuevas_etiquetadas.index)"
   ]
  },
  {
   "cell_type": "markdown",
   "metadata": {},
   "source": [
    "Así parece, están todas, iupi!"
   ]
  },
  {
   "cell_type": "code",
   "execution_count": 8,
   "metadata": {},
   "outputs": [],
   "source": [
    "df.loc[faltantes.index, \"etiqueta\"] = nuevas_etiquetadas[\"candidata\"].astype(\"float64\")\n",
    "listado_total.loc[faltantes.index, \"etiqueta\"] = nuevas_etiquetadas[\"candidata\"].astype(\"float64\")"
   ]
  },
  {
   "cell_type": "code",
   "execution_count": 9,
   "metadata": {},
   "outputs": [
    {
     "data": {
      "text/plain": [
       "((1000, 108), (1000, 108), (1000, 108))"
      ]
     },
     "execution_count": 9,
     "metadata": {},
     "output_type": "execute_result"
    }
   ],
   "source": [
    "listado_palabras = listado_total[listado_total.rank_palabras <= 1000]\n",
    "listado_personas = listado_total[listado_total.rank_personas <= 1000]\n",
    "listado_palper = listado_total[listado_total.rank_palper <= 1000]\n",
    "listado_palabras.shape, listado_personas.shape, listado_palper.shape"
   ]
  },
  {
   "cell_type": "code",
   "execution_count": 10,
   "metadata": {},
   "outputs": [
    {
     "name": "stdout",
     "output_type": "stream",
     "text": [
      "Porcentaje palabras          = 21.90%\n",
      "Porcentaje personas          = 30.20%\n",
      "Porcentaje palabras-personas = 25.30%\n"
     ]
    }
   ],
   "source": [
    "p_palabras = listado_palabras.etiqueta.mean()\n",
    "p_personas = listado_personas.etiqueta.mean()\n",
    "p_palper = listado_palper.etiqueta.mean()\n",
    "\n",
    "print(\"Porcentaje palabras          = {:.2f}%\".format(p_palabras*100))\n",
    "print(\"Porcentaje personas          = {:.2f}%\".format(p_personas*100))\n",
    "print(\"Porcentaje palabras-personas = {:.2f}%\".format(p_palper*100))\n"
   ]
  },
  {
   "cell_type": "markdown",
   "metadata": {},
   "source": [
    "La mejor métrica para esto quedó en contar personas"
   ]
  },
  {
   "cell_type": "code",
   "execution_count": 25,
   "metadata": {},
   "outputs": [
    {
     "data": {
      "text/plain": [
       "2548"
      ]
     },
     "execution_count": 25,
     "metadata": {},
     "output_type": "execute_result"
    }
   ],
   "source": [
    "etiquetadas = df[df.etiqueta.notna()]\n",
    "\n",
    "(etiquetadas.rank_personas <= 5000).sum()"
   ]
  },
  {
   "cell_type": "markdown",
   "metadata": {},
   "source": [
    "**Pregunta**: Me genera confusión es esto: ¿por qué quedaron sólo 2.5K etiquetadas de las 5000 primeras? :-\\\n",
    "\n",
    "**Respuesta**: Es que simplificamos bastante la métrica!"
   ]
  },
  {
   "cell_type": "code",
   "execution_count": null,
   "metadata": {},
   "outputs": [],
   "source": []
  }
 ],
 "metadata": {
  "kernelspec": {
   "display_name": "Python 3",
   "language": "python",
   "name": "python3"
  },
  "language_info": {
   "codemirror_mode": {
    "name": "ipython",
    "version": 3
   },
   "file_extension": ".py",
   "mimetype": "text/x-python",
   "name": "python",
   "nbconvert_exporter": "python",
   "pygments_lexer": "ipython3",
   "version": "3.6.4"
  }
 },
 "nbformat": 4,
 "nbformat_minor": 2
}
