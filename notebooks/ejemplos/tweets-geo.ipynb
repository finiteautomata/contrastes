{
 "cells": [
  {
   "cell_type": "markdown",
   "metadata": {},
   "source": [
    "# Tweets con Geolocalización\n",
    "\n",
    "En esta notebook, veremos tweets con geolocalización. \n",
    "\n",
    "Primero, veamos qué datos tenemos nosotros...\n"
   ]
  },
  {
   "cell_type": "code",
   "execution_count": 1,
   "metadata": {},
   "outputs": [],
   "source": [
    "%matplotlib inline\n",
    "%load_ext autoreload\n",
    "%autoreload 2\n",
    "import os\n",
    "\n",
    "path_to_tweets = os.path.expanduser(\"~/projects/corpora/tweets_argentinos/\")"
   ]
  },
  {
   "cell_type": "code",
   "execution_count": 2,
   "metadata": {},
   "outputs": [
    {
     "data": {
      "text/plain": [
       "'/home/jmperez/projects/corpora/tweets_argentinos/larioja/029.json'"
      ]
     },
     "execution_count": 2,
     "metadata": {},
     "output_type": "execute_result"
    }
   ],
   "source": [
    "import glob\n",
    "\n",
    "province_dirs = glob.glob(os.path.join(path_to_tweets, \"**/\"))\n",
    "tweet_files = glob.glob(os.path.join(province_dirs[0], \"*.json\"))\n",
    "\n",
    "tweet_files[0]"
   ]
  },
  {
   "cell_type": "markdown",
   "metadata": {},
   "source": [
    "# Twitter Geolocation\n",
    "\n",
    "Sacado [de acá](https://developer.twitter.com/en/docs/tutorials/filtering-tweets-by-location.html)\n",
    "\n",
    "When working with Tweet data, there are two classes of geographical metadata:\n",
    "\n",
    "- **Tweet location** - Available when user shares location at time of Tweet.\n",
    "- **Account Location** - Based on the ‘home’ location provided by user in their public profile. This is a free-form character field and may or may not contain metadata that can be geo-referenced.\n",
    "\n"
   ]
  },
  {
   "cell_type": "code",
   "execution_count": 3,
   "metadata": {},
   "outputs": [],
   "source": [
    "import json\n",
    "\n",
    "with open(tweet_files[0]) as f:\n",
    "    tweets = json.load(f)"
   ]
  },
  {
   "cell_type": "code",
   "execution_count": 4,
   "metadata": {},
   "outputs": [
    {
     "name": "stdout",
     "output_type": "stream",
     "text": [
      "tweets con place = 3356\n",
      "tweets con point = 930\n",
      "tweets con ambos = 742\n"
     ]
    }
   ],
   "source": [
    "tweets_with_place = []\n",
    "tweets_with_point = []\n",
    "\n",
    "tweets_with_both = []\n",
    "\n",
    "for tweet in tweets:\n",
    "    has_place = False\n",
    "    if 'place' in tweet and tweet['place'] is not None:\n",
    "        tweets_with_place.append(tweet)\n",
    "        has_place = True\n",
    "    if 'geo' in tweet and tweet['geo'] is not None:\n",
    "        tweets_with_point.append(tweet)\n",
    "        \n",
    "        if has_place:\n",
    "            tweets_with_both.append(tweet)\n",
    "            \n",
    "print(\"tweets con place = {}\".format(len(tweets_with_place)))\n",
    "print(\"tweets con point = {}\".format(len(tweets_with_point)))\n",
    "print(\"tweets con ambos = {}\".format(len(tweets_with_both)))"
   ]
  },
  {
   "cell_type": "code",
   "execution_count": 5,
   "metadata": {},
   "outputs": [
    {
     "data": {
      "text/plain": [
       "3356"
      ]
     },
     "execution_count": 5,
     "metadata": {},
     "output_type": "execute_result"
    }
   ],
   "source": [
    "len(tweets_with_place)"
   ]
  },
  {
   "cell_type": "code",
   "execution_count": 6,
   "metadata": {},
   "outputs": [
    {
     "name": "stdout",
     "output_type": "stream",
     "text": [
      "{'full_name': 'La Rioja, Argentina', 'url': 'https://api.twitter.com/1.1/geo/id/21c5dc2e9bf656f9.json', 'country': 'Argentina', 'place_type': 'admin', 'bounding_box': {'type': 'Polygon', 'coordinates': [[[-69.6619896, -32.002537], [-65.413716, -32.002537], [-65.413716, -27.710805], [-69.6619896, -27.710805]]]}, 'contained_within': [], 'country_code': 'AR', 'attributes': {}, 'id': '21c5dc2e9bf656f9', 'name': 'La Rioja'}\n",
      "################################################################################ \n",
      "\n",
      "\n",
      "\n",
      "{'full_name': 'La Rioja, Argentina', 'url': 'https://api.twitter.com/1.1/geo/id/21c5dc2e9bf656f9.json', 'country': 'Argentina', 'place_type': 'admin', 'bounding_box': {'type': 'Polygon', 'coordinates': [[[-69.6619896, -32.002537], [-65.413716, -32.002537], [-65.413716, -27.710805], [-69.6619896, -27.710805]]]}, 'contained_within': [], 'country_code': 'AR', 'attributes': {}, 'id': '21c5dc2e9bf656f9', 'name': 'La Rioja'}\n",
      "################################################################################ \n",
      "\n",
      "\n",
      "\n",
      "{'full_name': 'La Rioja, Argentina', 'url': 'https://api.twitter.com/1.1/geo/id/21c5dc2e9bf656f9.json', 'country': 'Argentina', 'place_type': 'admin', 'bounding_box': {'type': 'Polygon', 'coordinates': [[[-69.6619896, -32.002537], [-65.413716, -32.002537], [-65.413716, -27.710805], [-69.6619896, -27.710805]]]}, 'contained_within': [], 'country_code': 'AR', 'attributes': {}, 'id': '21c5dc2e9bf656f9', 'name': 'La Rioja'}\n",
      "################################################################################ \n",
      "\n",
      "\n",
      "\n",
      "{'full_name': 'La Rioja, Argentina', 'url': 'https://api.twitter.com/1.1/geo/id/21c5dc2e9bf656f9.json', 'country': 'Argentina', 'place_type': 'admin', 'bounding_box': {'type': 'Polygon', 'coordinates': [[[-69.6619896, -32.002537], [-65.413716, -32.002537], [-65.413716, -27.710805], [-69.6619896, -27.710805]]]}, 'contained_within': [], 'country_code': 'AR', 'attributes': {}, 'id': '21c5dc2e9bf656f9', 'name': 'La Rioja'}\n",
      "################################################################################ \n",
      "\n",
      "\n",
      "\n",
      "{'full_name': 'La Rioja, Argentina', 'url': 'https://api.twitter.com/1.1/geo/id/21c5dc2e9bf656f9.json', 'country': 'Argentina', 'place_type': 'admin', 'bounding_box': {'type': 'Polygon', 'coordinates': [[[-69.6619896, -32.002537], [-65.413716, -32.002537], [-65.413716, -27.710805], [-69.6619896, -27.710805]]]}, 'contained_within': [], 'country_code': 'AR', 'attributes': {}, 'id': '21c5dc2e9bf656f9', 'name': 'La Rioja'}\n",
      "################################################################################ \n",
      "\n",
      "\n",
      "\n",
      "{'full_name': 'La Rioja, Argentina', 'url': 'https://api.twitter.com/1.1/geo/id/21c5dc2e9bf656f9.json', 'country': 'Argentina', 'place_type': 'admin', 'bounding_box': {'type': 'Polygon', 'coordinates': [[[-69.6619896, -32.002537], [-65.413716, -32.002537], [-65.413716, -27.710805], [-69.6619896, -27.710805]]]}, 'contained_within': [], 'country_code': 'AR', 'attributes': {}, 'id': '21c5dc2e9bf656f9', 'name': 'La Rioja'}\n",
      "################################################################################ \n",
      "\n",
      "\n",
      "\n",
      "{'full_name': 'La Rioja, Argentina', 'url': 'https://api.twitter.com/1.1/geo/id/21c5dc2e9bf656f9.json', 'country': 'Argentina', 'place_type': 'admin', 'bounding_box': {'type': 'Polygon', 'coordinates': [[[-69.6619896, -32.002537], [-65.413716, -32.002537], [-65.413716, -27.710805], [-69.6619896, -27.710805]]]}, 'contained_within': [], 'country_code': 'AR', 'attributes': {}, 'id': '21c5dc2e9bf656f9', 'name': 'La Rioja'}\n",
      "################################################################################ \n",
      "\n",
      "\n",
      "\n",
      "{'full_name': 'La Rioja, Argentina', 'url': 'https://api.twitter.com/1.1/geo/id/21c5dc2e9bf656f9.json', 'country': 'Argentina', 'place_type': 'admin', 'bounding_box': {'type': 'Polygon', 'coordinates': [[[-69.6619896, -32.002537], [-65.413716, -32.002537], [-65.413716, -27.710805], [-69.6619896, -27.710805]]]}, 'contained_within': [], 'country_code': 'AR', 'attributes': {}, 'id': '21c5dc2e9bf656f9', 'name': 'La Rioja'}\n",
      "################################################################################ \n",
      "\n",
      "\n",
      "\n",
      "{'full_name': 'La Rioja, Argentina', 'url': 'https://api.twitter.com/1.1/geo/id/21c5dc2e9bf656f9.json', 'country': 'Argentina', 'place_type': 'admin', 'bounding_box': {'type': 'Polygon', 'coordinates': [[[-69.6619896, -32.002537], [-65.413716, -32.002537], [-65.413716, -27.710805], [-69.6619896, -27.710805]]]}, 'contained_within': [], 'country_code': 'AR', 'attributes': {}, 'id': '21c5dc2e9bf656f9', 'name': 'La Rioja'}\n",
      "################################################################################ \n",
      "\n",
      "\n",
      "\n",
      "{'full_name': 'La Rioja, Argentina', 'url': 'https://api.twitter.com/1.1/geo/id/21c5dc2e9bf656f9.json', 'country': 'Argentina', 'place_type': 'admin', 'bounding_box': {'type': 'Polygon', 'coordinates': [[[-69.6619896, -32.002537], [-65.413716, -32.002537], [-65.413716, -27.710805], [-69.6619896, -27.710805]]]}, 'contained_within': [], 'country_code': 'AR', 'attributes': {}, 'id': '21c5dc2e9bf656f9', 'name': 'La Rioja'}\n",
      "################################################################################ \n",
      "\n",
      "\n",
      "\n"
     ]
    }
   ],
   "source": [
    "for tweet in tweets_with_place[:10]:\n",
    "    print(tweet['place'])\n",
    "    print(\"#\" * 80, '\\n'*3)"
   ]
  },
  {
   "cell_type": "code",
   "execution_count": null,
   "metadata": {},
   "outputs": [],
   "source": []
  }
 ],
 "metadata": {
  "kernelspec": {
   "display_name": "Python 3",
   "language": "python",
   "name": "python3"
  },
  "language_info": {
   "codemirror_mode": {
    "name": "ipython",
    "version": 3
   },
   "file_extension": ".py",
   "mimetype": "text/x-python",
   "name": "python",
   "nbconvert_exporter": "python",
   "pygments_lexer": "ipython3",
   "version": "3.6.4"
  }
 },
 "nbformat": 4,
 "nbformat_minor": 2
}
