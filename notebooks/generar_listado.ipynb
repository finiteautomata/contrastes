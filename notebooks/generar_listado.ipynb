{
 "cells": [
  {
   "cell_type": "markdown",
   "metadata": {},
   "source": [
    "# Notebook de prueba: Generar listado con merge de los ya etiquetados\n"
   ]
  },
  {
   "cell_type": "code",
   "execution_count": 2,
   "metadata": {},
   "outputs": [
    {
     "name": "stdout",
     "output_type": "stream",
     "text": [
      "Populating the interactive namespace from numpy and matplotlib\n"
     ]
    },
    {
     "name": "stderr",
     "output_type": "stream",
     "text": [
      "/home/marat/projects/contrastes/notebooks/contrastes/processing.py:147: UserWarning: Pandas doesn't allow columns to be created via a new attribute name - see https://pandas.pydata.org/pandas-docs/stable/indexing.html#attribute-access\n",
      "  df.cant_palabras = cant_palabras\n",
      "/home/marat/projects/contrastes/notebooks/contrastes/processing.py:148: UserWarning: Pandas doesn't allow columns to be created via a new attribute name - see https://pandas.pydata.org/pandas-docs/stable/indexing.html#attribute-access\n",
      "  df.cant_personas = cant_personas\n"
     ]
    }
   ],
   "source": [
    "%pylab inline\n",
    "%load_ext autoreload\n",
    "%autoreload 2\n",
    "\n",
    "import pandas as pd\n",
    "import contrastes\n",
    "\n",
    "entire_df = pd.read_csv(\"data/listado_definitivo.csv\", index_col=0)\n",
    "entire_df[\"Palabra Candidata\"] = entire_df[\"Palabra Candidata\"]\n",
    "\n",
    "\n",
    "df = contrastes.read_occurrence_dataframe(\"output/provinces_words.csv\")"
   ]
  },
  {
   "cell_type": "code",
   "execution_count": 22,
   "metadata": {},
   "outputs": [
    {
     "data": {
      "text/plain": [
       " \n",
       "gadea            NaN\n",
       "compi            NaN\n",
       "cuis             NaN\n",
       "cindi            NaN\n",
       "amigueros        NaN\n",
       "aventin          NaN\n",
       "manzo            NaN\n",
       "urbanismo        NaN\n",
       "qliado           NaN\n",
       "alte             NaN\n",
       "lluevas          NaN\n",
       "virgencita       NaN\n",
       "capitalino       NaN\n",
       "ulloa            NaN\n",
       "chacha           NaN\n",
       "shito            NaN\n",
       "cargooo          NaN\n",
       "carrara          NaN\n",
       "acoples          NaN\n",
       "alika            NaN\n",
       "talleristas      NaN\n",
       "mazo             NaN\n",
       "antiii           NaN\n",
       "enmarcados       NaN\n",
       "elisa            NaN\n",
       "dichosa          NaN\n",
       "asfaltado        NaN\n",
       "culeada          NaN\n",
       "neme             NaN\n",
       "aguantatela      NaN\n",
       "                ... \n",
       "neni             NaN\n",
       "tier             NaN\n",
       "abrumado         NaN\n",
       "legolas          NaN\n",
       "indignadísima    NaN\n",
       "arraial          NaN\n",
       "tum              NaN\n",
       "valdez           NaN\n",
       "mentirosoo       NaN\n",
       "schultz          NaN\n",
       "mj               NaN\n",
       "fresquitaaa      NaN\n",
       "caprichitos      NaN\n",
       "raviolada        NaN\n",
       "pinnnta          NaN\n",
       "miamooor         NaN\n",
       "puerko           NaN\n",
       "patinaje         NaN\n",
       "eeepaaa          NaN\n",
       "casha            NaN\n",
       "motociclistas    NaN\n",
       "danes            NaN\n",
       "chuliii          NaN\n",
       "soñarrr          NaN\n",
       "hacedores        NaN\n",
       "bancabas         NaN\n",
       "ddjj             NaN\n",
       "trompa           NaN\n",
       "mhz              NaN\n",
       "bordón           NaN\n",
       "Name: Palabra Candidata, Length: 4986, dtype: object"
      ]
     },
     "execution_count": 22,
     "metadata": {},
     "output_type": "execute_result"
    }
   ],
   "source": [
    "label = entire_df[\"Palabra Candidata\"].copy()\n",
    "label[label == \"0,5\"] = \"0.5\"\n",
    "label.astype(\"float\")"
   ]
  },
  {
   "cell_type": "code",
   "execution_count": 3,
   "metadata": {},
   "outputs": [],
   "source": [
    "df[\"etiquetada\"] = entire_df[\"Palabra Candidata\"]\n",
    "df.loc[df[\"etiquetada\"] == \"0,5\", \"etiquetada\"] = \"0.5\"\n",
    "df[\"etiquetada\"] = df[\"etiquetada\"].astype(float)"
   ]
  },
  {
   "cell_type": "code",
   "execution_count": 5,
   "metadata": {},
   "outputs": [
    {
     "data": {
      "text/plain": [
       "array([nan, 0. , 1. , 0.5])"
      ]
     },
     "execution_count": 5,
     "metadata": {},
     "output_type": "execute_result"
    }
   ],
   "source": [
    "df[\"etiquetada\"].unique()"
   ]
  }
 ],
 "metadata": {
  "kernelspec": {
   "display_name": "Python 3",
   "language": "python",
   "name": "python3"
  },
  "language_info": {
   "codemirror_mode": {
    "name": "ipython",
    "version": 3
   },
   "file_extension": ".py",
   "mimetype": "text/x-python",
   "name": "python",
   "nbconvert_exporter": "python",
   "pygments_lexer": "ipython3",
   "version": "3.6.4"
  }
 },
 "nbformat": 4,
 "nbformat_minor": 2
}
