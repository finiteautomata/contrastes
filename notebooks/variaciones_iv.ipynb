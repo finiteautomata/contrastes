{
 "cells": [
  {
   "cell_type": "markdown",
   "metadata": {},
   "source": [
    "# Variaciones Information Value\n",
    "\n",
    "En esta notebook vemos las distintas variantes de Information Value y cuánto laburo extra demandarían"
   ]
  },
  {
   "cell_type": "code",
   "execution_count": 1,
   "metadata": {},
   "outputs": [],
   "source": [
    "%matplotlib inline\n",
    "\n",
    "import pandas as pd\n",
    "\n",
    "analizadas = pd.read_csv(\"../data/listado_definitivo.csv\")\n",
    "analizadas.set_index(' ', inplace=True)\n",
    "analizadas[\"candidata\"] = analizadas[\"Palabra Candidata\"]"
   ]
  },
  {
   "cell_type": "code",
   "execution_count": 2,
   "metadata": {},
   "outputs": [
    {
     "name": "stdout",
     "output_type": "stream",
     "text": [
      "Tenemos 5014 palabras analizadas\n"
     ]
    }
   ],
   "source": [
    "palabras_ya_analizadas = analizadas[analizadas['candidata'].notna()]\n",
    "\n",
    "print(\"Tenemos {} palabras analizadas\".format(palabras_ya_analizadas.shape[0]))"
   ]
  },
  {
   "cell_type": "markdown",
   "metadata": {},
   "source": [
    "## Listado de Palabras\n",
    "\n",
    "Vamos a regenerar el listado completo de palabras. Y calculemos cuánto falta trabajar si hacemos de nuevo los cálculos"
   ]
  },
  {
   "cell_type": "code",
   "execution_count": 3,
   "metadata": {},
   "outputs": [
    {
     "name": "stdout",
     "output_type": "stream",
     "text": [
      "columnas de palabras => ['buenosaires_ocurrencias', 'catamarca_ocurrencias', 'chaco_ocurrencias', 'chubut_ocurrencias', 'cordoba_ocurrencias', 'corrientes_ocurrencias', 'entrerios_ocurrencias', 'formosa_ocurrencias', 'jujuy_ocurrencias', 'lapampa_ocurrencias', 'larioja_ocurrencias', 'mendoza_ocurrencias', 'misiones_ocurrencias', 'neuquen_ocurrencias', 'rionegro_ocurrencias', 'salta_ocurrencias', 'sanjuan_ocurrencias', 'sanluis_ocurrencias', 'santacruz_ocurrencias', 'santafe_ocurrencias', 'santiago_ocurrencias', 'tierradelfuego_ocurrencias', 'tucuman_ocurrencias']\n",
      "\n",
      "columnas de usuarios => ['buenosaires_usuarios', 'catamarca_usuarios', 'chaco_usuarios', 'chubut_usuarios', 'cordoba_usuarios', 'corrientes_usuarios', 'entrerios_usuarios', 'formosa_usuarios', 'jujuy_usuarios', 'lapampa_usuarios', 'larioja_usuarios', 'mendoza_usuarios', 'misiones_usuarios', 'neuquen_usuarios', 'rionegro_usuarios', 'salta_usuarios', 'sanjuan_usuarios', 'sanluis_usuarios', 'santacruz_usuarios', 'santafe_usuarios', 'santiago_usuarios', 'tierradelfuego_usuarios', 'tucuman_usuarios']\n"
     ]
    }
   ],
   "source": [
    "import re\n",
    "\n",
    "df = pd.read_csv(\"../output/provinces_words.csv\", index_col=0)\n",
    "\n",
    "cant_palabras = [c for c in df.columns if re.match(r'.*ocurrencias$', c)]\n",
    "cant_personas = [c for c in df.columns if re.match(r'.*usuarios$', c)]\n",
    "\n",
    "print(\"columnas de palabras => {}\\n\".format(cant_palabras))\n",
    "print(\"columnas de usuarios => {}\".format(cant_personas))\n",
    "\n",
    "df[\"cant_provincias\"] = (df[cant_palabras] > 0).sum(axis=1)\n",
    "df[\"cant_palabra\"] = df[cant_palabras].sum(axis=1)\n",
    "df[\"cant_usuarios\"] = df[cant_personas].sum(axis=1)"
   ]
  },
  {
   "cell_type": "code",
   "execution_count": 4,
   "metadata": {},
   "outputs": [],
   "source": [
    "df = df[(df.cant_palabra >= 40) & (df.cant_usuarios >= 25) ]"
   ]
  },
  {
   "cell_type": "markdown",
   "metadata": {},
   "source": [
    "Calculemos el valor de la información de cada palabra."
   ]
  },
  {
   "cell_type": "code",
   "execution_count": 5,
   "metadata": {},
   "outputs": [],
   "source": [
    "from scipy.stats import entropy\n",
    "import numpy as np\n",
    "\n",
    "def calculate_information_value(df, occurrence_column, columns):\n",
    "    entr = df[columns].apply(entropy, axis=1, raw=True)\n",
    "    delta = np.log(23) - entr\n",
    "    \n",
    "    log_occ = np.log(df[occurrence_column])\n",
    "    norm_p = log_occ / log_occ.max()\n",
    "    \n",
    "    return norm_p * delta\n",
    "    \n",
    "df[\"ival_palabras\"] = calculate_information_value(df, \"cant_palabra\", cant_palabras)\n",
    "df[\"ival_personas\"] = calculate_information_value(df, \"cant_usuarios\", cant_personas)\n",
    "df[\"ival\"] = df[\"ival_palabras\"] * df[\"ival_personas\"]\n",
    "\n",
    "df_personas = df.sort_values(\"ival_personas\", ascending=False)\n",
    "df_palabras = df.sort_values(\"ival_palabras\", ascending=False)\n",
    "df_pp = df.sort_values(\"ival\", ascending=False)\n"
   ]
  },
  {
   "cell_type": "markdown",
   "metadata": {},
   "source": [
    "Cambiamos ligeramente el cálculo de la normalización y del IV, contemplando el orden de personas\n",
    "\n",
    "¿De las primeras 1000, cuántas no están en las ya analizadas?"
   ]
  },
  {
   "cell_type": "code",
   "execution_count": 6,
   "metadata": {},
   "outputs": [],
   "source": [
    "def calcular_porcentaje_candidatas(palabras):\n",
    "    subconj_analizado = palabras.index.intersection(palabras_ya_analizadas.index)\n",
    "    candidatas = (analizadas.loc[subconj_analizado]['candidata'] != '0').sum()\n",
    "    total = subconj_analizado.shape[0]\n",
    "    print(\"Palabras candidatas = {}\".format(candidatas))\n",
    "    print(\"Total analizadas actualmente = {}\".format(total))\n",
    "    \n",
    "    return candidatas / total\n",
    "\n",
    "def analizar_palabras_restantes(n, dataframes):\n",
    "    total = 0\n",
    "    todas_las_palabras = set()\n",
    "    print(\"=\"* 80)\n",
    "    print(\"Primeras {} palabras\".format(n))\n",
    "    \n",
    "    for nombre, this_df in dataframes.items(): \n",
    "        print('#'*40)\n",
    "        print(\"Métrica: {}\".format(nombre))\n",
    "        palabras = this_df.iloc[:n]\n",
    "        \n",
    "        metrica = calcular_porcentaje_candidatas(palabras)\n",
    "        restantes = {p for p in palabras.index if p not in palabras_ya_analizadas.index}\n",
    "        total+=len(restantes)\n",
    "        todas_las_palabras = todas_las_palabras.union(restantes)\n",
    "        print(\"Faltan etiquetar {} palabras\".format(len(restantes)))\n",
    "        print(\"Porcentaje candidatas = {}\".format(metrica))\n",
    "    print(\"Faltan etiquetar (sin repeticiones) = {}\".format(len(todas_las_palabras)))"
   ]
  },
  {
   "cell_type": "code",
   "execution_count": 7,
   "metadata": {},
   "outputs": [
    {
     "name": "stdout",
     "output_type": "stream",
     "text": [
      "================================================================================\n",
      "Primeras 1000 palabras\n",
      "########################################\n",
      "Métrica: Palabras\n",
      "Palabras candidatas = 176\n",
      "Total analizadas actualmente = 787\n",
      "Faltan etiquetar 213 palabras\n",
      "Porcentaje candidatas = 0.22363405336721728\n",
      "########################################\n",
      "Métrica: Personas\n",
      "Palabras candidatas = 177\n",
      "Total analizadas actualmente = 662\n",
      "Faltan etiquetar 338 palabras\n",
      "Porcentaje candidatas = 0.2673716012084592\n",
      "########################################\n",
      "Métrica: PalPer\n",
      "Palabras candidatas = 176\n",
      "Total analizadas actualmente = 745\n",
      "Faltan etiquetar 255 palabras\n",
      "Porcentaje candidatas = 0.23624161073825503\n",
      "Faltan etiquetar (sin repeticiones) = 460\n",
      "================================================================================\n",
      "Primeras 5000 palabras\n",
      "########################################\n",
      "Métrica: Personas\n",
      "Palabras candidatas = 753\n",
      "Total analizadas actualmente = 2141\n",
      "Faltan etiquetar 2859 palabras\n",
      "Porcentaje candidatas = 0.3517048108360579\n",
      "########################################\n",
      "Métrica: PalPer\n",
      "Palabras candidatas = 749\n",
      "Total analizadas actualmente = 2241\n",
      "Faltan etiquetar 2759 palabras\n",
      "Porcentaje candidatas = 0.33422579205711733\n",
      "Faltan etiquetar (sin repeticiones) = 3014\n"
     ]
    }
   ],
   "source": [
    "dataframes = {\n",
    "    \"Palabras\": df_palabras, \n",
    "    \"Personas\": df_personas, \n",
    "    \"PalPer\": df_pp,\n",
    "}\n",
    "analizar_palabras_restantes(1000, dataframes)\n",
    "dataframes = {\n",
    "    \"Personas\": df_personas, \n",
    "    \"PalPer\": df_pp,\n",
    "}\n",
    "\n",
    "analizar_palabras_restantes(5000, dataframes)\n"
   ]
  },
  {
   "cell_type": "markdown",
   "metadata": {},
   "source": [
    "## Sin usar el log(23)"
   ]
  },
  {
   "cell_type": "code",
   "execution_count": 8,
   "metadata": {},
   "outputs": [],
   "source": [
    "from contrastes.information_value import shuffled_entropy\n",
    "np.random.seed(seed=1)\n",
    "\n",
    "fn = lambda ws: shuffled_entropy(int(ws), len(cant_palabras))\n",
    "\n",
    "df[\"sh_entropy_palabras\"] = df.cant_palabra.apply(fn)\n",
    "df[\"sh_entropy_personas\"] = df.cant_usuarios.apply(fn)\n",
    "\n",
    "df[\"entropy_palabras\"] = df[cant_palabras].apply(entropy, axis=1, raw=True)\n",
    "df[\"entropy_personas\"] = df[cant_personas].apply(entropy, axis=1, raw=True)\n",
    "\n",
    "df[\"delta_palabras\"] = df[\"sh_entropy_palabras\"] - df[\"entropy_palabras\"]\n",
    "df[\"delta_personas\"] = df[\"sh_entropy_personas\"] - df[\"entropy_personas\"]\n",
    "\n",
    "df[\"log_cantidad\"] = np.log(df.cant_palabra)\n",
    "df[\"log_personas\"] = np.log(df.cant_usuarios)\n",
    "\n",
    "df[\"norm_cantidad\"] = df[\"log_cantidad\"] / df[\"log_cantidad\"].max() \n",
    "df[\"norm_personas\"] = df[\"log_personas\"] / df[\"log_personas\"].max()\n",
    "\n",
    "df[\"ival_palabras\"] = df.norm_cantidad * df.delta_palabras\n",
    "df[\"ival_personas\"] = df.norm_personas * df.delta_personas\n",
    "df[\"ival\"] = df[\"ival_palabras\"] * df[\"ival_personas\"]\n",
    "\n",
    "df_personas = df.sort_values(\"ival_personas\", ascending=False)\n",
    "df_palabras = df.sort_values(\"ival_palabras\", ascending=False)\n",
    "df_pp = df.sort_values(\"ival\", ascending=False)"
   ]
  },
  {
   "cell_type": "code",
   "execution_count": 9,
   "metadata": {},
   "outputs": [
    {
     "name": "stdout",
     "output_type": "stream",
     "text": [
      "================================================================================\n",
      "Primeras 1000 palabras\n",
      "########################################\n",
      "Métrica: Palabras\n",
      "Palabras candidatas = 178\n",
      "Total analizadas actualmente = 794\n",
      "Faltan etiquetar 206 palabras\n",
      "Porcentaje candidatas = 0.22418136020151133\n",
      "########################################\n",
      "Métrica: Personas\n",
      "Palabras candidatas = 196\n",
      "Total analizadas actualmente = 697\n",
      "Faltan etiquetar 303 palabras\n",
      "Porcentaje candidatas = 0.2812051649928264\n",
      "########################################\n",
      "Métrica: PalPer\n",
      "Palabras candidatas = 196\n",
      "Total analizadas actualmente = 776\n",
      "Faltan etiquetar 224 palabras\n",
      "Porcentaje candidatas = 0.25257731958762886\n",
      "Faltan etiquetar (sin repeticiones) = 427\n",
      "================================================================================\n",
      "Primeras 5000 palabras\n",
      "########################################\n",
      "Métrica: Personas\n",
      "Palabras candidatas = 877\n",
      "Total analizadas actualmente = 2328\n",
      "Faltan etiquetar 2672 palabras\n",
      "Porcentaje candidatas = 0.37671821305841924\n",
      "########################################\n",
      "Métrica: PalPer\n",
      "Palabras candidatas = 844\n",
      "Total analizadas actualmente = 2405\n",
      "Faltan etiquetar 2595 palabras\n",
      "Porcentaje candidatas = 0.35093555093555096\n",
      "Faltan etiquetar (sin repeticiones) = 2832\n"
     ]
    }
   ],
   "source": [
    "dataframes = {\n",
    "    \"Palabras\": df_palabras, \n",
    "    \"Personas\": df_personas, \n",
    "    \"PalPer\": df_pp\n",
    "}\n",
    "analizar_palabras_restantes(1000, dataframes)\n",
    "dataframes = {\n",
    "    \"Personas\": df_personas, \n",
    "    \"PalPer\": df_pp,\n",
    "    \n",
    "}\n",
    "\n",
    "analizar_palabras_restantes(5000, dataframes)\n"
   ]
  },
  {
   "cell_type": "markdown",
   "metadata": {},
   "source": [
    "## Usando cálculo con normalización \"vieja\"\n"
   ]
  },
  {
   "cell_type": "code",
   "execution_count": 10,
   "metadata": {},
   "outputs": [],
   "source": [
    "np.random.seed(seed=1)\n",
    "\n",
    "fn = lambda ws: shuffled_entropy(int(ws), len(cant_palabras))\n",
    "\n",
    "df[\"sh_entropy_palabras\"] = df.cant_palabra.apply(fn)\n",
    "df[\"sh_entropy_personas\"] = df.cant_usuarios.apply(fn)\n"
   ]
  },
  {
   "cell_type": "code",
   "execution_count": 11,
   "metadata": {},
   "outputs": [],
   "source": [
    "df[\"entropy_palabras\"] = df[cant_palabras].apply(entropy, axis=1, raw=True)\n",
    "df[\"entropy_personas\"] = df[cant_personas].apply(entropy, axis=1, raw=True)\n",
    "\n",
    "df[\"delta_palabras\"] = df[\"sh_entropy_palabras\"] - df[\"entropy_palabras\"]\n",
    "df[\"delta_personas\"] = df[\"sh_entropy_personas\"] - df[\"entropy_personas\"]\n",
    "\n",
    "df[\"log_cantidad\"] = np.log(df.cant_palabra)\n",
    "df[\"log_personas\"] = np.log(df.cant_usuarios)\n",
    "\n",
    "df[\"norm_cantidad\"] = (df[\"log_cantidad\"] - df[\"log_cantidad\"].min()) \\\n",
    "    / (df[\"log_cantidad\"].max() - df[\"log_cantidad\"].min())\n",
    "df[\"norm_personas\"] = (df[\"log_personas\"] - df[\"log_personas\"].min()) \\\n",
    "    / (df[\"log_personas\"].max() - df[\"log_personas\"].min())\n",
    "\n",
    "df[\"ival_palabras\"] = df.norm_cantidad * df.delta_palabras\n",
    "df[\"ival_personas\"] = df.norm_personas * df.delta_personas\n",
    "\n",
    "\n",
    "df[\"ival\"] = df[\"ival_palabras\"] * df[\"ival_personas\"]\n",
    "\n",
    "df_personas = df.sort_values(\"ival_personas\", ascending=False)\n",
    "df_palabras = df.sort_values(\"ival_palabras\", ascending=False)\n",
    "df_pp = df.sort_values(\"ival\", ascending=False)"
   ]
  },
  {
   "cell_type": "code",
   "execution_count": 12,
   "metadata": {},
   "outputs": [
    {
     "name": "stdout",
     "output_type": "stream",
     "text": [
      "================================================================================\n",
      "Primeras 1000 palabras\n",
      "########################################\n",
      "Métrica: Palabras\n",
      "Palabras candidatas = 235\n",
      "Total analizadas actualmente = 835\n",
      "Faltan etiquetar 165 palabras\n",
      "Porcentaje candidatas = 0.281437125748503\n",
      "########################################\n",
      "Métrica: Personas\n",
      "Palabras candidatas = 365\n",
      "Total analizadas actualmente = 902\n",
      "Faltan etiquetar 98 palabras\n",
      "Porcentaje candidatas = 0.40465631929046564\n",
      "########################################\n",
      "Métrica: PalPer\n",
      "Palabras candidatas = 334\n",
      "Total analizadas actualmente = 946\n",
      "Faltan etiquetar 54 palabras\n",
      "Porcentaje candidatas = 0.35306553911205074\n",
      "Faltan etiquetar (sin repeticiones) = 244\n",
      "================================================================================\n",
      "Primeras 5000 palabras\n",
      "########################################\n",
      "Métrica: Personas\n",
      "Palabras candidatas = 1595\n",
      "Total analizadas actualmente = 3327\n",
      "Faltan etiquetar 1673 palabras\n",
      "Porcentaje candidatas = 0.47941088067327925\n",
      "########################################\n",
      "Métrica: PalPer\n",
      "Palabras candidatas = 1536\n",
      "Total analizadas actualmente = 3436\n",
      "Faltan etiquetar 1564 palabras\n",
      "Porcentaje candidatas = 0.4470314318975553\n",
      "Faltan etiquetar (sin repeticiones) = 2015\n"
     ]
    }
   ],
   "source": [
    "dataframes = {\n",
    "    \"Palabras\": df_palabras, \n",
    "    \"Personas\": df_personas, \n",
    "    \"PalPer\": df_pp\n",
    "}\n",
    "analizar_palabras_restantes(1000, dataframes)\n",
    "dataframes = {\n",
    "    \"Personas\": df_personas, \n",
    "    \"PalPer\": df_pp,\n",
    "    \n",
    "}\n",
    "\n",
    "analizar_palabras_restantes(5000, dataframes)\n"
   ]
  },
  {
   "cell_type": "markdown",
   "metadata": {},
   "source": [
    "## Usando el cálculo viejo CASI idéntico\n",
    "\n",
    "No usó normalización en las dos primeras métricas"
   ]
  },
  {
   "cell_type": "code",
   "execution_count": 13,
   "metadata": {},
   "outputs": [],
   "source": [
    "\n",
    "np.random.seed(seed=1)\n",
    "\n",
    "fn = lambda ws: shuffled_entropy(int(ws), len(cant_palabras))\n",
    "\n",
    "\n",
    "df[\"sh_entropy_personas\"] = df.cant_usuarios.apply(fn)\n",
    "df[\"sh_entropy_palabras\"] = df.cant_palabra.apply(fn)"
   ]
  },
  {
   "cell_type": "code",
   "execution_count": 14,
   "metadata": {},
   "outputs": [],
   "source": [
    "df[\"entropy_palabras\"] = df[cant_palabras].apply(entropy, axis=1, raw=True)\n",
    "df[\"entropy_personas\"] = df[cant_personas].apply(entropy, axis=1, raw=True)\n",
    "\n",
    "df[\"delta_palabras\"] = df[\"sh_entropy_palabras\"] - df[\"entropy_palabras\"]\n",
    "df[\"delta_personas\"] = df[\"sh_entropy_personas\"] - df[\"entropy_personas\"]\n",
    "\n",
    "df[\"log_cantidad\"] = np.log(df.cant_palabra)\n",
    "df[\"log_personas\"] = np.log(df.cant_usuarios)\n",
    "\n",
    "df[\"norm_cantidad\"] = (df[\"log_cantidad\"] - df[\"log_cantidad\"].min()) \\\n",
    "    / (df[\"log_cantidad\"].max() - df[\"log_cantidad\"].min())\n",
    "df[\"norm_personas\"] = (df[\"log_personas\"] - df[\"log_personas\"].min()) \\\n",
    "    / (df[\"log_personas\"].max() - df[\"log_personas\"].min())\n",
    "\n",
    "df[\"ival_palabras\"] = df.log_cantidad * df.delta_palabras\n",
    "df[\"ival_personas\"] = df.log_personas * df.delta_personas\n",
    "df[\"ival\"] = df.norm_cantidad * df.norm_personas * df.delta_palabras * df.delta_personas\n",
    "\n",
    "df_personas = df.sort_values(\"ival_personas\", ascending=False)\n",
    "df_palabras = df.sort_values(\"ival_palabras\", ascending=False)\n",
    "df_pp = df.sort_values(\"ival\", ascending=False)"
   ]
  },
  {
   "cell_type": "code",
   "execution_count": 15,
   "metadata": {},
   "outputs": [
    {
     "name": "stdout",
     "output_type": "stream",
     "text": [
      "================================================================================\n",
      "Primeras 1000 palabras\n",
      "########################################\n",
      "Métrica: Palabras\n",
      "Palabras candidatas = 181\n",
      "Total analizadas actualmente = 798\n",
      "Faltan etiquetar 202 palabras\n",
      "Porcentaje candidatas = 0.22681704260651628\n",
      "########################################\n",
      "Métrica: Personas\n",
      "Palabras candidatas = 199\n",
      "Total analizadas actualmente = 701\n",
      "Faltan etiquetar 299 palabras\n",
      "Porcentaje candidatas = 0.2838801711840228\n",
      "########################################\n",
      "Métrica: PalPer\n",
      "Palabras candidatas = 329\n",
      "Total analizadas actualmente = 945\n",
      "Faltan etiquetar 55 palabras\n",
      "Porcentaje candidatas = 0.34814814814814815\n",
      "Faltan etiquetar (sin repeticiones) = 423\n",
      "================================================================================\n",
      "Primeras 5000 palabras\n",
      "########################################\n",
      "Métrica: Personas\n",
      "Palabras candidatas = 878\n",
      "Total analizadas actualmente = 2330\n",
      "Faltan etiquetar 2670 palabras\n",
      "Porcentaje candidatas = 0.37682403433476397\n",
      "########################################\n",
      "Métrica: PalPer\n",
      "Palabras candidatas = 1536\n",
      "Total analizadas actualmente = 3436\n",
      "Faltan etiquetar 1564 palabras\n",
      "Porcentaje candidatas = 0.4470314318975553\n",
      "Faltan etiquetar (sin repeticiones) = 3201\n"
     ]
    }
   ],
   "source": [
    "dataframes = {\n",
    "    \"Palabras\": df_palabras, \n",
    "    \"Personas\": df_personas, \n",
    "    \"PalPer\": df_pp\n",
    "}\n",
    "analizar_palabras_restantes(1000, dataframes)\n",
    "dataframes = {\n",
    "    \"Personas\": df_personas, \n",
    "    \"PalPer\": df_pp,\n",
    "    \n",
    "}\n",
    "\n",
    "analizar_palabras_restantes(5000, dataframes)\n"
   ]
  },
  {
   "cell_type": "markdown",
   "metadata": {},
   "source": [
    "## Conclusión\n",
    "\n",
    "Usaremos la métrica \"más linda\", la primera: con el log(23) y la normalización más bestia."
   ]
  },
  {
   "cell_type": "code",
   "execution_count": null,
   "metadata": {},
   "outputs": [],
   "source": []
  }
 ],
 "metadata": {
  "kernelspec": {
   "display_name": "Python 3",
   "language": "python",
   "name": "python3"
  },
  "language_info": {
   "codemirror_mode": {
    "name": "ipython",
    "version": 3
   },
   "file_extension": ".py",
   "mimetype": "text/x-python",
   "name": "python",
   "nbconvert_exporter": "python",
   "pygments_lexer": "ipython3",
   "version": "3.6.4"
  }
 },
 "nbformat": 4,
 "nbformat_minor": 2
}
