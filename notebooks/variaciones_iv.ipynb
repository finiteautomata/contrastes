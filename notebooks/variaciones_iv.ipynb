{
 "cells": [
  {
   "cell_type": "markdown",
   "metadata": {},
   "source": [
    "# Variaciones Information Value\n",
    "\n",
    "En esta notebook vemos las distintas variantes de Information Value y cuánto laburo extra demandarían"
   ]
  },
  {
   "cell_type": "code",
   "execution_count": 1,
   "metadata": {},
   "outputs": [],
   "source": [
    "%matplotlib inline\n",
    "\n",
    "import pandas as pd\n",
    "\n",
    "analizadas = pd.read_csv(\"../data/listado_definitivo.csv\")\n",
    "analizadas.set_index(' ', inplace=True)\n",
    "analizadas[\"candidata\"] = analizadas[\"Palabra Candidata\"]"
   ]
  },
  {
   "cell_type": "code",
   "execution_count": 2,
   "metadata": {},
   "outputs": [
    {
     "name": "stdout",
     "output_type": "stream",
     "text": [
      "Tenemos 5014 palabras analizadas\n"
     ]
    }
   ],
   "source": [
    "palabras_ya_analizadas = analizadas[analizadas['candidata'].notna()]\n",
    "\n",
    "print(\"Tenemos {} palabras analizadas\".format(palabras_ya_analizadas.shape[0]))"
   ]
  },
  {
   "cell_type": "markdown",
   "metadata": {},
   "source": [
    "## Listado de Palabras\n",
    "\n",
    "Vamos a regenerar el listado completo de palabras. Y calculemos cuánto falta trabajar si hacemos de nuevo los cálculos"
   ]
  },
  {
   "cell_type": "code",
   "execution_count": 3,
   "metadata": {},
   "outputs": [
    {
     "name": "stdout",
     "output_type": "stream",
     "text": [
      "columnas de palabras => ['buenosaires_ocurrencias', 'catamarca_ocurrencias', 'chaco_ocurrencias', 'chubut_ocurrencias', 'cordoba_ocurrencias', 'corrientes_ocurrencias', 'entrerios_ocurrencias', 'formosa_ocurrencias', 'jujuy_ocurrencias', 'lapampa_ocurrencias', 'larioja_ocurrencias', 'mendoza_ocurrencias', 'misiones_ocurrencias', 'neuquen_ocurrencias', 'rionegro_ocurrencias', 'salta_ocurrencias', 'sanjuan_ocurrencias', 'sanluis_ocurrencias', 'santacruz_ocurrencias', 'santafe_ocurrencias', 'santiago_ocurrencias', 'tierradelfuego_ocurrencias', 'tucuman_ocurrencias']\n",
      "\n",
      "columnas de usuarios => ['buenosaires_usuarios', 'catamarca_usuarios', 'chaco_usuarios', 'chubut_usuarios', 'cordoba_usuarios', 'corrientes_usuarios', 'entrerios_usuarios', 'formosa_usuarios', 'jujuy_usuarios', 'lapampa_usuarios', 'larioja_usuarios', 'mendoza_usuarios', 'misiones_usuarios', 'neuquen_usuarios', 'rionegro_usuarios', 'salta_usuarios', 'sanjuan_usuarios', 'sanluis_usuarios', 'santacruz_usuarios', 'santafe_usuarios', 'santiago_usuarios', 'tierradelfuego_usuarios', 'tucuman_usuarios']\n"
     ]
    }
   ],
   "source": [
    "import re\n",
    "\n",
    "df = pd.read_csv(\"../output/provinces_words.csv\", index_col=0)\n",
    "\n",
    "cant_palabras = [c for c in df.columns if re.match(r'.*ocurrencias$', c)]\n",
    "cant_personas = [c for c in df.columns if re.match(r'.*usuarios$', c)]\n",
    "\n",
    "print(\"columnas de palabras => {}\\n\".format(cant_palabras))\n",
    "print(\"columnas de usuarios => {}\".format(cant_personas))\n",
    "\n",
    "df[\"cant_provincias\"] = (df[cant_palabras] > 0).sum(axis=1)\n",
    "df[\"cant_palabra\"] = df[cant_palabras].sum(axis=1)\n",
    "df[\"cant_usuarios\"] = df[cant_personas].sum(axis=1)"
   ]
  },
  {
   "cell_type": "code",
   "execution_count": 4,
   "metadata": {},
   "outputs": [],
   "source": [
    "df = df[(df.cant_palabra > 80) & (df.cant_usuarios >= 5) ]"
   ]
  },
  {
   "cell_type": "markdown",
   "metadata": {},
   "source": [
    "Calculemos el valor de la información de cada palabra."
   ]
  },
  {
   "cell_type": "code",
   "execution_count": 5,
   "metadata": {},
   "outputs": [],
   "source": [
    "from scipy.stats import entropy\n",
    "import numpy as np\n",
    "\n",
    "df[\"entropy_palabras\"] = df[cant_palabras].apply(entropy, axis=1, raw=True)\n",
    "df[\"entropy_personas\"] = df[cant_personas].apply(entropy, axis=1, raw=True)\n",
    "\n",
    "df[\"delta_palabras\"] = np.log(23) - df[\"entropy_palabras\"]\n",
    "df[\"delta_personas\"] = np.log(23) - df[\"entropy_personas\"]\n",
    "\n",
    "df[\"log_cantidad\"] = np.log(df.cant_palabra)\n",
    "df[\"log_personas\"] = np.log(df.cant_usuarios)\n",
    "\n",
    "df[\"norm_cantidad\"] = df[\"log_cantidad\"] / df[\"log_cantidad\"].max() \n",
    "df[\"norm_personas\"] = df[\"log_personas\"] / df[\"log_personas\"].max()\n",
    "\n",
    "df[\"ival_palabras\"] = df.norm_cantidad * df.delta_palabras\n",
    "df[\"ival_personas\"] = df.norm_personas * df.delta_personas\n",
    "\n",
    "\n",
    "df[\"ival\"] = df[\"ival_palabras\"] * df[\"ival_personas\"]\n",
    "df[\"ival_norm\"] = (1+df[\"ival_palabras\"]) * (1+df[\"ival_personas\"])\n",
    "\n",
    "df_personas = df.sort_values(\"ival_personas\", ascending=False)\n",
    "df_palabras = df.sort_values(\"ival_palabras\", ascending=False)\n",
    "df_pp = df.sort_values(\"ival\", ascending=False)\n"
   ]
  },
  {
   "cell_type": "markdown",
   "metadata": {},
   "source": [
    "Cambiamos ligeramente el cálculo de la normalización y del IV, contemplando el orden de personas\n",
    "\n",
    "¿De las primeras 1000, cuántas no están en las ya analizadas?"
   ]
  },
  {
   "cell_type": "code",
   "execution_count": 6,
   "metadata": {},
   "outputs": [],
   "source": [
    "def calcular_porcentaje_candidatas(palabras):\n",
    "    subconj_analizado = palabras.index.intersection(palabras_ya_analizadas.index)\n",
    "    candidatas = (analizadas.loc[subconj_analizado]['candidata'] != '0').sum()\n",
    "    total = subconj_analizado.shape[0]\n",
    "    print(\"Palabras candidatas = {}\".format(candidatas))\n",
    "    print(\"Total analizadas actualmente = {}\".format(total))\n",
    "    \n",
    "    return candidatas / total\n",
    "\n",
    "def analizar_palabras_restantes(n, dataframes):\n",
    "    total = 0\n",
    "    todas_las_palabras = set()\n",
    "    print(\"=\"* 80)\n",
    "    print(\"Primeras {} palabras\".format(n))\n",
    "    \n",
    "    for nombre, this_df in dataframes.items(): \n",
    "        print('#'*40)\n",
    "        print(\"Métrica: {}\".format(nombre))\n",
    "        palabras = this_df.iloc[:n]\n",
    "        \n",
    "        metrica = calcular_porcentaje_candidatas(palabras)\n",
    "        restantes = {p for p in palabras.index if p not in palabras_ya_analizadas.index}\n",
    "        total+=len(restantes)\n",
    "        todas_las_palabras = todas_las_palabras.union(restantes)\n",
    "        print(\"Faltan etiquetar {} palabras\".format(len(restantes)))\n",
    "        print(\"Porcentaje candidatas = {}\".format(metrica))\n",
    "    print(\"Faltan etiquetar (sin repeticiones) = {}\".format(len(todas_las_palabras)))"
   ]
  },
  {
   "cell_type": "code",
   "execution_count": 7,
   "metadata": {},
   "outputs": [
    {
     "name": "stdout",
     "output_type": "stream",
     "text": [
      "================================================================================\n",
      "Primeras 1000 palabras\n",
      "########################################\n",
      "Métrica: Palabras\n",
      "Palabras candidatas = 161\n",
      "Total analizadas actualmente = 744\n",
      "Faltan etiquetar 256 palabras\n",
      "Porcentaje candidatas = 0.2163978494623656\n",
      "########################################\n",
      "Métrica: Personas\n",
      "Palabras candidatas = 190\n",
      "Total analizadas actualmente = 709\n",
      "Faltan etiquetar 291 palabras\n",
      "Porcentaje candidatas = 0.2679830747531735\n",
      "########################################\n",
      "Métrica: PalPer\n",
      "Palabras candidatas = 181\n",
      "Total analizadas actualmente = 755\n",
      "Faltan etiquetar 245 palabras\n",
      "Porcentaje candidatas = 0.23973509933774834\n",
      "Faltan etiquetar (sin repeticiones) = 473\n",
      "================================================================================\n",
      "Primeras 5000 palabras\n",
      "########################################\n",
      "Métrica: Personas\n",
      "Palabras candidatas = 1161\n",
      "Total analizadas actualmente = 2985\n",
      "Faltan etiquetar 2015 palabras\n",
      "Porcentaje candidatas = 0.38894472361809046\n",
      "########################################\n",
      "Métrica: PalPer\n",
      "Palabras candidatas = 1050\n",
      "Total analizadas actualmente = 2883\n",
      "Faltan etiquetar 2117 palabras\n",
      "Porcentaje candidatas = 0.36420395421436\n",
      "Faltan etiquetar (sin repeticiones) = 2340\n"
     ]
    }
   ],
   "source": [
    "dataframes = {\n",
    "    \"Palabras\": df_palabras, \n",
    "    \"Personas\": df_personas, \n",
    "    \"PalPer\": df_pp,\n",
    "}\n",
    "analizar_palabras_restantes(1000, dataframes)\n",
    "dataframes = {\n",
    "    \"Personas\": df_personas, \n",
    "    \"PalPer\": df_pp,\n",
    "}\n",
    "\n",
    "analizar_palabras_restantes(5000, dataframes)\n"
   ]
  },
  {
   "cell_type": "markdown",
   "metadata": {},
   "source": [
    "## Sin usar el log(23)"
   ]
  },
  {
   "cell_type": "code",
   "execution_count": 8,
   "metadata": {},
   "outputs": [],
   "source": [
    "from contrastes.information_value import shuffled_entropy\n",
    "np.random.seed(seed=1)\n",
    "\n",
    "fn = lambda ws: shuffled_entropy(int(ws), len(cant_palabras))\n",
    "\n",
    "df[\"sh_entropy_palabras\"] = df.cant_palabra.apply(fn)\n",
    "df[\"sh_entropy_personas\"] = df.cant_usuarios.apply(fn)\n",
    "\n",
    "df[\"entropy_palabras\"] = df[cant_palabras].apply(entropy, axis=1, raw=True)\n",
    "df[\"entropy_personas\"] = df[cant_personas].apply(entropy, axis=1, raw=True)\n",
    "\n",
    "df[\"delta_palabras\"] = df[\"sh_entropy_palabras\"] - df[\"entropy_palabras\"]\n",
    "df[\"delta_personas\"] = df[\"sh_entropy_personas\"] - df[\"entropy_personas\"]\n",
    "\n",
    "df[\"log_cantidad\"] = np.log(df.cant_palabra)\n",
    "df[\"log_personas\"] = np.log(df.cant_usuarios)\n",
    "\n",
    "df[\"norm_cantidad\"] = df[\"log_cantidad\"] / df[\"log_cantidad\"].max() \n",
    "df[\"norm_personas\"] = df[\"log_personas\"] / df[\"log_personas\"].max()\n",
    "\n",
    "df[\"ival_palabras\"] = df.norm_cantidad * df.delta_palabras\n",
    "df[\"ival_personas\"] = df.norm_personas * df.delta_personas\n",
    "df[\"ival\"] = df[\"ival_palabras\"] * df[\"ival_personas\"]\n",
    "\n",
    "df_personas = df.sort_values(\"ival_personas\", ascending=False)\n",
    "df_palabras = df.sort_values(\"ival_palabras\", ascending=False)\n",
    "df_pp = df.sort_values(\"ival\", ascending=False)"
   ]
  },
  {
   "cell_type": "code",
   "execution_count": 9,
   "metadata": {},
   "outputs": [
    {
     "name": "stdout",
     "output_type": "stream",
     "text": [
      "================================================================================\n",
      "Primeras 1000 palabras\n",
      "########################################\n",
      "Métrica: Palabras\n",
      "Palabras candidatas = 162\n",
      "Total analizadas actualmente = 743\n",
      "Faltan etiquetar 257 palabras\n",
      "Porcentaje candidatas = 0.2180349932705249\n",
      "########################################\n",
      "Métrica: Personas\n",
      "Palabras candidatas = 213\n",
      "Total analizadas actualmente = 732\n",
      "Faltan etiquetar 268 palabras\n",
      "Porcentaje candidatas = 0.29098360655737704\n",
      "########################################\n",
      "Métrica: PalPer\n",
      "Palabras candidatas = 200\n",
      "Total analizadas actualmente = 786\n",
      "Faltan etiquetar 214 palabras\n",
      "Porcentaje candidatas = 0.2544529262086514\n",
      "Faltan etiquetar (sin repeticiones) = 461\n",
      "================================================================================\n",
      "Primeras 5000 palabras\n",
      "########################################\n",
      "Métrica: Personas\n",
      "Palabras candidatas = 1283\n",
      "Total analizadas actualmente = 3132\n",
      "Faltan etiquetar 1868 palabras\n",
      "Porcentaje candidatas = 0.40964240102171134\n",
      "########################################\n",
      "Métrica: PalPer\n",
      "Palabras candidatas = 1169\n",
      "Total analizadas actualmente = 3081\n",
      "Faltan etiquetar 1919 palabras\n",
      "Porcentaje candidatas = 0.37942226549821484\n",
      "Faltan etiquetar (sin repeticiones) = 2110\n"
     ]
    }
   ],
   "source": [
    "dataframes = {\n",
    "    \"Palabras\": df_palabras, \n",
    "    \"Personas\": df_personas, \n",
    "    \"PalPer\": df_pp\n",
    "}\n",
    "analizar_palabras_restantes(1000, dataframes)\n",
    "dataframes = {\n",
    "    \"Personas\": df_personas, \n",
    "    \"PalPer\": df_pp,\n",
    "    \n",
    "}\n",
    "\n",
    "analizar_palabras_restantes(5000, dataframes)\n"
   ]
  },
  {
   "cell_type": "markdown",
   "metadata": {},
   "source": [
    "## Usando cálculo con normalización \"vieja\"\n"
   ]
  },
  {
   "cell_type": "code",
   "execution_count": 10,
   "metadata": {},
   "outputs": [],
   "source": [
    "np.random.seed(seed=1)\n",
    "\n",
    "fn = lambda ws: shuffled_entropy(int(ws), len(cant_palabras))\n",
    "\n",
    "df[\"sh_entropy_palabras\"] = df.cant_palabra.apply(fn)\n",
    "df[\"sh_entropy_personas\"] = df.cant_usuarios.apply(fn)\n"
   ]
  },
  {
   "cell_type": "code",
   "execution_count": 11,
   "metadata": {},
   "outputs": [],
   "source": [
    "df[\"entropy_palabras\"] = df[cant_palabras].apply(entropy, axis=1, raw=True)\n",
    "df[\"entropy_personas\"] = df[cant_personas].apply(entropy, axis=1, raw=True)\n",
    "\n",
    "df[\"delta_palabras\"] = df[\"sh_entropy_palabras\"] - df[\"entropy_palabras\"]\n",
    "df[\"delta_personas\"] = df[\"sh_entropy_personas\"] - df[\"entropy_personas\"]\n",
    "\n",
    "df[\"log_cantidad\"] = np.log(df.cant_palabra)\n",
    "df[\"log_personas\"] = np.log(df.cant_usuarios)\n",
    "\n",
    "df[\"norm_cantidad\"] = (df[\"log_cantidad\"] - df[\"log_cantidad\"].min()) \\\n",
    "    / (df[\"log_cantidad\"].max() - df[\"log_cantidad\"].min())\n",
    "df[\"norm_personas\"] = (df[\"log_personas\"] - df[\"log_personas\"].min()) \\\n",
    "    / (df[\"log_personas\"].max() - df[\"log_personas\"].min())\n",
    "\n",
    "df[\"ival_palabras\"] = df.norm_cantidad * df.delta_palabras\n",
    "df[\"ival_personas\"] = df.norm_personas * df.delta_personas\n",
    "\n",
    "\n",
    "df[\"ival\"] = df[\"ival_palabras\"] * df[\"ival_personas\"]\n",
    "\n",
    "df_personas = df.sort_values(\"ival_personas\", ascending=False)\n",
    "df_palabras = df.sort_values(\"ival_palabras\", ascending=False)\n",
    "df_pp = df.sort_values(\"ival\", ascending=False)"
   ]
  },
  {
   "cell_type": "code",
   "execution_count": 12,
   "metadata": {},
   "outputs": [
    {
     "name": "stdout",
     "output_type": "stream",
     "text": [
      "================================================================================\n",
      "Primeras 1000 palabras\n",
      "########################################\n",
      "Métrica: Palabras\n",
      "Palabras candidatas = 247\n",
      "Total analizadas actualmente = 806\n",
      "Faltan etiquetar 194 palabras\n",
      "Porcentaje candidatas = 0.3064516129032258\n",
      "########################################\n",
      "Métrica: Personas\n",
      "Palabras candidatas = 260\n",
      "Total analizadas actualmente = 794\n",
      "Faltan etiquetar 206 palabras\n",
      "Porcentaje candidatas = 0.327455919395466\n",
      "########################################\n",
      "Métrica: PalPer\n",
      "Palabras candidatas = 305\n",
      "Total analizadas actualmente = 936\n",
      "Faltan etiquetar 64 palabras\n",
      "Porcentaje candidatas = 0.32585470085470086\n",
      "Faltan etiquetar (sin repeticiones) = 391\n",
      "================================================================================\n",
      "Primeras 5000 palabras\n",
      "########################################\n",
      "Métrica: Personas\n",
      "Palabras candidatas = 1407\n",
      "Total analizadas actualmente = 3273\n",
      "Faltan etiquetar 1727 palabras\n",
      "Porcentaje candidatas = 0.4298808432630614\n",
      "########################################\n",
      "Métrica: PalPer\n",
      "Palabras candidatas = 1541\n",
      "Total analizadas actualmente = 3533\n",
      "Faltan etiquetar 1467 palabras\n",
      "Porcentaje candidatas = 0.4361732238890461\n",
      "Faltan etiquetar (sin repeticiones) = 2265\n"
     ]
    }
   ],
   "source": [
    "dataframes = {\n",
    "    \"Palabras\": df_palabras, \n",
    "    \"Personas\": df_personas, \n",
    "    \"PalPer\": df_pp\n",
    "}\n",
    "analizar_palabras_restantes(1000, dataframes)\n",
    "dataframes = {\n",
    "    \"Personas\": df_personas, \n",
    "    \"PalPer\": df_pp,\n",
    "    \n",
    "}\n",
    "\n",
    "analizar_palabras_restantes(5000, dataframes)\n"
   ]
  },
  {
   "cell_type": "markdown",
   "metadata": {},
   "source": [
    "## Usando el cálculo viejo CASI idéntico\n",
    "\n",
    "No usó normalización en las dos primeras métricas"
   ]
  },
  {
   "cell_type": "code",
   "execution_count": 13,
   "metadata": {},
   "outputs": [],
   "source": [
    "\n",
    "np.random.seed(seed=1)\n",
    "\n",
    "fn = lambda ws: shuffled_entropy(int(ws), len(cant_palabras))\n",
    "\n",
    "\n",
    "df[\"sh_entropy_personas\"] = df.cant_usuarios.apply(fn)\n",
    "df[\"sh_entropy_palabras\"] = df.cant_palabra.apply(fn)"
   ]
  },
  {
   "cell_type": "code",
   "execution_count": 14,
   "metadata": {},
   "outputs": [],
   "source": [
    "df[\"entropy_palabras\"] = df[cant_palabras].apply(entropy, axis=1, raw=True)\n",
    "df[\"entropy_personas\"] = df[cant_personas].apply(entropy, axis=1, raw=True)\n",
    "\n",
    "df[\"delta_palabras\"] = df[\"sh_entropy_palabras\"] - df[\"entropy_palabras\"]\n",
    "df[\"delta_personas\"] = df[\"sh_entropy_personas\"] - df[\"entropy_personas\"]\n",
    "\n",
    "df[\"log_cantidad\"] = np.log(df.cant_palabra)\n",
    "df[\"log_personas\"] = np.log(df.cant_usuarios)\n",
    "\n",
    "df[\"norm_cantidad\"] = (df[\"log_cantidad\"] - df[\"log_cantidad\"].min()) \\\n",
    "    / (df[\"log_cantidad\"].max() - df[\"log_cantidad\"].min())\n",
    "df[\"norm_personas\"] = (df[\"log_personas\"] - df[\"log_personas\"].min()) \\\n",
    "    / (df[\"log_personas\"].max() - df[\"log_personas\"].min())\n",
    "\n",
    "df[\"ival_palabras\"] = df.log_cantidad * df.delta_palabras\n",
    "df[\"ival_personas\"] = df.log_personas * df.delta_personas\n",
    "df[\"ival\"] = df.norm_cantidad * df.norm_personas * df.delta_palabras * df.delta_personas\n",
    "\n",
    "df_personas = df.sort_values(\"ival_personas\", ascending=False)\n",
    "df_palabras = df.sort_values(\"ival_palabras\", ascending=False)\n",
    "df_pp = df.sort_values(\"ival\", ascending=False)"
   ]
  },
  {
   "cell_type": "code",
   "execution_count": 15,
   "metadata": {},
   "outputs": [
    {
     "name": "stdout",
     "output_type": "stream",
     "text": [
      "================================================================================\n",
      "Primeras 1000 palabras\n",
      "########################################\n",
      "Métrica: Palabras\n",
      "Palabras candidatas = 164\n",
      "Total analizadas actualmente = 749\n",
      "Faltan etiquetar 251 palabras\n",
      "Porcentaje candidatas = 0.21895861148197596\n",
      "########################################\n",
      "Métrica: Personas\n",
      "Palabras candidatas = 214\n",
      "Total analizadas actualmente = 732\n",
      "Faltan etiquetar 268 palabras\n",
      "Porcentaje candidatas = 0.2923497267759563\n",
      "########################################\n",
      "Métrica: PalPer\n",
      "Palabras candidatas = 305\n",
      "Total analizadas actualmente = 938\n",
      "Faltan etiquetar 62 palabras\n",
      "Porcentaje candidatas = 0.3251599147121535\n",
      "Faltan etiquetar (sin repeticiones) = 457\n",
      "================================================================================\n",
      "Primeras 5000 palabras\n",
      "########################################\n",
      "Métrica: Personas\n",
      "Palabras candidatas = 1285\n",
      "Total analizadas actualmente = 3139\n",
      "Faltan etiquetar 1861 palabras\n",
      "Porcentaje candidatas = 0.409366040140172\n",
      "########################################\n",
      "Métrica: PalPer\n",
      "Palabras candidatas = 1544\n",
      "Total analizadas actualmente = 3533\n",
      "Faltan etiquetar 1467 palabras\n",
      "Porcentaje candidatas = 0.4370223606000566\n",
      "Faltan etiquetar (sin repeticiones) = 2400\n"
     ]
    }
   ],
   "source": [
    "dataframes = {\n",
    "    \"Palabras\": df_palabras, \n",
    "    \"Personas\": df_personas, \n",
    "    \"PalPer\": df_pp\n",
    "}\n",
    "analizar_palabras_restantes(1000, dataframes)\n",
    "dataframes = {\n",
    "    \"Personas\": df_personas, \n",
    "    \"PalPer\": df_pp,\n",
    "    \n",
    "}\n",
    "\n",
    "analizar_palabras_restantes(5000, dataframes)\n"
   ]
  }
 ],
 "metadata": {
  "kernelspec": {
   "display_name": "Python 3",
   "language": "python",
   "name": "python3"
  },
  "language_info": {
   "codemirror_mode": {
    "name": "ipython",
    "version": 3
   },
   "file_extension": ".py",
   "mimetype": "text/x-python",
   "name": "python",
   "nbconvert_exporter": "python",
   "pygments_lexer": "ipython3",
   "version": "3.6.4"
  }
 },
 "nbformat": 4,
 "nbformat_minor": 2
}
