{
 "cells": [
  {
   "cell_type": "markdown",
   "metadata": {},
   "source": [
    "# Counting occurrences\n",
    "\n",
    "\n",
    "En esta notebook veremos cómo contar ocurrencias de los tweets"
   ]
  },
  {
   "cell_type": "code",
   "execution_count": 1,
   "metadata": {},
   "outputs": [],
   "source": [
    "import json\n",
    "\n",
    "tweets = json.load(open(\"data/tweets/buenosaires/001.json\"))"
   ]
  },
  {
   "cell_type": "code",
   "execution_count": 2,
   "metadata": {},
   "outputs": [],
   "source": [
    "import nltk\n",
    "\n",
    "def normalize(tokens):\n",
    "    tokens = (t.lower() for t in tokens)\n",
    "    return tokens\n"
   ]
  },
  {
   "cell_type": "markdown",
   "metadata": {},
   "source": [
    "Contamos las ocurrencias. No sumar el fd porque es lento ;-)"
   ]
  },
  {
   "cell_type": "code",
   "execution_count": 3,
   "metadata": {},
   "outputs": [
    {
     "name": "stdout",
     "output_type": "stream",
     "text": [
      "CPU times: user 1.95 s, sys: 3.59 ms, total: 1.95 s\n",
      "Wall time: 1.96 s\n"
     ]
    }
   ],
   "source": [
    "%%time\n",
    "\n",
    "fd = nltk.FreqDist()\n",
    "tw_tokenizer = nltk.tokenize.TweetTokenizer()\n",
    "\n",
    "for tweet in tweets:\n",
    "    text = tweet['text']\n",
    "    tokens = tw_tokenizer.tokenize(text)\n",
    "    for token in tokens:\n",
    "        fd[token] += 1\n"
   ]
  },
  {
   "cell_type": "code",
   "execution_count": 4,
   "metadata": {},
   "outputs": [
    {
     "name": "stdout",
     "output_type": "stream",
     "text": [
      "Cantidad de tokens = 516124\n",
      "Cantidad de tokens únicos = 47427\n"
     ]
    }
   ],
   "source": [
    "print(\"Cantidad de tokens = {}\".format(fd.N()))\n",
    "print(\"Cantidad de tokens únicos = {}\".format(fd.B()))"
   ]
  },
  {
   "cell_type": "markdown",
   "metadata": {},
   "source": [
    "Haciendo todo Buenos Aires..\n"
   ]
  },
  {
   "cell_type": "code",
   "execution_count": 5,
   "metadata": {},
   "outputs": [],
   "source": [
    "import glob\n",
    "import os\n",
    "import json\n",
    "\n",
    "path = \"data/tweets/buenosaires/\"\n",
    "\n",
    "jsons = glob.glob(os.path.join(path, \"*.json\"))\n",
    "tw_tokenizer = nltk.tokenize.TweetTokenizer()"
   ]
  },
  {
   "cell_type": "code",
   "execution_count": 5,
   "metadata": {},
   "outputs": [
    {
     "name": "stdout",
     "output_type": "stream",
     "text": [
      "data/tweets/buenosaires/029.json\n",
      "50000 tweets loaded\n",
      "data/tweets/buenosaires/038.json\n",
      "50000 tweets loaded\n",
      "data/tweets/buenosaires/052.json\n",
      "50000 tweets loaded\n",
      "data/tweets/buenosaires/004.json\n",
      "50000 tweets loaded\n",
      "data/tweets/buenosaires/044.json\n",
      "50000 tweets loaded\n",
      "data/tweets/buenosaires/024.json\n",
      "50000 tweets loaded\n",
      "data/tweets/buenosaires/070.json\n",
      "50000 tweets loaded\n",
      "data/tweets/buenosaires/014.json\n",
      "50000 tweets loaded\n",
      "data/tweets/buenosaires/037.json\n",
      "50000 tweets loaded\n",
      "data/tweets/buenosaires/047.json\n",
      "50000 tweets loaded\n",
      "data/tweets/buenosaires/046.json\n",
      "50000 tweets loaded\n",
      "data/tweets/buenosaires/054.json\n",
      "50000 tweets loaded\n",
      "data/tweets/buenosaires/074.json\n",
      "50000 tweets loaded\n",
      "data/tweets/buenosaires/050.json\n",
      "50000 tweets loaded\n",
      "data/tweets/buenosaires/076.json\n",
      "50000 tweets loaded\n",
      "data/tweets/buenosaires/020.json\n",
      "50000 tweets loaded\n",
      "data/tweets/buenosaires/055.json\n",
      "50000 tweets loaded\n",
      "data/tweets/buenosaires/058.json\n",
      "50000 tweets loaded\n",
      "data/tweets/buenosaires/064.json\n",
      "50000 tweets loaded\n",
      "data/tweets/buenosaires/073.json\n",
      "50000 tweets loaded\n",
      "data/tweets/buenosaires/008.json\n",
      "50000 tweets loaded\n",
      "data/tweets/buenosaires/034.json\n",
      "50000 tweets loaded\n",
      "data/tweets/buenosaires/021.json\n",
      "50000 tweets loaded\n",
      "data/tweets/buenosaires/023.json\n",
      "50000 tweets loaded\n",
      "data/tweets/buenosaires/053.json\n",
      "50000 tweets loaded\n",
      "data/tweets/buenosaires/026.json\n",
      "50000 tweets loaded\n",
      "data/tweets/buenosaires/011.json\n",
      "50000 tweets loaded\n",
      "data/tweets/buenosaires/010.json\n",
      "50000 tweets loaded\n",
      "data/tweets/buenosaires/030.json\n",
      "50000 tweets loaded\n",
      "data/tweets/buenosaires/036.json\n",
      "50000 tweets loaded\n",
      "data/tweets/buenosaires/019.json\n",
      "50000 tweets loaded\n",
      "data/tweets/buenosaires/043.json\n",
      "50000 tweets loaded\n",
      "data/tweets/buenosaires/032.json\n",
      "50000 tweets loaded\n",
      "data/tweets/buenosaires/051.json\n",
      "50000 tweets loaded\n",
      "data/tweets/buenosaires/066.json\n",
      "50000 tweets loaded\n",
      "data/tweets/buenosaires/033.json\n",
      "50000 tweets loaded\n",
      "data/tweets/buenosaires/001.json\n",
      "50000 tweets loaded\n",
      "data/tweets/buenosaires/028.json\n",
      "50000 tweets loaded\n",
      "data/tweets/buenosaires/041.json\n",
      "50000 tweets loaded\n",
      "data/tweets/buenosaires/061.json\n",
      "50000 tweets loaded\n",
      "data/tweets/buenosaires/048.json\n",
      "50000 tweets loaded\n",
      "data/tweets/buenosaires/018.json\n",
      "50000 tweets loaded\n",
      "data/tweets/buenosaires/022.json\n",
      "50000 tweets loaded\n",
      "data/tweets/buenosaires/056.json\n",
      "50000 tweets loaded\n",
      "data/tweets/buenosaires/068.json\n",
      "50000 tweets loaded\n",
      "data/tweets/buenosaires/075.json\n",
      "50000 tweets loaded\n",
      "data/tweets/buenosaires/009.json\n",
      "50000 tweets loaded\n",
      "data/tweets/buenosaires/060.json\n",
      "50000 tweets loaded\n",
      "data/tweets/buenosaires/031.json\n",
      "50000 tweets loaded\n",
      "data/tweets/buenosaires/063.json\n",
      "50000 tweets loaded\n",
      "data/tweets/buenosaires/049.json\n",
      "50000 tweets loaded\n",
      "data/tweets/buenosaires/017.json\n",
      "50000 tweets loaded\n",
      "data/tweets/buenosaires/015.json\n",
      "50000 tweets loaded\n",
      "data/tweets/buenosaires/035.json\n",
      "50000 tweets loaded\n",
      "data/tweets/buenosaires/040.json\n",
      "50000 tweets loaded\n",
      "data/tweets/buenosaires/069.json\n",
      "50000 tweets loaded\n",
      "data/tweets/buenosaires/003.json\n",
      "50000 tweets loaded\n",
      "data/tweets/buenosaires/042.json\n",
      "50000 tweets loaded\n",
      "data/tweets/buenosaires/025.json\n",
      "50000 tweets loaded\n",
      "data/tweets/buenosaires/013.json\n",
      "50000 tweets loaded\n",
      "data/tweets/buenosaires/005.json\n",
      "50000 tweets loaded\n",
      "data/tweets/buenosaires/002.json\n",
      "50000 tweets loaded\n",
      "data/tweets/buenosaires/007.json\n",
      "50000 tweets loaded\n",
      "data/tweets/buenosaires/067.json\n",
      "50000 tweets loaded\n",
      "data/tweets/buenosaires/071.json\n",
      "50000 tweets loaded\n",
      "data/tweets/buenosaires/039.json\n",
      "50000 tweets loaded\n",
      "data/tweets/buenosaires/045.json\n",
      "50000 tweets loaded\n",
      "data/tweets/buenosaires/059.json\n",
      "50000 tweets loaded\n",
      "data/tweets/buenosaires/072.json\n",
      "50000 tweets loaded\n",
      "data/tweets/buenosaires/006.json\n",
      "50000 tweets loaded\n",
      "data/tweets/buenosaires/065.json\n",
      "50000 tweets loaded\n",
      "data/tweets/buenosaires/027.json\n",
      "50000 tweets loaded\n",
      "data/tweets/buenosaires/057.json\n",
      "50000 tweets loaded\n",
      "data/tweets/buenosaires/016.json\n",
      "50000 tweets loaded\n",
      "data/tweets/buenosaires/012.json\n",
      "50000 tweets loaded\n",
      "data/tweets/buenosaires/062.json\n",
      "50000 tweets loaded\n",
      "CPU times: user 5min 11s, sys: 8.77 s, total: 5min 20s\n",
      "Wall time: 6min 13s\n"
     ]
    }
   ],
   "source": [
    "%%time\n",
    "\n",
    "\n",
    "\n",
    "fd = nltk.FreqDist()\n",
    "\n",
    "for json_path in jsons:\n",
    "    print(json_path)\n",
    "    tweets = json.load(open(json_path))\n",
    "    print(\"{} tweets loaded\".format(len(tweets)))\n",
    "   \n",
    "\n",
    "    for tweet in tweets:\n",
    "        text = tweet['text']\n",
    "        tokens = tw_tokenizer.tokenize(text)\n",
    "        for token in tokens:\n",
    "            fd[token] += 1"
   ]
  },
  {
   "cell_type": "code",
   "execution_count": 6,
   "metadata": {},
   "outputs": [
    {
     "name": "stdout",
     "output_type": "stream",
     "text": [
      "CPU times: user 7.88 s, sys: 216 ms, total: 8.1 s\n",
      "Wall time: 2min 20s\n"
     ]
    },
    {
     "name": "stderr",
     "output_type": "stream",
     "text": [
      "Process ForkPoolWorker-3:\n",
      "Process ForkPoolWorker-1:\n",
      "Process ForkPoolWorker-2:\n",
      "Process ForkPoolWorker-4:\n",
      "Traceback (most recent call last):\n",
      "  File \"/home/jmperez/.pyenv/versions/3.6.4/lib/python3.6/multiprocessing/process.py\", line 258, in _bootstrap\n",
      "    self.run()\n",
      "Traceback (most recent call last):\n",
      "  File \"/home/jmperez/.pyenv/versions/3.6.4/lib/python3.6/multiprocessing/process.py\", line 93, in run\n",
      "    self._target(*self._args, **self._kwargs)\n",
      "  File \"/home/jmperez/.pyenv/versions/3.6.4/lib/python3.6/multiprocessing/pool.py\", line 108, in worker\n",
      "    task = get()\n",
      "Traceback (most recent call last):\n",
      "  File \"/home/jmperez/.pyenv/versions/3.6.4/lib/python3.6/multiprocessing/process.py\", line 258, in _bootstrap\n",
      "    self.run()\n",
      "  File \"/home/jmperez/.pyenv/versions/3.6.4/lib/python3.6/multiprocessing/queues.py\", line 334, in get\n",
      "    with self._rlock:\n",
      "Traceback (most recent call last):\n",
      "  File \"/home/jmperez/.pyenv/versions/3.6.4/lib/python3.6/multiprocessing/process.py\", line 93, in run\n",
      "    self._target(*self._args, **self._kwargs)\n",
      "  File \"/home/jmperez/.pyenv/versions/3.6.4/lib/python3.6/multiprocessing/pool.py\", line 108, in worker\n",
      "    task = get()\n",
      "  File \"/home/jmperez/.pyenv/versions/3.6.4/lib/python3.6/multiprocessing/process.py\", line 258, in _bootstrap\n",
      "    self.run()\n",
      "  File \"/home/jmperez/.pyenv/versions/3.6.4/lib/python3.6/multiprocessing/synchronize.py\", line 96, in __enter__\n",
      "    return self._semlock.__enter__()\n",
      "KeyboardInterrupt\n",
      "  File \"/home/jmperez/.pyenv/versions/3.6.4/lib/python3.6/multiprocessing/queues.py\", line 334, in get\n",
      "    with self._rlock:\n",
      "  File \"/home/jmperez/.pyenv/versions/3.6.4/lib/python3.6/multiprocessing/process.py\", line 93, in run\n",
      "    self._target(*self._args, **self._kwargs)\n",
      "  File \"/home/jmperez/.pyenv/versions/3.6.4/lib/python3.6/multiprocessing/synchronize.py\", line 96, in __enter__\n",
      "    return self._semlock.__enter__()\n",
      "KeyboardInterrupt\n",
      "  File \"/home/jmperez/.pyenv/versions/3.6.4/lib/python3.6/multiprocessing/pool.py\", line 108, in worker\n",
      "    task = get()\n",
      "  File \"/home/jmperez/.pyenv/versions/3.6.4/lib/python3.6/multiprocessing/queues.py\", line 335, in get\n",
      "    res = self._reader.recv_bytes()\n",
      "  File \"/home/jmperez/.pyenv/versions/3.6.4/lib/python3.6/multiprocessing/process.py\", line 258, in _bootstrap\n",
      "    self.run()\n",
      "  File \"/home/jmperez/.pyenv/versions/3.6.4/lib/python3.6/multiprocessing/process.py\", line 93, in run\n",
      "    self._target(*self._args, **self._kwargs)\n",
      "  File \"/home/jmperez/.pyenv/versions/3.6.4/lib/python3.6/multiprocessing/connection.py\", line 216, in recv_bytes\n",
      "    buf = self._recv_bytes(maxlength)\n",
      "  File \"/home/jmperez/.pyenv/versions/3.6.4/lib/python3.6/multiprocessing/pool.py\", line 108, in worker\n",
      "    task = get()\n",
      "  File \"/home/jmperez/.pyenv/versions/3.6.4/lib/python3.6/multiprocessing/queues.py\", line 334, in get\n",
      "    with self._rlock:\n",
      "  File \"/home/jmperez/.pyenv/versions/3.6.4/lib/python3.6/multiprocessing/connection.py\", line 407, in _recv_bytes\n",
      "    buf = self._recv(4)\n",
      "  File \"/home/jmperez/.pyenv/versions/3.6.4/lib/python3.6/multiprocessing/synchronize.py\", line 96, in __enter__\n",
      "    return self._semlock.__enter__()\n",
      "  File \"/home/jmperez/.pyenv/versions/3.6.4/lib/python3.6/multiprocessing/connection.py\", line 379, in _recv\n",
      "    chunk = read(handle, remaining)\n",
      "KeyboardInterrupt\n",
      "KeyboardInterrupt\n"
     ]
    }
   ],
   "source": [
    "%%time\n",
    "\n",
    "import multiprocessing\n",
    "\n",
    "def get_fd(json_path):\n",
    "    tweets = json.load(open(json_path))\n",
    "    fd = nltk.FreqDist()\n",
    "    for tweet in tweets:\n",
    "        text = tweet['text']\n",
    "        tokens = tw_tokenizer.tokenize(text)\n",
    "        for token in tokens:\n",
    "            fd[token] += 1\n",
    "    return fd\n",
    "\n",
    "pool = multiprocessing.Pool(4)\n",
    "\n",
    "fds = pool.map(get_fd, jsons)\n",
    "\n",
    "final_fd = nltk.FreqDist()\n",
    "\n",
    "for other_fd in fds:\n",
    "    final_fd += other_fd"
   ]
  },
  {
   "cell_type": "code",
   "execution_count": 16,
   "metadata": {},
   "outputs": [
    {
     "name": "stdout",
     "output_type": "stream",
     "text": [
      "CPU times: user 2.91 s, sys: 667 ms, total: 3.58 s\n",
      "Wall time: 5min 2s\n"
     ]
    }
   ],
   "source": [
    "%%time\n",
    "cfd = nltk.ConditionalFreqDist()\n",
    "\n",
    "\n",
    "\n",
    "pool = multiprocessing.Pool(4)\n",
    "json_paths = glob.glob(\"data/tweets/**/00*.json\")\n",
    "fds = pool.map(get_fd, json_paths)\n",
    "\n"
   ]
  },
  {
   "cell_type": "code",
   "execution_count": null,
   "metadata": {},
   "outputs": [],
   "source": [
    "nltk.ConditionalFreqDist"
   ]
  }
 ],
 "metadata": {
  "kernelspec": {
   "display_name": "Python 3",
   "language": "python",
   "name": "python3"
  },
  "language_info": {
   "codemirror_mode": {
    "name": "ipython",
    "version": 3
   },
   "file_extension": ".py",
   "mimetype": "text/x-python",
   "name": "python",
   "nbconvert_exporter": "python",
   "pygments_lexer": "ipython3",
   "version": "3.6.4"
  }
 },
 "nbformat": 4,
 "nbformat_minor": 2
}
