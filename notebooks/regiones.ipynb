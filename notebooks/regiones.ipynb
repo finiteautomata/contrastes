{
 "cells": [
  {
   "cell_type": "markdown",
   "metadata": {
    "collapsed": true
   },
   "source": [
    "# Análisis de constantes de filtrado\n",
    "\n",
    "\n",
    "En esta notebook, haremos un análisis de las constantes para filtrar palabras y usuarios. En el trabajo original utilizamos 40 ocurrencias y 5 usuarios para filtrar, pero puede que no sea el mejor para este nuevo dataset.\n",
    "\n",
    "\n",
    "\n"
   ]
  },
  {
   "cell_type": "code",
   "execution_count": 7,
   "metadata": {},
   "outputs": [
    {
     "name": "stdout",
     "output_type": "stream",
     "text": [
      "The autoreload extension is already loaded. To reload it, use:\n",
      "  %reload_ext autoreload\n",
      "Total de palabras: 85701\n"
     ]
    }
   ],
   "source": [
    "%matplotlib inline\n",
    "%load_ext autoreload\n",
    "%autoreload 2\n",
    "import numpy as np\n",
    "import seaborn as sns\n",
    "import matplotlib.pyplot as plt\n",
    "import pandas as pd\n",
    "\n",
    "df = pd.read_csv(\"../output/listado_personas.csv\", index_col=0)\n",
    "\n",
    "print(\"Total de palabras: {}\".format(df.shape[0]))"
   ]
  },
  {
   "cell_type": "markdown",
   "metadata": {},
   "source": [
    "Agrego la serie de puntos de la suma acumulada de frecuencias"
   ]
  },
  {
   "cell_type": "code",
   "execution_count": 8,
   "metadata": {},
   "outputs": [],
   "source": [
    "occ_columns = [c for c in df.columns if \"ocurrencias\" in c]\n",
    "\n",
    "X = -np.sort(-df[occ_columns].values)\n",
    "\n",
    "cumsum = (X / X.sum(axis=1).reshape(-1, 1)).cumsum(axis=1)\n",
    "\n",
    "\n",
    "cs = pd.DataFrame(cumsum, columns=range(1, 24))\n",
    "cs[\"palabra\"] = df.index\n",
    "cs.set_index(\"palabra\", inplace=True)\n",
    "\n",
    "\n",
    "extended_df = pd.concat([df, cs], axis=1)"
   ]
  },
  {
   "cell_type": "markdown",
   "metadata": {},
   "source": [
    "Ahora, veamos lo siguiente: para las primeras 1000, 2000, 3000, y 5000 palabras ¿cuál es la media de la frecuencia relativa acumulada usando las $i$ provincias con mayor masa?"
   ]
  },
  {
   "cell_type": "code",
   "execution_count": 13,
   "metadata": {},
   "outputs": [
    {
     "data": {
      "text/plain": [
       "<matplotlib.axes._subplots.AxesSubplot at 0x7f5cb036d908>"
      ]
     },
     "execution_count": 13,
     "metadata": {},
     "output_type": "execute_result"
    },
    {
     "data": {
      "image/png": "[encoded data removed]",
      "text/plain": [
       "<Figure size 432x288 with 1 Axes>"
      ]
     },
     "metadata": {},
     "output_type": "display_data"
    }
   ],
   "source": [
    "values = {}\n",
    "for limit in [1000, 2000, 3000, 5000, 10000, 20000]:\n",
    "    values[limit] = extended_df[:limit][list(range(1,24))].mean()\n",
    "    \n",
    "values[\"todas\"] = extended_df[list(range(1,24))].mean()\n",
    "pd.DataFrame(values).plot(marker='o')"
   ]
  },
  {
   "cell_type": "markdown",
   "metadata": {},
   "source": [
    "Como región, elijamos las palabras que reúnen el 80% del uso de cada palabra."
   ]
  },
  {
   "cell_type": "code",
   "execution_count": 49,
   "metadata": {},
   "outputs": [
    {
     "data": {
      "text/plain": [
       "['corrientes', 'formosa', 'chaco', 'misiones']"
      ]
     },
     "execution_count": 49,
     "metadata": {},
     "output_type": "execute_result"
    }
   ],
   "source": [
    "def region(word_series):\n",
    "    palabra = word_series[occ_columns]\n",
    "    palabra = palabra / palabra.sum()\n",
    "    accum = 0\n",
    "    provs = []\n",
    "    \n",
    "    for prov in palabra.sort_values(ascending=False).index:\n",
    "        accum+= palabra[prov]\n",
    "        provs.append(prov)\n",
    "        if accum >= 0.95:\n",
    "            break\n",
    "\n",
    "    return [p.replace(\"_ocurrencias\", \"\") for p in provs]\n",
    "\n",
    "region(df.loc[\"anga\"])"
   ]
  },
  {
   "cell_type": "code",
   "execution_count": 53,
   "metadata": {},
   "outputs": [
    {
     "data": {
      "text/plain": [
       "palabra\n",
       "chivil                             [buenosaires]\n",
       "ush                             [tierradelfuego]\n",
       "poec                                   [neuquen]\n",
       "malpegue                               [mendoza]\n",
       "aijue                                  [formosa]\n",
       "tolhuin                         [tierradelfuego]\n",
       "vallerga                           [buenosaires]\n",
       "yarca                                  [sanjuan]\n",
       "blv                       [sanluis, buenosaires]\n",
       "portho                                 [sanjuan]\n",
       "jumeal                               [catamarca]\n",
       "sinf                                   [tucuman]\n",
       "plottier                               [neuquen]\n",
       "kraka                                 [rionegro]\n",
       "fsa               [formosa, corrientes, santafe]\n",
       "bombola                                [formosa]\n",
       "yarco                                  [sanjuan]\n",
       "sanagasta                              [larioja]\n",
       "wika                                 [catamarca]\n",
       "obera                                 [misiones]\n",
       "breñas                                   [chaco]\n",
       "chivilcoy                          [buenosaires]\n",
       "pachata                                [sanjuan]\n",
       "edet                                   [tucuman]\n",
       "kalima                                   [chaco]\n",
       "inkier                               [entrerios]\n",
       "pelay                                [entrerios]\n",
       "bombolo                                [formosa]\n",
       "akil                                  [misiones]\n",
       "nqn                          [neuquen, rionegro]\n",
       "                            ...                 \n",
       "cldos                         [mendoza, sanluis]\n",
       "edelar                                 [larioja]\n",
       "cldooo                                 [mendoza]\n",
       "rodeooo                              [catamarca]\n",
       "tejadito                               [sanluis]\n",
       "trapani                            [buenosaires]\n",
       "monticas                               [santafe]\n",
       "epe                         [santafe, catamarca]\n",
       "anguil                                 [lapampa]\n",
       "ipauss                          [tierradelfuego]\n",
       "rodeoo                               [catamarca]\n",
       "yagua                     [misiones, corrientes]\n",
       "uvt                           [sanjuan, tucuman]\n",
       "nambrena                               [formosa]\n",
       "krakaaa                               [rionegro]\n",
       "unse                                  [santiago]\n",
       "malpego                       [mendoza, sanjuan]\n",
       "xpresso                         [tierradelfuego]\n",
       "nox                                    [santafe]\n",
       "rada         [chubut, santacruz, tierradelfuego]\n",
       "iskra                                  [mendoza]\n",
       "clda                 [mendoza, sanluis, neuquen]\n",
       "goa                     [catamarca, buenosaires]\n",
       "choeleee                              [rionegro]\n",
       "vadeci                               [catamarca]\n",
       "choay                                  [sanluis]\n",
       "argel            [formosa, misiones, corrientes]\n",
       "fule                   [formosa, jujuy, tucuman]\n",
       "martija                            [buenosaires]\n",
       "placi                                [entrerios]\n",
       "Length: 100, dtype: object"
      ]
     },
     "execution_count": 53,
     "metadata": {},
     "output_type": "execute_result"
    }
   ],
   "source": [
    "df[:100].apply(region, axis=1)"
   ]
  },
  {
   "cell_type": "code",
   "execution_count": null,
   "metadata": {},
   "outputs": [],
   "source": []
  }
 ],
 "metadata": {
  "kernelspec": {
   "display_name": "Python 3",
   "language": "python",
   "name": "python3"
  },
  "language_info": {
   "codemirror_mode": {
    "name": "ipython",
    "version": 3
   },
   "file_extension": ".py",
   "mimetype": "text/x-python",
   "name": "python",
   "nbconvert_exporter": "python",
   "pygments_lexer": "ipython3",
   "version": "3.6.4"
  }
 },
 "nbformat": 4,
 "nbformat_minor": 2
}
