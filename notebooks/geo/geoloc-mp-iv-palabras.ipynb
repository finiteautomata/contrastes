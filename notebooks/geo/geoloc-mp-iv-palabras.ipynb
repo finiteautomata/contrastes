{
 "cells": [
  {
   "cell_type": "markdown",
   "metadata": {},
   "source": [
    "# Geolocalización con MultiProcessing + IV Palabras\n",
    "\n",
    "En esta notebook haremos un intento de geolocalización con los textos de los usuarios..."
   ]
  },
  {
   "cell_type": "code",
   "execution_count": 1,
   "metadata": {},
   "outputs": [],
   "source": [
    "%matplotlib inline\n",
    "%load_ext autoreload\n",
    "%autoreload 2\n",
    "import pandas as pd\n",
    "\n",
    "df_train = pd.read_json(\"../data/geoloc/users_train.json\")\n",
    "df_test = pd.read_json(\"../data/geoloc/users_test.json\")"
   ]
  },
  {
   "cell_type": "markdown",
   "metadata": {},
   "source": [
    "Hagamos lo siguiente:\n",
    "\n",
    "- Entrenemos con unigramas una regresión logística para \n",
    "- Luego probemos con los regionalismos\n",
    "\n",
    "Primero, partamos en train, test"
   ]
  },
  {
   "cell_type": "code",
   "execution_count": 2,
   "metadata": {},
   "outputs": [
    {
     "data": {
      "text/html": [
       "<div>\n",
       "<style scoped>\n",
       "    .dataframe tbody tr th:only-of-type {\n",
       "        vertical-align: middle;\n",
       "    }\n",
       "\n",
       "    .dataframe tbody tr th {\n",
       "        vertical-align: top;\n",
       "    }\n",
       "\n",
       "    .dataframe thead th {\n",
       "        text-align: right;\n",
       "    }\n",
       "</style>\n",
       "<table border=\"1\" class=\"dataframe\">\n",
       "  <thead>\n",
       "    <tr style=\"text-align: right;\">\n",
       "      <th></th>\n",
       "      <th>text</th>\n",
       "    </tr>\n",
       "    <tr>\n",
       "      <th>provincia</th>\n",
       "      <th></th>\n",
       "    </tr>\n",
       "  </thead>\n",
       "  <tbody>\n",
       "    <tr>\n",
       "      <th>buenosaires</th>\n",
       "      <td>337</td>\n",
       "    </tr>\n",
       "    <tr>\n",
       "      <th>catamarca</th>\n",
       "      <td>341</td>\n",
       "    </tr>\n",
       "    <tr>\n",
       "      <th>chaco</th>\n",
       "      <td>331</td>\n",
       "    </tr>\n",
       "    <tr>\n",
       "      <th>chubut</th>\n",
       "      <td>328</td>\n",
       "    </tr>\n",
       "    <tr>\n",
       "      <th>cordoba</th>\n",
       "      <td>317</td>\n",
       "    </tr>\n",
       "    <tr>\n",
       "      <th>corrientes</th>\n",
       "      <td>345</td>\n",
       "    </tr>\n",
       "    <tr>\n",
       "      <th>entrerios</th>\n",
       "      <td>338</td>\n",
       "    </tr>\n",
       "    <tr>\n",
       "      <th>formosa</th>\n",
       "      <td>286</td>\n",
       "    </tr>\n",
       "    <tr>\n",
       "      <th>jujuy</th>\n",
       "      <td>339</td>\n",
       "    </tr>\n",
       "    <tr>\n",
       "      <th>lapampa</th>\n",
       "      <td>324</td>\n",
       "    </tr>\n",
       "    <tr>\n",
       "      <th>larioja</th>\n",
       "      <td>306</td>\n",
       "    </tr>\n",
       "    <tr>\n",
       "      <th>mendoza</th>\n",
       "      <td>326</td>\n",
       "    </tr>\n",
       "    <tr>\n",
       "      <th>misiones</th>\n",
       "      <td>327</td>\n",
       "    </tr>\n",
       "    <tr>\n",
       "      <th>neuquen</th>\n",
       "      <td>350</td>\n",
       "    </tr>\n",
       "    <tr>\n",
       "      <th>rionegro</th>\n",
       "      <td>313</td>\n",
       "    </tr>\n",
       "    <tr>\n",
       "      <th>salta</th>\n",
       "      <td>346</td>\n",
       "    </tr>\n",
       "    <tr>\n",
       "      <th>sanjuan</th>\n",
       "      <td>326</td>\n",
       "    </tr>\n",
       "    <tr>\n",
       "      <th>sanluis</th>\n",
       "      <td>321</td>\n",
       "    </tr>\n",
       "    <tr>\n",
       "      <th>santacruz</th>\n",
       "      <td>288</td>\n",
       "    </tr>\n",
       "    <tr>\n",
       "      <th>santafe</th>\n",
       "      <td>347</td>\n",
       "    </tr>\n",
       "    <tr>\n",
       "      <th>santiago</th>\n",
       "      <td>294</td>\n",
       "    </tr>\n",
       "    <tr>\n",
       "      <th>tierradelfuego</th>\n",
       "      <td>332</td>\n",
       "    </tr>\n",
       "    <tr>\n",
       "      <th>tucuman</th>\n",
       "      <td>338</td>\n",
       "    </tr>\n",
       "  </tbody>\n",
       "</table>\n",
       "</div>"
      ],
      "text/plain": [
       "                text\n",
       "provincia           \n",
       "buenosaires      337\n",
       "catamarca        341\n",
       "chaco            331\n",
       "chubut           328\n",
       "cordoba          317\n",
       "corrientes       345\n",
       "entrerios        338\n",
       "formosa          286\n",
       "jujuy            339\n",
       "lapampa          324\n",
       "larioja          306\n",
       "mendoza          326\n",
       "misiones         327\n",
       "neuquen          350\n",
       "rionegro         313\n",
       "salta            346\n",
       "sanjuan          326\n",
       "sanluis          321\n",
       "santacruz        288\n",
       "santafe          347\n",
       "santiago         294\n",
       "tierradelfuego   332\n",
       "tucuman          338"
      ]
     },
     "execution_count": 2,
     "metadata": {},
     "output_type": "execute_result"
    }
   ],
   "source": [
    "df_train.groupby(\"provincia\").count()"
   ]
  },
  {
   "cell_type": "markdown",
   "metadata": {},
   "source": [
    "## Palabras precalculadas\n",
    "\n",
    "Carguemos antes las palabras que sabemos que ocurren una cantidad razonable de veces"
   ]
  },
  {
   "cell_type": "code",
   "execution_count": 3,
   "metadata": {},
   "outputs": [
    {
     "name": "stdout",
     "output_type": "stream",
     "text": [
      "CPU times: user 1.52 s, sys: 188 ms, total: 1.71 s\n",
      "Wall time: 1.71 s\n"
     ]
    },
    {
     "name": "stderr",
     "output_type": "stream",
     "text": [
      "/home/jmperez/projects/contrastes/contrastes/processing.py:185: UserWarning: Pandas doesn't allow columns to be created via a new attribute name - see https://pandas.pydata.org/pandas-docs/stable/indexing.html#attribute-access\n",
      "  df.columnas_palabras = cant_palabras\n",
      "/home/jmperez/projects/contrastes/contrastes/processing.py:186: UserWarning: Pandas doesn't allow columns to be created via a new attribute name - see https://pandas.pydata.org/pandas-docs/stable/indexing.html#attribute-access\n",
      "  df.columnas_personas = cant_personas\n"
     ]
    }
   ],
   "source": [
    "%%time\n",
    "from contrastes.processing import build_dataframe_from_users\n",
    "from contrastes.processing import preprocess_raw_df\n",
    "\n",
    "\n",
    "#word_df = build_dataframe_from_users(row for index, row in df_train.iterrows())\n",
    "\n",
    "word_df = pd.read_csv(\"train_word_df_filtered.csv\", index_col=0)\n",
    "word_df = preprocess_raw_df(word_df, filter_words=(10, 2))"
   ]
  },
  {
   "cell_type": "markdown",
   "metadata": {},
   "source": [
    "La reg. logística será un softmax, así que elijo `multi_class='multinomial'`"
   ]
  },
  {
   "cell_type": "code",
   "execution_count": 4,
   "metadata": {},
   "outputs": [
    {
     "name": "stdout",
     "output_type": "stream",
     "text": [
      "Calculating information values...\n",
      "Calculating ranks...\n"
     ]
    }
   ],
   "source": [
    "from contrastes.lists import add_ival\n",
    "\n",
    "add_ival(word_df, normalize=True)"
   ]
  },
  {
   "cell_type": "code",
   "execution_count": 5,
   "metadata": {},
   "outputs": [
    {
     "data": {
      "text/html": [
       "<div>\n",
       "<style scoped>\n",
       "    .dataframe tbody tr th:only-of-type {\n",
       "        vertical-align: middle;\n",
       "    }\n",
       "\n",
       "    .dataframe tbody tr th {\n",
       "        vertical-align: top;\n",
       "    }\n",
       "\n",
       "    .dataframe thead th {\n",
       "        text-align: right;\n",
       "    }\n",
       "</style>\n",
       "<table border=\"1\" class=\"dataframe\">\n",
       "  <thead>\n",
       "    <tr style=\"text-align: right;\">\n",
       "      <th></th>\n",
       "      <th>buenosaires_ocurrencias</th>\n",
       "      <th>buenosaires_usuarios</th>\n",
       "      <th>catamarca_ocurrencias</th>\n",
       "      <th>catamarca_usuarios</th>\n",
       "      <th>chaco_ocurrencias</th>\n",
       "      <th>chaco_usuarios</th>\n",
       "      <th>chubut_ocurrencias</th>\n",
       "      <th>chubut_usuarios</th>\n",
       "      <th>cordoba_ocurrencias</th>\n",
       "      <th>cordoba_usuarios</th>\n",
       "      <th>...</th>\n",
       "      <th>tucuman_usuarios</th>\n",
       "      <th>cant_provincias</th>\n",
       "      <th>cant_palabra</th>\n",
       "      <th>cant_usuarios</th>\n",
       "      <th>ival_palabras</th>\n",
       "      <th>ival_personas</th>\n",
       "      <th>ival_palper</th>\n",
       "      <th>rank_palabras</th>\n",
       "      <th>rank_personas</th>\n",
       "      <th>rank_palper</th>\n",
       "    </tr>\n",
       "  </thead>\n",
       "  <tbody>\n",
       "    <tr>\n",
       "      <th>hoa</th>\n",
       "      <td>0.0</td>\n",
       "      <td>0.0</td>\n",
       "      <td>1.0</td>\n",
       "      <td>1.0</td>\n",
       "      <td>0.0</td>\n",
       "      <td>0.0</td>\n",
       "      <td>0.0</td>\n",
       "      <td>0.0</td>\n",
       "      <td>0.0</td>\n",
       "      <td>0.0</td>\n",
       "      <td>...</td>\n",
       "      <td>0.0</td>\n",
       "      <td>6</td>\n",
       "      <td>3281.0</td>\n",
       "      <td>16.0</td>\n",
       "      <td>1.673924</td>\n",
       "      <td>0.394085</td>\n",
       "      <td>0.659668</td>\n",
       "      <td>1.0</td>\n",
       "      <td>12428.0</td>\n",
       "      <td>595.0</td>\n",
       "    </tr>\n",
       "    <tr>\n",
       "      <th>rioja</th>\n",
       "      <td>21.0</td>\n",
       "      <td>8.0</td>\n",
       "      <td>219.0</td>\n",
       "      <td>73.0</td>\n",
       "      <td>3.0</td>\n",
       "      <td>3.0</td>\n",
       "      <td>18.0</td>\n",
       "      <td>11.0</td>\n",
       "      <td>23.0</td>\n",
       "      <td>14.0</td>\n",
       "      <td>...</td>\n",
       "      <td>16.0</td>\n",
       "      <td>23</td>\n",
       "      <td>8020.0</td>\n",
       "      <td>1012.0</td>\n",
       "      <td>1.658451</td>\n",
       "      <td>0.843488</td>\n",
       "      <td>1.398883</td>\n",
       "      <td>2.0</td>\n",
       "      <td>965.0</td>\n",
       "      <td>50.0</td>\n",
       "    </tr>\n",
       "    <tr>\n",
       "      <th>ushuaia</th>\n",
       "      <td>19.0</td>\n",
       "      <td>5.0</td>\n",
       "      <td>2.0</td>\n",
       "      <td>2.0</td>\n",
       "      <td>3.0</td>\n",
       "      <td>2.0</td>\n",
       "      <td>16.0</td>\n",
       "      <td>13.0</td>\n",
       "      <td>3.0</td>\n",
       "      <td>3.0</td>\n",
       "      <td>...</td>\n",
       "      <td>2.0</td>\n",
       "      <td>23</td>\n",
       "      <td>5874.0</td>\n",
       "      <td>704.0</td>\n",
       "      <td>1.644963</td>\n",
       "      <td>1.052576</td>\n",
       "      <td>1.731448</td>\n",
       "      <td>3.0</td>\n",
       "      <td>288.0</td>\n",
       "      <td>14.0</td>\n",
       "    </tr>\n",
       "    <tr>\n",
       "      <th>chivilcoy</th>\n",
       "      <td>2331.0</td>\n",
       "      <td>125.0</td>\n",
       "      <td>0.0</td>\n",
       "      <td>0.0</td>\n",
       "      <td>1.0</td>\n",
       "      <td>1.0</td>\n",
       "      <td>0.0</td>\n",
       "      <td>0.0</td>\n",
       "      <td>1.0</td>\n",
       "      <td>1.0</td>\n",
       "      <td>...</td>\n",
       "      <td>0.0</td>\n",
       "      <td>6</td>\n",
       "      <td>2337.0</td>\n",
       "      <td>262.0</td>\n",
       "      <td>1.599973</td>\n",
       "      <td>1.569203</td>\n",
       "      <td>2.510682</td>\n",
       "      <td>4.0</td>\n",
       "      <td>5.0</td>\n",
       "      <td>1.0</td>\n",
       "    </tr>\n",
       "    <tr>\n",
       "      <th>bragado</th>\n",
       "      <td>1757.0</td>\n",
       "      <td>89.0</td>\n",
       "      <td>0.0</td>\n",
       "      <td>0.0</td>\n",
       "      <td>0.0</td>\n",
       "      <td>0.0</td>\n",
       "      <td>1.0</td>\n",
       "      <td>1.0</td>\n",
       "      <td>0.0</td>\n",
       "      <td>0.0</td>\n",
       "      <td>...</td>\n",
       "      <td>0.0</td>\n",
       "      <td>5</td>\n",
       "      <td>1766.0</td>\n",
       "      <td>192.0</td>\n",
       "      <td>1.535212</td>\n",
       "      <td>1.443644</td>\n",
       "      <td>2.216299</td>\n",
       "      <td>5.0</td>\n",
       "      <td>14.0</td>\n",
       "      <td>2.0</td>\n",
       "    </tr>\n",
       "    <tr>\n",
       "      <th>jujuy</th>\n",
       "      <td>17.0</td>\n",
       "      <td>8.0</td>\n",
       "      <td>53.0</td>\n",
       "      <td>23.0</td>\n",
       "      <td>20.0</td>\n",
       "      <td>18.0</td>\n",
       "      <td>22.0</td>\n",
       "      <td>16.0</td>\n",
       "      <td>50.0</td>\n",
       "      <td>21.0</td>\n",
       "      <td>...</td>\n",
       "      <td>49.0</td>\n",
       "      <td>23</td>\n",
       "      <td>8334.0</td>\n",
       "      <td>1464.0</td>\n",
       "      <td>1.496421</td>\n",
       "      <td>0.591684</td>\n",
       "      <td>0.885409</td>\n",
       "      <td>6.0</td>\n",
       "      <td>3309.0</td>\n",
       "      <td>253.0</td>\n",
       "    </tr>\n",
       "    <tr>\n",
       "      <th>tilly</th>\n",
       "      <td>0.0</td>\n",
       "      <td>0.0</td>\n",
       "      <td>0.0</td>\n",
       "      <td>0.0</td>\n",
       "      <td>0.0</td>\n",
       "      <td>0.0</td>\n",
       "      <td>1409.0</td>\n",
       "      <td>79.0</td>\n",
       "      <td>1.0</td>\n",
       "      <td>1.0</td>\n",
       "      <td>...</td>\n",
       "      <td>0.0</td>\n",
       "      <td>6</td>\n",
       "      <td>1423.0</td>\n",
       "      <td>180.0</td>\n",
       "      <td>1.473581</td>\n",
       "      <td>1.324791</td>\n",
       "      <td>1.952187</td>\n",
       "      <td>7.0</td>\n",
       "      <td>48.0</td>\n",
       "      <td>5.0</td>\n",
       "    </tr>\n",
       "    <tr>\n",
       "      <th>tdf</th>\n",
       "      <td>1.0</td>\n",
       "      <td>1.0</td>\n",
       "      <td>0.0</td>\n",
       "      <td>0.0</td>\n",
       "      <td>0.0</td>\n",
       "      <td>0.0</td>\n",
       "      <td>0.0</td>\n",
       "      <td>0.0</td>\n",
       "      <td>0.0</td>\n",
       "      <td>0.0</td>\n",
       "      <td>...</td>\n",
       "      <td>0.0</td>\n",
       "      <td>11</td>\n",
       "      <td>1399.0</td>\n",
       "      <td>178.0</td>\n",
       "      <td>1.442562</td>\n",
       "      <td>1.157514</td>\n",
       "      <td>1.669785</td>\n",
       "      <td>8.0</td>\n",
       "      <td>143.0</td>\n",
       "      <td>19.0</td>\n",
       "    </tr>\n",
       "    <tr>\n",
       "      <th>rada</th>\n",
       "      <td>0.0</td>\n",
       "      <td>0.0</td>\n",
       "      <td>1.0</td>\n",
       "      <td>1.0</td>\n",
       "      <td>1.0</td>\n",
       "      <td>1.0</td>\n",
       "      <td>1914.0</td>\n",
       "      <td>169.0</td>\n",
       "      <td>7.0</td>\n",
       "      <td>3.0</td>\n",
       "      <td>...</td>\n",
       "      <td>1.0</td>\n",
       "      <td>18</td>\n",
       "      <td>1988.0</td>\n",
       "      <td>424.0</td>\n",
       "      <td>1.437460</td>\n",
       "      <td>1.236516</td>\n",
       "      <td>1.777443</td>\n",
       "      <td>9.0</td>\n",
       "      <td>84.0</td>\n",
       "      <td>11.0</td>\n",
       "    </tr>\n",
       "    <tr>\n",
       "      <th>gestionando</th>\n",
       "      <td>6.0</td>\n",
       "      <td>2.0</td>\n",
       "      <td>1.0</td>\n",
       "      <td>1.0</td>\n",
       "      <td>0.0</td>\n",
       "      <td>0.0</td>\n",
       "      <td>1.0</td>\n",
       "      <td>1.0</td>\n",
       "      <td>3.0</td>\n",
       "      <td>2.0</td>\n",
       "      <td>...</td>\n",
       "      <td>2.0</td>\n",
       "      <td>20</td>\n",
       "      <td>1646.0</td>\n",
       "      <td>80.0</td>\n",
       "      <td>1.418463</td>\n",
       "      <td>0.157763</td>\n",
       "      <td>0.223781</td>\n",
       "      <td>10.0</td>\n",
       "      <td>67431.0</td>\n",
       "      <td>4702.0</td>\n",
       "    </tr>\n",
       "  </tbody>\n",
       "</table>\n",
       "<p>10 rows × 55 columns</p>\n",
       "</div>"
      ],
      "text/plain": [
       "             buenosaires_ocurrencias  buenosaires_usuarios  \\\n",
       "hoa                              0.0                   0.0   \n",
       "rioja                           21.0                   8.0   \n",
       "ushuaia                         19.0                   5.0   \n",
       "chivilcoy                     2331.0                 125.0   \n",
       "bragado                       1757.0                  89.0   \n",
       "jujuy                           17.0                   8.0   \n",
       "tilly                            0.0                   0.0   \n",
       "tdf                              1.0                   1.0   \n",
       "rada                             0.0                   0.0   \n",
       "gestionando                      6.0                   2.0   \n",
       "\n",
       "             catamarca_ocurrencias  catamarca_usuarios  chaco_ocurrencias  \\\n",
       "hoa                            1.0                 1.0                0.0   \n",
       "rioja                        219.0                73.0                3.0   \n",
       "ushuaia                        2.0                 2.0                3.0   \n",
       "chivilcoy                      0.0                 0.0                1.0   \n",
       "bragado                        0.0                 0.0                0.0   \n",
       "jujuy                         53.0                23.0               20.0   \n",
       "tilly                          0.0                 0.0                0.0   \n",
       "tdf                            0.0                 0.0                0.0   \n",
       "rada                           1.0                 1.0                1.0   \n",
       "gestionando                    1.0                 1.0                0.0   \n",
       "\n",
       "             chaco_usuarios  chubut_ocurrencias  chubut_usuarios  \\\n",
       "hoa                     0.0                 0.0              0.0   \n",
       "rioja                   3.0                18.0             11.0   \n",
       "ushuaia                 2.0                16.0             13.0   \n",
       "chivilcoy               1.0                 0.0              0.0   \n",
       "bragado                 0.0                 1.0              1.0   \n",
       "jujuy                  18.0                22.0             16.0   \n",
       "tilly                   0.0              1409.0             79.0   \n",
       "tdf                     0.0                 0.0              0.0   \n",
       "rada                    1.0              1914.0            169.0   \n",
       "gestionando             0.0                 1.0              1.0   \n",
       "\n",
       "             cordoba_ocurrencias  cordoba_usuarios     ...       \\\n",
       "hoa                          0.0               0.0     ...        \n",
       "rioja                       23.0              14.0     ...        \n",
       "ushuaia                      3.0               3.0     ...        \n",
       "chivilcoy                    1.0               1.0     ...        \n",
       "bragado                      0.0               0.0     ...        \n",
       "jujuy                       50.0              21.0     ...        \n",
       "tilly                        1.0               1.0     ...        \n",
       "tdf                          0.0               0.0     ...        \n",
       "rada                         7.0               3.0     ...        \n",
       "gestionando                  3.0               2.0     ...        \n",
       "\n",
       "             tucuman_usuarios  cant_provincias  cant_palabra  cant_usuarios  \\\n",
       "hoa                       0.0                6        3281.0           16.0   \n",
       "rioja                    16.0               23        8020.0         1012.0   \n",
       "ushuaia                   2.0               23        5874.0          704.0   \n",
       "chivilcoy                 0.0                6        2337.0          262.0   \n",
       "bragado                   0.0                5        1766.0          192.0   \n",
       "jujuy                    49.0               23        8334.0         1464.0   \n",
       "tilly                     0.0                6        1423.0          180.0   \n",
       "tdf                       0.0               11        1399.0          178.0   \n",
       "rada                      1.0               18        1988.0          424.0   \n",
       "gestionando               2.0               20        1646.0           80.0   \n",
       "\n",
       "             ival_palabras  ival_personas  ival_palper  rank_palabras  \\\n",
       "hoa               1.673924       0.394085     0.659668            1.0   \n",
       "rioja             1.658451       0.843488     1.398883            2.0   \n",
       "ushuaia           1.644963       1.052576     1.731448            3.0   \n",
       "chivilcoy         1.599973       1.569203     2.510682            4.0   \n",
       "bragado           1.535212       1.443644     2.216299            5.0   \n",
       "jujuy             1.496421       0.591684     0.885409            6.0   \n",
       "tilly             1.473581       1.324791     1.952187            7.0   \n",
       "tdf               1.442562       1.157514     1.669785            8.0   \n",
       "rada              1.437460       1.236516     1.777443            9.0   \n",
       "gestionando       1.418463       0.157763     0.223781           10.0   \n",
       "\n",
       "             rank_personas  rank_palper  \n",
       "hoa                12428.0        595.0  \n",
       "rioja                965.0         50.0  \n",
       "ushuaia              288.0         14.0  \n",
       "chivilcoy              5.0          1.0  \n",
       "bragado               14.0          2.0  \n",
       "jujuy               3309.0        253.0  \n",
       "tilly                 48.0          5.0  \n",
       "tdf                  143.0         19.0  \n",
       "rada                  84.0         11.0  \n",
       "gestionando        67431.0       4702.0  \n",
       "\n",
       "[10 rows x 55 columns]"
      ]
     },
     "execution_count": 5,
     "metadata": {},
     "output_type": "execute_result"
    }
   ],
   "source": [
    "word_df.sort_values(\"rank_palabras\", ascending=True, inplace=True)\n",
    "\n",
    "word_df.iloc[:10]"
   ]
  },
  {
   "cell_type": "markdown",
   "metadata": {},
   "source": [
    "Veamos qué performance tiene usando 1000, 2000, 3000, y así..."
   ]
  },
  {
   "cell_type": "code",
   "execution_count": 6,
   "metadata": {},
   "outputs": [
    {
     "name": "stdout",
     "output_type": "stream",
     "text": [
      "Vectorizing\n",
      "CPU times: user 10min 15s, sys: 1.05 s, total: 10min 16s\n",
      "Wall time: 10min 16s\n"
     ]
    }
   ],
   "source": [
    "%%time\n",
    "from sklearn.feature_extraction.text import CountVectorizer\n",
    "from contrastes.text import tokenize\n",
    "\n",
    "liw_vectorizer = CountVectorizer(\n",
    "    tokenizer=tokenize,\n",
    "    vocabulary=word_df.index)\n",
    "\n",
    "X_train = liw_vectorizer.fit_transform(df_train[\"text\"])\n",
    "print(\"Vectorizing\")\n",
    "X_test = liw_vectorizer.transform(df_test[\"text\"])"
   ]
  },
  {
   "cell_type": "markdown",
   "metadata": {},
   "source": [
    "Ya las tenemos vectorizadas en el orden esperado!"
   ]
  },
  {
   "cell_type": "code",
   "execution_count": 7,
   "metadata": {},
   "outputs": [],
   "source": [
    "from sklearn.preprocessing import LabelEncoder\n",
    "\n",
    "province_encoder = LabelEncoder()\n",
    "\n",
    "province_encoder.fit(df_train[\"provincia\"].values)\n",
    "\n",
    "y_train = province_encoder.transform(df_train[\"provincia\"].values)\n",
    "y_test = province_encoder.transform(df_test[\"provincia\"].values)"
   ]
  },
  {
   "cell_type": "code",
   "execution_count": 8,
   "metadata": {},
   "outputs": [
    {
     "name": "stdout",
     "output_type": "stream",
     "text": [
      "Entrenando con 250 palabras\n",
      "Entrenando con 500 palabras\n",
      "Entrenando con 750 palabras\n",
      "Entrenando con 1500 palabras\n",
      "Entrenando con 1000 palabras\n",
      "Entrenando con 1750 palabras\n",
      "Entrenando con 1250 palabras\n",
      "Entrenando con 2000 palabras\n"
     ]
    },
    {
     "name": "stderr",
     "output_type": "stream",
     "text": [
      "/home/jmperez/.pyenv/versions/3.6.5/envs/contrastes/lib/python3.6/site-packages/sklearn/linear_model/sag.py:334: ConvergenceWarning: The max_iter was reached which means the coef_ did not converge\n",
      "  \"the coef_ did not converge\", ConvergenceWarning)\n"
     ]
    },
    {
     "name": "stdout",
     "output_type": "stream",
     "text": [
      "250   palabras ----> accuracy 59.68 mean distance 303.4612\n",
      "Entrenando con 2250 palabras\n"
     ]
    },
    {
     "name": "stderr",
     "output_type": "stream",
     "text": [
      "/home/jmperez/.pyenv/versions/3.6.5/envs/contrastes/lib/python3.6/site-packages/sklearn/linear_model/sag.py:334: ConvergenceWarning: The max_iter was reached which means the coef_ did not converge\n",
      "  \"the coef_ did not converge\", ConvergenceWarning)\n"
     ]
    },
    {
     "name": "stdout",
     "output_type": "stream",
     "text": [
      "500   palabras ----> accuracy 61.84 mean distance 354.1188\n",
      "Entrenando con 2500 palabras\n"
     ]
    },
    {
     "name": "stderr",
     "output_type": "stream",
     "text": [
      "/home/jmperez/.pyenv/versions/3.6.5/envs/contrastes/lib/python3.6/site-packages/sklearn/linear_model/sag.py:334: ConvergenceWarning: The max_iter was reached which means the coef_ did not converge\n",
      "  \"the coef_ did not converge\", ConvergenceWarning)\n"
     ]
    },
    {
     "name": "stdout",
     "output_type": "stream",
     "text": [
      "750   palabras ----> accuracy 63.92 mean distance 340.1252\n",
      "Entrenando con 2750 palabras\n"
     ]
    },
    {
     "name": "stderr",
     "output_type": "stream",
     "text": [
      "/home/jmperez/.pyenv/versions/3.6.5/envs/contrastes/lib/python3.6/site-packages/sklearn/linear_model/sag.py:334: ConvergenceWarning: The max_iter was reached which means the coef_ did not converge\n",
      "  \"the coef_ did not converge\", ConvergenceWarning)\n"
     ]
    },
    {
     "name": "stdout",
     "output_type": "stream",
     "text": [
      "1250  palabras ----> accuracy 62.20 mean distance 386.8308\n",
      "Entrenando con 3000 palabras\n"
     ]
    },
    {
     "name": "stderr",
     "output_type": "stream",
     "text": [
      "/home/jmperez/.pyenv/versions/3.6.5/envs/contrastes/lib/python3.6/site-packages/sklearn/linear_model/sag.py:334: ConvergenceWarning: The max_iter was reached which means the coef_ did not converge\n",
      "  \"the coef_ did not converge\", ConvergenceWarning)\n"
     ]
    },
    {
     "name": "stdout",
     "output_type": "stream",
     "text": [
      "1000  palabras ----> accuracy 62.68 mean distance 358.928\n",
      "Entrenando con 3250 palabras\n"
     ]
    },
    {
     "name": "stderr",
     "output_type": "stream",
     "text": [
      "/home/jmperez/.pyenv/versions/3.6.5/envs/contrastes/lib/python3.6/site-packages/sklearn/linear_model/sag.py:334: ConvergenceWarning: The max_iter was reached which means the coef_ did not converge\n",
      "  \"the coef_ did not converge\", ConvergenceWarning)\n"
     ]
    },
    {
     "name": "stdout",
     "output_type": "stream",
     "text": [
      "1500  palabras ----> accuracy 63.08 mean distance 375.3432\n",
      "Entrenando con 3500 palabras\n"
     ]
    },
    {
     "name": "stderr",
     "output_type": "stream",
     "text": [
      "/home/jmperez/.pyenv/versions/3.6.5/envs/contrastes/lib/python3.6/site-packages/sklearn/linear_model/sag.py:334: ConvergenceWarning: The max_iter was reached which means the coef_ did not converge\n",
      "  \"the coef_ did not converge\", ConvergenceWarning)\n"
     ]
    },
    {
     "name": "stdout",
     "output_type": "stream",
     "text": [
      "1750  palabras ----> accuracy 65.52 mean distance 347.0192\n",
      "Entrenando con 3750 palabras\n"
     ]
    },
    {
     "name": "stderr",
     "output_type": "stream",
     "text": [
      "/home/jmperez/.pyenv/versions/3.6.5/envs/contrastes/lib/python3.6/site-packages/sklearn/linear_model/sag.py:334: ConvergenceWarning: The max_iter was reached which means the coef_ did not converge\n",
      "  \"the coef_ did not converge\", ConvergenceWarning)\n"
     ]
    },
    {
     "name": "stdout",
     "output_type": "stream",
     "text": [
      "2000  palabras ----> accuracy 65.88 mean distance 344.8376\n",
      "Entrenando con 4000 palabras\n",
      "2250  palabras ----> accuracy 65.64 mean distance 349.466\n",
      "Entrenando con 4250 palabras\n",
      "2500  palabras ----> accuracy 65.44 mean distance 339.9712\n",
      "Entrenando con 4500 palabras\n",
      "2750  palabras ----> accuracy 65.56 mean distance 338.302\n",
      "Entrenando con 4750 palabras\n",
      "3000  palabras ----> accuracy 66.08 mean distance 331.96\n",
      "3500  palabras ----> accuracy 67.00 mean distance 320.8644\n",
      "3250  palabras ----> accuracy 66.72 mean distance 326.204\n",
      "3750  palabras ----> accuracy 66.80 mean distance 307.7488\n",
      "4000  palabras ----> accuracy 66.80 mean distance 307.2376\n",
      "4250  palabras ----> accuracy 66.88 mean distance 299.902\n",
      "4500  palabras ----> accuracy 67.32 mean distance 297.5956\n",
      "4750  palabras ----> accuracy 67.40 mean distance 295.1436\n",
      "CPU times: user 64 ms, sys: 488 ms, total: 552 ms\n",
      "Wall time: 20.2 s\n"
     ]
    }
   ],
   "source": [
    "%%time\n",
    "from contrastes.classifiers import fit_classifiers\n",
    "\n",
    "num_words_to_fit = list(range(250, 5000, 250))\n",
    "\n",
    "ret = fit_classifiers(X_train, y_train, X_test, y_test, province_encoder=province_encoder,\n",
    "                      range_num_words=num_words_to_fit, num_jobs=8)"
   ]
  },
  {
   "cell_type": "code",
   "execution_count": 9,
   "metadata": {},
   "outputs": [
    {
     "name": "stdout",
     "output_type": "stream",
     "text": [
      "Entrenando con 8000 palabras\n",
      "Entrenando con 6000 palabras\n",
      "Entrenando con 7000 palabras\n",
      "Entrenando con 6500 palabras\n",
      "Entrenando con 5500 palabras\n",
      "Entrenando con 7500 palabras\n",
      "Entrenando con 8500 palabras\n",
      "Entrenando con 5000 palabras\n"
     ]
    },
    {
     "name": "stderr",
     "output_type": "stream",
     "text": [
      "/home/jmperez/.pyenv/versions/3.6.5/envs/contrastes/lib/python3.6/site-packages/sklearn/linear_model/sag.py:334: ConvergenceWarning: The max_iter was reached which means the coef_ did not converge\n",
      "  \"the coef_ did not converge\", ConvergenceWarning)\n"
     ]
    },
    {
     "name": "stdout",
     "output_type": "stream",
     "text": [
      "5000  palabras ----> accuracy 67.32 mean distance 296.62\n",
      "Entrenando con 9000 palabras\n"
     ]
    },
    {
     "name": "stderr",
     "output_type": "stream",
     "text": [
      "/home/jmperez/.pyenv/versions/3.6.5/envs/contrastes/lib/python3.6/site-packages/sklearn/linear_model/sag.py:334: ConvergenceWarning: The max_iter was reached which means the coef_ did not converge\n",
      "  \"the coef_ did not converge\", ConvergenceWarning)\n"
     ]
    },
    {
     "name": "stdout",
     "output_type": "stream",
     "text": [
      "5500  palabras ----> accuracy 67.60 mean distance 296.6752\n",
      "Entrenando con 9500 palabras\n"
     ]
    },
    {
     "name": "stderr",
     "output_type": "stream",
     "text": [
      "/home/jmperez/.pyenv/versions/3.6.5/envs/contrastes/lib/python3.6/site-packages/sklearn/linear_model/sag.py:334: ConvergenceWarning: The max_iter was reached which means the coef_ did not converge\n",
      "  \"the coef_ did not converge\", ConvergenceWarning)\n"
     ]
    },
    {
     "name": "stdout",
     "output_type": "stream",
     "text": [
      "6000  palabras ----> accuracy 67.72 mean distance 294.3132\n",
      "Entrenando con 10000 palabras\n"
     ]
    },
    {
     "name": "stderr",
     "output_type": "stream",
     "text": [
      "/home/jmperez/.pyenv/versions/3.6.5/envs/contrastes/lib/python3.6/site-packages/sklearn/linear_model/sag.py:334: ConvergenceWarning: The max_iter was reached which means the coef_ did not converge\n",
      "  \"the coef_ did not converge\", ConvergenceWarning)\n"
     ]
    },
    {
     "name": "stdout",
     "output_type": "stream",
     "text": [
      "6500  palabras ----> accuracy 67.64 mean distance 295.1328\n",
      "Entrenando con 10500 palabras\n"
     ]
    },
    {
     "name": "stderr",
     "output_type": "stream",
     "text": [
      "/home/jmperez/.pyenv/versions/3.6.5/envs/contrastes/lib/python3.6/site-packages/sklearn/linear_model/sag.py:334: ConvergenceWarning: The max_iter was reached which means the coef_ did not converge\n",
      "  \"the coef_ did not converge\", ConvergenceWarning)\n"
     ]
    },
    {
     "name": "stdout",
     "output_type": "stream",
     "text": [
      "7000  palabras ----> accuracy 67.44 mean distance 299.7824\n",
      "Entrenando con 11000 palabras\n"
     ]
    },
    {
     "name": "stderr",
     "output_type": "stream",
     "text": [
      "/home/jmperez/.pyenv/versions/3.6.5/envs/contrastes/lib/python3.6/site-packages/sklearn/linear_model/sag.py:334: ConvergenceWarning: The max_iter was reached which means the coef_ did not converge\n",
      "  \"the coef_ did not converge\", ConvergenceWarning)\n"
     ]
    },
    {
     "name": "stdout",
     "output_type": "stream",
     "text": [
      "7500  palabras ----> accuracy 67.64 mean distance 299.4144\n",
      "Entrenando con 11500 palabras\n"
     ]
    },
    {
     "name": "stderr",
     "output_type": "stream",
     "text": [
      "/home/jmperez/.pyenv/versions/3.6.5/envs/contrastes/lib/python3.6/site-packages/sklearn/linear_model/sag.py:334: ConvergenceWarning: The max_iter was reached which means the coef_ did not converge\n",
      "  \"the coef_ did not converge\", ConvergenceWarning)\n"
     ]
    },
    {
     "name": "stdout",
     "output_type": "stream",
     "text": [
      "8000  palabras ----> accuracy 67.32 mean distance 298.2068\n",
      "Entrenando con 12000 palabras\n"
     ]
    },
    {
     "name": "stderr",
     "output_type": "stream",
     "text": [
      "/home/jmperez/.pyenv/versions/3.6.5/envs/contrastes/lib/python3.6/site-packages/sklearn/linear_model/sag.py:334: ConvergenceWarning: The max_iter was reached which means the coef_ did not converge\n",
      "  \"the coef_ did not converge\", ConvergenceWarning)\n"
     ]
    },
    {
     "name": "stdout",
     "output_type": "stream",
     "text": [
      "8500  palabras ----> accuracy 67.36 mean distance 298.2964\n",
      "Entrenando con 12500 palabras\n",
      "9000  palabras ----> accuracy 67.80 mean distance 295.5116\n",
      "Entrenando con 13000 palabras\n",
      "9500  palabras ----> accuracy 65.48 mean distance 313.7744\n",
      "Entrenando con 13500 palabras\n",
      "10000 palabras ----> accuracy 65.84 mean distance 308.8908\n",
      "Entrenando con 14000 palabras\n",
      "10500 palabras ----> accuracy 65.92 mean distance 309.2316\n",
      "Entrenando con 14500 palabras\n",
      "11000 palabras ----> accuracy 66.72 mean distance 297.5412\n",
      "Entrenando con 15000 palabras\n",
      "11500 palabras ----> accuracy 66.60 mean distance 298.2156\n",
      "Entrenando con 15500 palabras\n",
      "12000 palabras ----> accuracy 66.36 mean distance 304.4724\n",
      "Entrenando con 16000 palabras\n",
      "12500 palabras ----> accuracy 66.72 mean distance 302.4672\n",
      "Entrenando con 16500 palabras\n",
      "13000 palabras ----> accuracy 66.92 mean distance 300.2012\n",
      "Entrenando con 17000 palabras\n",
      "13500 palabras ----> accuracy 66.92 mean distance 300.2784\n",
      "Entrenando con 17500 palabras\n",
      "14000 palabras ----> accuracy 66.88 mean distance 298.6144\n",
      "Entrenando con 18000 palabras\n",
      "14500 palabras ----> accuracy 66.88 mean distance 298.6096\n",
      "Entrenando con 18500 palabras\n",
      "15000 palabras ----> accuracy 66.72 mean distance 300.0008\n",
      "Entrenando con 19000 palabras\n",
      "15500 palabras ----> accuracy 66.80 mean distance 299.4016\n",
      "Entrenando con 19500 palabras\n",
      "16000 palabras ----> accuracy 66.92 mean distance 295.9824\n",
      "16500 palabras ----> accuracy 66.96 mean distance 297.4896\n",
      "17000 palabras ----> accuracy 66.88 mean distance 308.428\n",
      "17500 palabras ----> accuracy 66.84 mean distance 309.0688\n",
      "18000 palabras ----> accuracy 66.96 mean distance 308.5356\n",
      "18500 palabras ----> accuracy 67.00 mean distance 307.7056\n",
      "19000 palabras ----> accuracy 66.96 mean distance 307.9372\n",
      "19500 palabras ----> accuracy 67.04 mean distance 307.1656\n",
      "CPU times: user 148 ms, sys: 588 ms, total: 736 ms\n",
      "Wall time: 1min 25s\n"
     ]
    }
   ],
   "source": [
    "%%time\n",
    "from contrastes.classifiers import fit_classifiers\n",
    "\n",
    "num_words_to_fit = list(range(5000, 20000, 500))\n",
    "\n",
    "ret += fit_classifiers(X_train, y_train, X_test, y_test, province_encoder=province_encoder,\n",
    "                      range_num_words=num_words_to_fit, num_jobs=8)"
   ]
  },
  {
   "cell_type": "code",
   "execution_count": 10,
   "metadata": {},
   "outputs": [
    {
     "name": "stdout",
     "output_type": "stream",
     "text": [
      "250   palabras ----> accuracy 59.68 mean distance 303.4612\n",
      "500   palabras ----> accuracy 61.84 mean distance 354.1188\n",
      "750   palabras ----> accuracy 63.92 mean distance 340.1252\n",
      "1000  palabras ----> accuracy 62.68 mean distance 358.928\n",
      "1250  palabras ----> accuracy 62.20 mean distance 386.8308\n",
      "1500  palabras ----> accuracy 63.08 mean distance 375.3432\n",
      "1750  palabras ----> accuracy 65.52 mean distance 347.0192\n",
      "2000  palabras ----> accuracy 65.88 mean distance 344.8376\n",
      "2250  palabras ----> accuracy 65.64 mean distance 349.466\n",
      "2500  palabras ----> accuracy 65.44 mean distance 339.9712\n",
      "2750  palabras ----> accuracy 65.56 mean distance 338.302\n",
      "3000  palabras ----> accuracy 66.08 mean distance 331.96\n",
      "3250  palabras ----> accuracy 66.72 mean distance 326.204\n",
      "3500  palabras ----> accuracy 67.00 mean distance 320.8644\n",
      "3750  palabras ----> accuracy 66.80 mean distance 307.7488\n",
      "4000  palabras ----> accuracy 66.80 mean distance 307.2376\n",
      "4250  palabras ----> accuracy 66.88 mean distance 299.902\n",
      "4500  palabras ----> accuracy 67.32 mean distance 297.5956\n",
      "4750  palabras ----> accuracy 67.40 mean distance 295.1436\n",
      "5000  palabras ----> accuracy 67.32 mean distance 296.62\n",
      "5500  palabras ----> accuracy 67.60 mean distance 296.6752\n",
      "6000  palabras ----> accuracy 67.72 mean distance 294.3132\n",
      "6500  palabras ----> accuracy 67.64 mean distance 295.1328\n",
      "7000  palabras ----> accuracy 67.44 mean distance 299.7824\n",
      "7500  palabras ----> accuracy 67.64 mean distance 299.4144\n",
      "8000  palabras ----> accuracy 67.32 mean distance 298.2068\n",
      "8500  palabras ----> accuracy 67.36 mean distance 298.2964\n",
      "9000  palabras ----> accuracy 67.80 mean distance 295.5116\n",
      "9500  palabras ----> accuracy 65.48 mean distance 313.7744\n",
      "10000 palabras ----> accuracy 65.84 mean distance 308.8908\n",
      "10500 palabras ----> accuracy 65.92 mean distance 309.2316\n",
      "11000 palabras ----> accuracy 66.72 mean distance 297.5412\n",
      "11500 palabras ----> accuracy 66.60 mean distance 298.2156\n",
      "12000 palabras ----> accuracy 66.36 mean distance 304.4724\n",
      "12500 palabras ----> accuracy 66.72 mean distance 302.4672\n",
      "13000 palabras ----> accuracy 66.92 mean distance 300.2012\n",
      "13500 palabras ----> accuracy 66.92 mean distance 300.2784\n",
      "14000 palabras ----> accuracy 66.88 mean distance 298.6144\n",
      "14500 palabras ----> accuracy 66.88 mean distance 298.6096\n",
      "15000 palabras ----> accuracy 66.72 mean distance 300.0008\n",
      "15500 palabras ----> accuracy 66.80 mean distance 299.4016\n",
      "16000 palabras ----> accuracy 66.92 mean distance 295.9824\n",
      "16500 palabras ----> accuracy 66.96 mean distance 297.4896\n",
      "17000 palabras ----> accuracy 66.88 mean distance 308.428\n",
      "17500 palabras ----> accuracy 66.84 mean distance 309.0688\n",
      "18000 palabras ----> accuracy 66.96 mean distance 308.5356\n",
      "18500 palabras ----> accuracy 67.00 mean distance 307.7056\n",
      "19000 palabras ----> accuracy 66.96 mean distance 307.9372\n",
      "19500 palabras ----> accuracy 67.04 mean distance 307.1656\n"
     ]
    }
   ],
   "source": [
    "for r in ret:\n",
    "    num_words = r[\"num_words\"]\n",
    "    acc = r[\"accuracy\"]\n",
    "    md = r[\"mean_distance\"]\n",
    "    print(\"{:<5} palabras ----> accuracy {:.2f} mean distance {}\".format(\n",
    "        num_words, acc*100, md\n",
    "    ))"
   ]
  },
  {
   "cell_type": "code",
   "execution_count": 13,
   "metadata": {},
   "outputs": [],
   "source": [
    "import pickle\n",
    "\n",
    "pickle.dump(ret, open(\"res_iv_palabras.pkl\", \"wb\"))"
   ]
  },
  {
   "cell_type": "code",
   "execution_count": 20,
   "metadata": {},
   "outputs": [
    {
     "data": {
      "text/plain": [
       "(23, 500)"
      ]
     },
     "execution_count": 20,
     "metadata": {},
     "output_type": "execute_result"
    }
   ],
   "source": [
    "new_ret = pickle.load(open(\"res_iv_palabras.pkl\", \"rb\"))\n",
    "\n",
    "clf = new_ret[1][\"clf\"]\n",
    "\n",
    "clf.coef_.shape"
   ]
  }
 ],
 "metadata": {
  "kernelspec": {
   "display_name": "Python 3",
   "language": "python",
   "name": "python3"
  },
  "language_info": {
   "codemirror_mode": {
    "name": "ipython",
    "version": 3
   },
   "file_extension": ".py",
   "mimetype": "text/x-python",
   "name": "python",
   "nbconvert_exporter": "python",
   "pygments_lexer": "ipython3",
   "version": "3.6.5"
  }
 },
 "nbformat": 4,
 "nbformat_minor": 2
}
