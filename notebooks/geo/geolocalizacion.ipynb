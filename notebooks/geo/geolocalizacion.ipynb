{
 "cells": [
  {
   "cell_type": "markdown",
   "metadata": {},
   "source": [
    "# Geolocalización\n",
    "\n",
    "En esta notebook haremos un intento de geolocalización con los textos de los usuarios..."
   ]
  },
  {
   "cell_type": "code",
   "execution_count": 24,
   "metadata": {},
   "outputs": [
    {
     "name": "stdout",
     "output_type": "stream",
     "text": [
      "The autoreload extension is already loaded. To reload it, use:\n",
      "  %reload_ext autoreload\n"
     ]
    }
   ],
   "source": [
    "%matplotlib inline\n",
    "%load_ext autoreload\n",
    "%autoreload 2\n",
    "from pymongo import MongoClient\n",
    "\n",
    "client = MongoClient('localhost', 27018)\n",
    "\n",
    "db = client['contrastes']"
   ]
  },
  {
   "cell_type": "code",
   "execution_count": 2,
   "metadata": {},
   "outputs": [
    {
     "data": {
      "text/plain": [
       "{'_id': ObjectId('5ba53c9827a5141aaa383eb9'),\n",
       " 'created_at': 'Tue Nov 05 14:48:51 +0000 2013',\n",
       " 'id': 397737276736040960,\n",
       " 'place': None,\n",
       " 'provincia': 'larioja',\n",
       " 'text': 'Estoy tan asustada :(',\n",
       " 'tokens': ['estoy', 'tan', 'asustada'],\n",
       " 'user_id': 301800629}"
      ]
     },
     "execution_count": 2,
     "metadata": {},
     "output_type": "execute_result"
    }
   ],
   "source": [
    "db.tweets.find_one()"
   ]
  },
  {
   "cell_type": "code",
   "execution_count": 3,
   "metadata": {},
   "outputs": [],
   "source": [
    "users = list(\n",
    "    db.users.aggregate([{\"$sample\": {\"size\": 10000}}], allowDiskUse=True)\n",
    ")"
   ]
  },
  {
   "cell_type": "markdown",
   "metadata": {},
   "source": [
    "Hagamos lo siguiente:\n",
    "\n",
    "- Entrenemos con unigramas una regresión logística para \n",
    "- Luego probemos con los regionalismos\n",
    "\n",
    "Primero, partamos en train, test"
   ]
  },
  {
   "cell_type": "code",
   "execution_count": 4,
   "metadata": {},
   "outputs": [
    {
     "name": "stdout",
     "output_type": "stream",
     "text": [
      "Usuarios de train: 7500\n",
      "Usuarios de test: 2500\n"
     ]
    }
   ],
   "source": [
    "import sklearn\n",
    "import numpy as np\n",
    "import pandas as pd\n",
    "from sklearn.model_selection import train_test_split\n",
    "\n",
    "\n",
    "train_users, test_users = train_test_split(users, random_state=20192019)\n",
    "\n",
    "print(\"Usuarios de train: {}\".format(len(train_users)))\n",
    "print(\"Usuarios de test: {}\".format(len(test_users)))"
   ]
  },
  {
   "cell_type": "code",
   "execution_count": 5,
   "metadata": {},
   "outputs": [
    {
     "data": {
      "text/html": [
       "<div>\n",
       "<style scoped>\n",
       "    .dataframe tbody tr th:only-of-type {\n",
       "        vertical-align: middle;\n",
       "    }\n",
       "\n",
       "    .dataframe tbody tr th {\n",
       "        vertical-align: top;\n",
       "    }\n",
       "\n",
       "    .dataframe thead th {\n",
       "        text-align: right;\n",
       "    }\n",
       "</style>\n",
       "<table border=\"1\" class=\"dataframe\">\n",
       "  <thead>\n",
       "    <tr style=\"text-align: right;\">\n",
       "      <th></th>\n",
       "      <th>text</th>\n",
       "    </tr>\n",
       "    <tr>\n",
       "      <th>provincia</th>\n",
       "      <th></th>\n",
       "    </tr>\n",
       "  </thead>\n",
       "  <tbody>\n",
       "    <tr>\n",
       "      <th>buenosaires</th>\n",
       "      <td>337</td>\n",
       "    </tr>\n",
       "    <tr>\n",
       "      <th>catamarca</th>\n",
       "      <td>341</td>\n",
       "    </tr>\n",
       "    <tr>\n",
       "      <th>chaco</th>\n",
       "      <td>331</td>\n",
       "    </tr>\n",
       "    <tr>\n",
       "      <th>chubut</th>\n",
       "      <td>328</td>\n",
       "    </tr>\n",
       "    <tr>\n",
       "      <th>cordoba</th>\n",
       "      <td>317</td>\n",
       "    </tr>\n",
       "    <tr>\n",
       "      <th>corrientes</th>\n",
       "      <td>345</td>\n",
       "    </tr>\n",
       "    <tr>\n",
       "      <th>entrerios</th>\n",
       "      <td>338</td>\n",
       "    </tr>\n",
       "    <tr>\n",
       "      <th>formosa</th>\n",
       "      <td>286</td>\n",
       "    </tr>\n",
       "    <tr>\n",
       "      <th>jujuy</th>\n",
       "      <td>339</td>\n",
       "    </tr>\n",
       "    <tr>\n",
       "      <th>lapampa</th>\n",
       "      <td>324</td>\n",
       "    </tr>\n",
       "    <tr>\n",
       "      <th>larioja</th>\n",
       "      <td>306</td>\n",
       "    </tr>\n",
       "    <tr>\n",
       "      <th>mendoza</th>\n",
       "      <td>326</td>\n",
       "    </tr>\n",
       "    <tr>\n",
       "      <th>misiones</th>\n",
       "      <td>327</td>\n",
       "    </tr>\n",
       "    <tr>\n",
       "      <th>neuquen</th>\n",
       "      <td>350</td>\n",
       "    </tr>\n",
       "    <tr>\n",
       "      <th>rionegro</th>\n",
       "      <td>313</td>\n",
       "    </tr>\n",
       "    <tr>\n",
       "      <th>salta</th>\n",
       "      <td>346</td>\n",
       "    </tr>\n",
       "    <tr>\n",
       "      <th>sanjuan</th>\n",
       "      <td>326</td>\n",
       "    </tr>\n",
       "    <tr>\n",
       "      <th>sanluis</th>\n",
       "      <td>321</td>\n",
       "    </tr>\n",
       "    <tr>\n",
       "      <th>santacruz</th>\n",
       "      <td>288</td>\n",
       "    </tr>\n",
       "    <tr>\n",
       "      <th>santafe</th>\n",
       "      <td>347</td>\n",
       "    </tr>\n",
       "    <tr>\n",
       "      <th>santiago</th>\n",
       "      <td>294</td>\n",
       "    </tr>\n",
       "    <tr>\n",
       "      <th>tierradelfuego</th>\n",
       "      <td>332</td>\n",
       "    </tr>\n",
       "    <tr>\n",
       "      <th>tucuman</th>\n",
       "      <td>338</td>\n",
       "    </tr>\n",
       "  </tbody>\n",
       "</table>\n",
       "</div>"
      ],
      "text/plain": [
       "                text\n",
       "provincia           \n",
       "buenosaires      337\n",
       "catamarca        341\n",
       "chaco            331\n",
       "chubut           328\n",
       "cordoba          317\n",
       "corrientes       345\n",
       "entrerios        338\n",
       "formosa          286\n",
       "jujuy            339\n",
       "lapampa          324\n",
       "larioja          306\n",
       "mendoza          326\n",
       "misiones         327\n",
       "neuquen          350\n",
       "rionegro         313\n",
       "salta            346\n",
       "sanjuan          326\n",
       "sanluis          321\n",
       "santacruz        288\n",
       "santafe          347\n",
       "santiago         294\n",
       "tierradelfuego   332\n",
       "tucuman          338"
      ]
     },
     "execution_count": 5,
     "metadata": {},
     "output_type": "execute_result"
    }
   ],
   "source": [
    "\n",
    "df_train = pd.DataFrame(train_users, columns=[\"id\", \"text\", \"provincia\"])\n",
    "df_train.set_index(\"id\", inplace=True)\n",
    "\n",
    "\n",
    "df_test = pd.DataFrame(test_users, columns=[\"id\", \"text\", \"provincia\"])\n",
    "df_test.set_index(\"id\", inplace=True)\n",
    "\n",
    "df_train.groupby(\"provincia\").count()\n"
   ]
  },
  {
   "cell_type": "markdown",
   "metadata": {},
   "source": [
    "## Palabras precalculadas\n",
    "\n",
    "Carguemos antes las palabras que sabemos que ocurren una cantidad razonable de veces"
   ]
  },
  {
   "cell_type": "code",
   "execution_count": 6,
   "metadata": {},
   "outputs": [
    {
     "name": "stdout",
     "output_type": "stream",
     "text": [
      "CPU times: user 8min 41s, sys: 528 ms, total: 8min 41s\n",
      "Wall time: 10min 44s\n"
     ]
    }
   ],
   "source": [
    "%%time\n",
    "from contrastes.processing import build_dataframe_from_users\n",
    "\n",
    "word_df = build_dataframe_from_users(train_users)"
   ]
  },
  {
   "cell_type": "code",
   "execution_count": 7,
   "metadata": {},
   "outputs": [
    {
     "name": "stderr",
     "output_type": "stream",
     "text": [
      "/home/jmperez/projects/contrastes/notebooks/contrastes/processing.py:185: UserWarning: Pandas doesn't allow columns to be created via a new attribute name - see https://pandas.pydata.org/pandas-docs/stable/indexing.html#attribute-access\n",
      "  df.columnas_palabras = cant_palabras\n",
      "/home/jmperez/projects/contrastes/notebooks/contrastes/processing.py:186: UserWarning: Pandas doesn't allow columns to be created via a new attribute name - see https://pandas.pydata.org/pandas-docs/stable/indexing.html#attribute-access\n",
      "  df.columnas_personas = cant_personas\n"
     ]
    }
   ],
   "source": [
    "from contrastes.processing import preprocess_raw_df\n",
    "\n",
    "word_df = preprocess_raw_df(word_df, filter_words=(10, 2))"
   ]
  },
  {
   "cell_type": "code",
   "execution_count": 8,
   "metadata": {},
   "outputs": [
    {
     "name": "stdout",
     "output_type": "stream",
     "text": [
      "CPU times: user 6min 51s, sys: 328 ms, total: 6min 51s\n",
      "Wall time: 6min 51s\n"
     ]
    }
   ],
   "source": [
    "%%time\n",
    "from sklearn.feature_extraction.text import CountVectorizer\n",
    "from nltk.tokenize import TweetTokenizer\n",
    "from nltk.corpus import stopwords\n",
    "\n",
    "tokenizer = TweetTokenizer(preserve_case=False, strip_handles=True, reduce_len=True)\n",
    "vectorizer = CountVectorizer(\n",
    "    tokenizer=tokenizer.tokenize, vocabulary=word_df.index\n",
    ")\n",
    "\n",
    "vectorizer.fit(df_train[\"text\"])"
   ]
  },
  {
   "cell_type": "code",
   "execution_count": 9,
   "metadata": {},
   "outputs": [
    {
     "name": "stdout",
     "output_type": "stream",
     "text": [
      "Vocabulario del vectorizador: 103783 palabras\n"
     ]
    }
   ],
   "source": [
    "print(\"Vocabulario del vectorizador: {} palabras\".format(len(vectorizer.vocabulary_)))"
   ]
  },
  {
   "cell_type": "code",
   "execution_count": 10,
   "metadata": {},
   "outputs": [],
   "source": [
    "X_train = vectorizer.transform(df_train[\"text\"])\n",
    "X_test = vectorizer.transform(df_test[\"text\"])"
   ]
  },
  {
   "cell_type": "code",
   "execution_count": 11,
   "metadata": {},
   "outputs": [
    {
     "data": {
      "text/plain": [
       "LabelEncoder()"
      ]
     },
     "execution_count": 11,
     "metadata": {},
     "output_type": "execute_result"
    }
   ],
   "source": [
    "from sklearn.preprocessing import LabelEncoder\n",
    "\n",
    "province_encoder = LabelEncoder()\n",
    "\n",
    "province_encoder.fit(df_train[\"provincia\"].values)"
   ]
  },
  {
   "cell_type": "code",
   "execution_count": 12,
   "metadata": {},
   "outputs": [],
   "source": [
    "y_train = province_encoder.transform(df_train[\"provincia\"].values)\n",
    "y_test = province_encoder.transform(df_test[\"provincia\"].values)"
   ]
  },
  {
   "cell_type": "markdown",
   "metadata": {},
   "source": [
    "La reg. logística será un softmax, así que elijo `multi_class='multinomial'`"
   ]
  },
  {
   "cell_type": "code",
   "execution_count": 13,
   "metadata": {},
   "outputs": [],
   "source": [
    "from sklearn.linear_model import LogisticRegression\n",
    "\n",
    "clf = LogisticRegression(multi_class='multinomial', solver='saga', n_jobs=10, penalty='l2')"
   ]
  },
  {
   "cell_type": "code",
   "execution_count": 14,
   "metadata": {},
   "outputs": [
    {
     "name": "stdout",
     "output_type": "stream",
     "text": [
      "CPU times: user 5min 55s, sys: 168 ms, total: 5min 55s\n",
      "Wall time: 5min 55s\n"
     ]
    },
    {
     "name": "stderr",
     "output_type": "stream",
     "text": [
      "/home/jmperez/.pyenv/versions/3.6.5/envs/contrastes/lib/python3.6/site-packages/sklearn/linear_model/sag.py:334: ConvergenceWarning: The max_iter was reached which means the coef_ did not converge\n",
      "  \"the coef_ did not converge\", ConvergenceWarning)\n"
     ]
    },
    {
     "data": {
      "text/plain": [
       "LogisticRegression(C=1.0, class_weight=None, dual=False, fit_intercept=True,\n",
       "          intercept_scaling=1, max_iter=100, multi_class='multinomial',\n",
       "          n_jobs=10, penalty='l2', random_state=None, solver='saga',\n",
       "          tol=0.0001, verbose=0, warm_start=False)"
      ]
     },
     "execution_count": 14,
     "metadata": {},
     "output_type": "execute_result"
    }
   ],
   "source": [
    "%%time\n",
    "clf.fit(X_train, y_train)"
   ]
  },
  {
   "cell_type": "code",
   "execution_count": 15,
   "metadata": {},
   "outputs": [
    {
     "name": "stdout",
     "output_type": "stream",
     "text": [
      "CPU times: user 628 ms, sys: 56 ms, total: 684 ms\n",
      "Wall time: 686 ms\n"
     ]
    },
    {
     "data": {
      "text/plain": [
       "0.3841333333333333"
      ]
     },
     "execution_count": 15,
     "metadata": {},
     "output_type": "execute_result"
    }
   ],
   "source": [
    "%%time\n",
    "clf.score(X_train, y_train)"
   ]
  },
  {
   "cell_type": "markdown",
   "metadata": {},
   "source": [
    "38% de accuracy"
   ]
  },
  {
   "cell_type": "markdown",
   "metadata": {},
   "source": [
    "## Usando sólo \"regionalismos\" o LIW (Location Indicative Words)\n",
    "\n",
    "Usemos ahora nuestros \"features\". Es decir, probemos con porcentajes de las palabras encontradas"
   ]
  },
  {
   "cell_type": "code",
   "execution_count": 16,
   "metadata": {},
   "outputs": [
    {
     "name": "stdout",
     "output_type": "stream",
     "text": [
      "Calculating information values...\n",
      "Calculating ranks...\n"
     ]
    }
   ],
   "source": [
    "from contrastes.lists import add_ival\n",
    "\n",
    "add_ival(word_df, normalize=True)"
   ]
  },
  {
   "cell_type": "code",
   "execution_count": 17,
   "metadata": {},
   "outputs": [
    {
     "data": {
      "text/html": [
       "<div>\n",
       "<style scoped>\n",
       "    .dataframe tbody tr th:only-of-type {\n",
       "        vertical-align: middle;\n",
       "    }\n",
       "\n",
       "    .dataframe tbody tr th {\n",
       "        vertical-align: top;\n",
       "    }\n",
       "\n",
       "    .dataframe thead th {\n",
       "        text-align: right;\n",
       "    }\n",
       "</style>\n",
       "<table border=\"1\" class=\"dataframe\">\n",
       "  <thead>\n",
       "    <tr style=\"text-align: right;\">\n",
       "      <th></th>\n",
       "      <th>buenosaires_ocurrencias</th>\n",
       "      <th>buenosaires_usuarios</th>\n",
       "      <th>catamarca_ocurrencias</th>\n",
       "      <th>catamarca_usuarios</th>\n",
       "      <th>chaco_ocurrencias</th>\n",
       "      <th>chaco_usuarios</th>\n",
       "      <th>chubut_ocurrencias</th>\n",
       "      <th>chubut_usuarios</th>\n",
       "      <th>cordoba_ocurrencias</th>\n",
       "      <th>cordoba_usuarios</th>\n",
       "      <th>...</th>\n",
       "      <th>tucuman_usuarios</th>\n",
       "      <th>cant_provincias</th>\n",
       "      <th>cant_palabra</th>\n",
       "      <th>cant_usuarios</th>\n",
       "      <th>ival_palabras</th>\n",
       "      <th>ival_personas</th>\n",
       "      <th>ival_palper</th>\n",
       "      <th>rank_palabras</th>\n",
       "      <th>rank_personas</th>\n",
       "      <th>rank_palper</th>\n",
       "    </tr>\n",
       "  </thead>\n",
       "  <tbody>\n",
       "    <tr>\n",
       "      <th>ush</th>\n",
       "      <td>0.0</td>\n",
       "      <td>0.0</td>\n",
       "      <td>0.0</td>\n",
       "      <td>0.0</td>\n",
       "      <td>0.0</td>\n",
       "      <td>0.0</td>\n",
       "      <td>1.0</td>\n",
       "      <td>1.0</td>\n",
       "      <td>0.0</td>\n",
       "      <td>0.0</td>\n",
       "      <td>...</td>\n",
       "      <td>0.0</td>\n",
       "      <td>6</td>\n",
       "      <td>638.0</td>\n",
       "      <td>173.0</td>\n",
       "      <td>1.241734</td>\n",
       "      <td>1.600248</td>\n",
       "      <td>1.987082</td>\n",
       "      <td>37.0</td>\n",
       "      <td>1.0</td>\n",
       "      <td>4.0</td>\n",
       "    </tr>\n",
       "    <tr>\n",
       "      <th>chivilcoy</th>\n",
       "      <td>2331.0</td>\n",
       "      <td>125.0</td>\n",
       "      <td>0.0</td>\n",
       "      <td>0.0</td>\n",
       "      <td>1.0</td>\n",
       "      <td>1.0</td>\n",
       "      <td>0.0</td>\n",
       "      <td>0.0</td>\n",
       "      <td>1.0</td>\n",
       "      <td>1.0</td>\n",
       "      <td>...</td>\n",
       "      <td>0.0</td>\n",
       "      <td>6</td>\n",
       "      <td>2337.0</td>\n",
       "      <td>131.0</td>\n",
       "      <td>1.599973</td>\n",
       "      <td>1.553529</td>\n",
       "      <td>2.485604</td>\n",
       "      <td>4.0</td>\n",
       "      <td>2.0</td>\n",
       "      <td>1.0</td>\n",
       "    </tr>\n",
       "    <tr>\n",
       "      <th>poec</th>\n",
       "      <td>0.0</td>\n",
       "      <td>0.0</td>\n",
       "      <td>0.0</td>\n",
       "      <td>0.0</td>\n",
       "      <td>0.0</td>\n",
       "      <td>0.0</td>\n",
       "      <td>0.0</td>\n",
       "      <td>0.0</td>\n",
       "      <td>0.0</td>\n",
       "      <td>0.0</td>\n",
       "      <td>...</td>\n",
       "      <td>0.0</td>\n",
       "      <td>1</td>\n",
       "      <td>163.0</td>\n",
       "      <td>82.0</td>\n",
       "      <td>1.059592</td>\n",
       "      <td>1.550397</td>\n",
       "      <td>1.642788</td>\n",
       "      <td>117.5</td>\n",
       "      <td>3.0</td>\n",
       "      <td>18.0</td>\n",
       "    </tr>\n",
       "    <tr>\n",
       "      <th>plottier</th>\n",
       "      <td>0.0</td>\n",
       "      <td>0.0</td>\n",
       "      <td>0.0</td>\n",
       "      <td>0.0</td>\n",
       "      <td>0.0</td>\n",
       "      <td>0.0</td>\n",
       "      <td>1.0</td>\n",
       "      <td>1.0</td>\n",
       "      <td>0.0</td>\n",
       "      <td>0.0</td>\n",
       "      <td>...</td>\n",
       "      <td>0.0</td>\n",
       "      <td>3</td>\n",
       "      <td>848.0</td>\n",
       "      <td>103.0</td>\n",
       "      <td>1.387099</td>\n",
       "      <td>1.547079</td>\n",
       "      <td>2.145952</td>\n",
       "      <td>14.0</td>\n",
       "      <td>4.0</td>\n",
       "      <td>3.0</td>\n",
       "    </tr>\n",
       "    <tr>\n",
       "      <th>chivil</th>\n",
       "      <td>332.0</td>\n",
       "      <td>79.0</td>\n",
       "      <td>0.0</td>\n",
       "      <td>0.0</td>\n",
       "      <td>0.0</td>\n",
       "      <td>0.0</td>\n",
       "      <td>0.0</td>\n",
       "      <td>0.0</td>\n",
       "      <td>0.0</td>\n",
       "      <td>0.0</td>\n",
       "      <td>...</td>\n",
       "      <td>0.0</td>\n",
       "      <td>1</td>\n",
       "      <td>332.0</td>\n",
       "      <td>79.0</td>\n",
       "      <td>1.207573</td>\n",
       "      <td>1.537284</td>\n",
       "      <td>1.856382</td>\n",
       "      <td>46.0</td>\n",
       "      <td>5.0</td>\n",
       "      <td>6.0</td>\n",
       "    </tr>\n",
       "    <tr>\n",
       "      <th>vallerga</th>\n",
       "      <td>291.0</td>\n",
       "      <td>72.0</td>\n",
       "      <td>0.0</td>\n",
       "      <td>0.0</td>\n",
       "      <td>0.0</td>\n",
       "      <td>0.0</td>\n",
       "      <td>0.0</td>\n",
       "      <td>0.0</td>\n",
       "      <td>0.0</td>\n",
       "      <td>0.0</td>\n",
       "      <td>...</td>\n",
       "      <td>0.0</td>\n",
       "      <td>1</td>\n",
       "      <td>291.0</td>\n",
       "      <td>72.0</td>\n",
       "      <td>1.180154</td>\n",
       "      <td>1.504641</td>\n",
       "      <td>1.775707</td>\n",
       "      <td>59.0</td>\n",
       "      <td>6.0</td>\n",
       "      <td>8.0</td>\n",
       "    </tr>\n",
       "    <tr>\n",
       "      <th>tolhuin</th>\n",
       "      <td>0.0</td>\n",
       "      <td>0.0</td>\n",
       "      <td>0.0</td>\n",
       "      <td>0.0</td>\n",
       "      <td>0.0</td>\n",
       "      <td>0.0</td>\n",
       "      <td>1.0</td>\n",
       "      <td>1.0</td>\n",
       "      <td>0.0</td>\n",
       "      <td>0.0</td>\n",
       "      <td>...</td>\n",
       "      <td>0.0</td>\n",
       "      <td>5</td>\n",
       "      <td>373.0</td>\n",
       "      <td>100.0</td>\n",
       "      <td>1.184478</td>\n",
       "      <td>1.501452</td>\n",
       "      <td>1.778436</td>\n",
       "      <td>57.0</td>\n",
       "      <td>7.0</td>\n",
       "      <td>7.0</td>\n",
       "    </tr>\n",
       "    <tr>\n",
       "      <th>yarca</th>\n",
       "      <td>0.0</td>\n",
       "      <td>0.0</td>\n",
       "      <td>0.0</td>\n",
       "      <td>0.0</td>\n",
       "      <td>0.0</td>\n",
       "      <td>0.0</td>\n",
       "      <td>0.0</td>\n",
       "      <td>0.0</td>\n",
       "      <td>0.0</td>\n",
       "      <td>0.0</td>\n",
       "      <td>...</td>\n",
       "      <td>0.0</td>\n",
       "      <td>1</td>\n",
       "      <td>160.0</td>\n",
       "      <td>71.0</td>\n",
       "      <td>1.055728</td>\n",
       "      <td>1.499720</td>\n",
       "      <td>1.583296</td>\n",
       "      <td>120.0</td>\n",
       "      <td>8.0</td>\n",
       "      <td>22.0</td>\n",
       "    </tr>\n",
       "    <tr>\n",
       "      <th>fsa</th>\n",
       "      <td>0.0</td>\n",
       "      <td>0.0</td>\n",
       "      <td>0.0</td>\n",
       "      <td>0.0</td>\n",
       "      <td>22.0</td>\n",
       "      <td>2.0</td>\n",
       "      <td>0.0</td>\n",
       "      <td>0.0</td>\n",
       "      <td>4.0</td>\n",
       "      <td>1.0</td>\n",
       "      <td>...</td>\n",
       "      <td>0.0</td>\n",
       "      <td>6</td>\n",
       "      <td>321.0</td>\n",
       "      <td>116.0</td>\n",
       "      <td>1.033974</td>\n",
       "      <td>1.489231</td>\n",
       "      <td>1.539826</td>\n",
       "      <td>145.0</td>\n",
       "      <td>9.0</td>\n",
       "      <td>27.0</td>\n",
       "    </tr>\n",
       "    <tr>\n",
       "      <th>malpegue</th>\n",
       "      <td>0.0</td>\n",
       "      <td>0.0</td>\n",
       "      <td>0.0</td>\n",
       "      <td>0.0</td>\n",
       "      <td>0.0</td>\n",
       "      <td>0.0</td>\n",
       "      <td>0.0</td>\n",
       "      <td>0.0</td>\n",
       "      <td>0.0</td>\n",
       "      <td>0.0</td>\n",
       "      <td>...</td>\n",
       "      <td>0.0</td>\n",
       "      <td>3</td>\n",
       "      <td>264.0</td>\n",
       "      <td>85.0</td>\n",
       "      <td>1.128838</td>\n",
       "      <td>1.489024</td>\n",
       "      <td>1.680868</td>\n",
       "      <td>77.0</td>\n",
       "      <td>10.0</td>\n",
       "      <td>16.0</td>\n",
       "    </tr>\n",
       "  </tbody>\n",
       "</table>\n",
       "<p>10 rows × 55 columns</p>\n",
       "</div>"
      ],
      "text/plain": [
       "           buenosaires_ocurrencias  buenosaires_usuarios  \\\n",
       "ush                            0.0                   0.0   \n",
       "chivilcoy                   2331.0                 125.0   \n",
       "poec                           0.0                   0.0   \n",
       "plottier                       0.0                   0.0   \n",
       "chivil                       332.0                  79.0   \n",
       "vallerga                     291.0                  72.0   \n",
       "tolhuin                        0.0                   0.0   \n",
       "yarca                          0.0                   0.0   \n",
       "fsa                            0.0                   0.0   \n",
       "malpegue                       0.0                   0.0   \n",
       "\n",
       "           catamarca_ocurrencias  catamarca_usuarios  chaco_ocurrencias  \\\n",
       "ush                          0.0                 0.0                0.0   \n",
       "chivilcoy                    0.0                 0.0                1.0   \n",
       "poec                         0.0                 0.0                0.0   \n",
       "plottier                     0.0                 0.0                0.0   \n",
       "chivil                       0.0                 0.0                0.0   \n",
       "vallerga                     0.0                 0.0                0.0   \n",
       "tolhuin                      0.0                 0.0                0.0   \n",
       "yarca                        0.0                 0.0                0.0   \n",
       "fsa                          0.0                 0.0               22.0   \n",
       "malpegue                     0.0                 0.0                0.0   \n",
       "\n",
       "           chaco_usuarios  chubut_ocurrencias  chubut_usuarios  \\\n",
       "ush                   0.0                 1.0              1.0   \n",
       "chivilcoy             1.0                 0.0              0.0   \n",
       "poec                  0.0                 0.0              0.0   \n",
       "plottier              0.0                 1.0              1.0   \n",
       "chivil                0.0                 0.0              0.0   \n",
       "vallerga              0.0                 0.0              0.0   \n",
       "tolhuin               0.0                 1.0              1.0   \n",
       "yarca                 0.0                 0.0              0.0   \n",
       "fsa                   2.0                 0.0              0.0   \n",
       "malpegue              0.0                 0.0              0.0   \n",
       "\n",
       "           cordoba_ocurrencias  cordoba_usuarios     ...       \\\n",
       "ush                        0.0               0.0     ...        \n",
       "chivilcoy                  1.0               1.0     ...        \n",
       "poec                       0.0               0.0     ...        \n",
       "plottier                   0.0               0.0     ...        \n",
       "chivil                     0.0               0.0     ...        \n",
       "vallerga                   0.0               0.0     ...        \n",
       "tolhuin                    0.0               0.0     ...        \n",
       "yarca                      0.0               0.0     ...        \n",
       "fsa                        4.0               1.0     ...        \n",
       "malpegue                   0.0               0.0     ...        \n",
       "\n",
       "           tucuman_usuarios  cant_provincias  cant_palabra  cant_usuarios  \\\n",
       "ush                     0.0                6         638.0          173.0   \n",
       "chivilcoy               0.0                6        2337.0          131.0   \n",
       "poec                    0.0                1         163.0           82.0   \n",
       "plottier                0.0                3         848.0          103.0   \n",
       "chivil                  0.0                1         332.0           79.0   \n",
       "vallerga                0.0                1         291.0           72.0   \n",
       "tolhuin                 0.0                5         373.0          100.0   \n",
       "yarca                   0.0                1         160.0           71.0   \n",
       "fsa                     0.0                6         321.0          116.0   \n",
       "malpegue                0.0                3         264.0           85.0   \n",
       "\n",
       "           ival_palabras  ival_personas  ival_palper  rank_palabras  \\\n",
       "ush             1.241734       1.600248     1.987082           37.0   \n",
       "chivilcoy       1.599973       1.553529     2.485604            4.0   \n",
       "poec            1.059592       1.550397     1.642788          117.5   \n",
       "plottier        1.387099       1.547079     2.145952           14.0   \n",
       "chivil          1.207573       1.537284     1.856382           46.0   \n",
       "vallerga        1.180154       1.504641     1.775707           59.0   \n",
       "tolhuin         1.184478       1.501452     1.778436           57.0   \n",
       "yarca           1.055728       1.499720     1.583296          120.0   \n",
       "fsa             1.033974       1.489231     1.539826          145.0   \n",
       "malpegue        1.128838       1.489024     1.680868           77.0   \n",
       "\n",
       "           rank_personas  rank_palper  \n",
       "ush                  1.0          4.0  \n",
       "chivilcoy            2.0          1.0  \n",
       "poec                 3.0         18.0  \n",
       "plottier             4.0          3.0  \n",
       "chivil               5.0          6.0  \n",
       "vallerga             6.0          8.0  \n",
       "tolhuin              7.0          7.0  \n",
       "yarca                8.0         22.0  \n",
       "fsa                  9.0         27.0  \n",
       "malpegue            10.0         16.0  \n",
       "\n",
       "[10 rows x 55 columns]"
      ]
     },
     "execution_count": 17,
     "metadata": {},
     "output_type": "execute_result"
    }
   ],
   "source": [
    "word_df.sort_values(\"rank_personas\", ascending=True, inplace=True)\n",
    "\n",
    "word_df.iloc[:10]"
   ]
  },
  {
   "cell_type": "markdown",
   "metadata": {},
   "source": [
    "Veamos qué performance tiene usando 1000, 2000, 3000, y así..."
   ]
  },
  {
   "cell_type": "code",
   "execution_count": 18,
   "metadata": {},
   "outputs": [
    {
     "name": "stdout",
     "output_type": "stream",
     "text": [
      "Vectorizing\n",
      "CPU times: user 9min 8s, sys: 432 ms, total: 9min 9s\n",
      "Wall time: 9min 8s\n"
     ]
    }
   ],
   "source": [
    "%%time \n",
    "\n",
    "liw_vectorizer = CountVectorizer(\n",
    "    tokenizer=tokenizer.tokenize,\n",
    "    vocabulary=word_df.index)\n",
    "\n",
    "X_train = liw_vectorizer.fit_transform(df_train[\"text\"])\n",
    "print(\"Vectorizing\")\n",
    "X_test = liw_vectorizer.transform(df_test[\"text\"])"
   ]
  },
  {
   "cell_type": "markdown",
   "metadata": {},
   "source": [
    "Ya las tenemos vectorizadas en el orden esperado!"
   ]
  },
  {
   "cell_type": "code",
   "execution_count": null,
   "metadata": {},
   "outputs": [
    {
     "name": "stderr",
     "output_type": "stream",
     "text": [
      "/home/jmperez/.pyenv/versions/3.6.5/envs/contrastes/lib/python3.6/site-packages/sklearn/linear_model/sag.py:334: ConvergenceWarning: The max_iter was reached which means the coef_ did not converge\n",
      "  \"the coef_ did not converge\", ConvergenceWarning)\n"
     ]
    },
    {
     "name": "stdout",
     "output_type": "stream",
     "text": [
      "250 palabras ----> accuracy 57.40\n"
     ]
    },
    {
     "name": "stderr",
     "output_type": "stream",
     "text": [
      "/home/jmperez/.pyenv/versions/3.6.5/envs/contrastes/lib/python3.6/site-packages/sklearn/linear_model/sag.py:334: ConvergenceWarning: The max_iter was reached which means the coef_ did not converge\n",
      "  \"the coef_ did not converge\", ConvergenceWarning)\n"
     ]
    },
    {
     "name": "stdout",
     "output_type": "stream",
     "text": [
      "500 palabras ----> accuracy 65.08\n"
     ]
    },
    {
     "name": "stderr",
     "output_type": "stream",
     "text": [
      "/home/jmperez/.pyenv/versions/3.6.5/envs/contrastes/lib/python3.6/site-packages/sklearn/linear_model/sag.py:334: ConvergenceWarning: The max_iter was reached which means the coef_ did not converge\n",
      "  \"the coef_ did not converge\", ConvergenceWarning)\n"
     ]
    },
    {
     "name": "stdout",
     "output_type": "stream",
     "text": [
      "750 palabras ----> accuracy 68.84\n"
     ]
    },
    {
     "name": "stderr",
     "output_type": "stream",
     "text": [
      "/home/jmperez/.pyenv/versions/3.6.5/envs/contrastes/lib/python3.6/site-packages/sklearn/linear_model/sag.py:334: ConvergenceWarning: The max_iter was reached which means the coef_ did not converge\n",
      "  \"the coef_ did not converge\", ConvergenceWarning)\n"
     ]
    },
    {
     "name": "stdout",
     "output_type": "stream",
     "text": [
      "1000 palabras ----> accuracy 70.64\n"
     ]
    },
    {
     "name": "stderr",
     "output_type": "stream",
     "text": [
      "/home/jmperez/.pyenv/versions/3.6.5/envs/contrastes/lib/python3.6/site-packages/sklearn/linear_model/sag.py:334: ConvergenceWarning: The max_iter was reached which means the coef_ did not converge\n",
      "  \"the coef_ did not converge\", ConvergenceWarning)\n"
     ]
    },
    {
     "name": "stdout",
     "output_type": "stream",
     "text": [
      "1250 palabras ----> accuracy 71.32\n"
     ]
    },
    {
     "name": "stderr",
     "output_type": "stream",
     "text": [
      "/home/jmperez/.pyenv/versions/3.6.5/envs/contrastes/lib/python3.6/site-packages/sklearn/linear_model/sag.py:334: ConvergenceWarning: The max_iter was reached which means the coef_ did not converge\n",
      "  \"the coef_ did not converge\", ConvergenceWarning)\n"
     ]
    },
    {
     "name": "stdout",
     "output_type": "stream",
     "text": [
      "1500 palabras ----> accuracy 71.68\n"
     ]
    },
    {
     "name": "stderr",
     "output_type": "stream",
     "text": [
      "/home/jmperez/.pyenv/versions/3.6.5/envs/contrastes/lib/python3.6/site-packages/sklearn/linear_model/sag.py:334: ConvergenceWarning: The max_iter was reached which means the coef_ did not converge\n",
      "  \"the coef_ did not converge\", ConvergenceWarning)\n"
     ]
    },
    {
     "name": "stdout",
     "output_type": "stream",
     "text": [
      "1750 palabras ----> accuracy 69.92\n"
     ]
    },
    {
     "name": "stderr",
     "output_type": "stream",
     "text": [
      "/home/jmperez/.pyenv/versions/3.6.5/envs/contrastes/lib/python3.6/site-packages/sklearn/linear_model/sag.py:334: ConvergenceWarning: The max_iter was reached which means the coef_ did not converge\n",
      "  \"the coef_ did not converge\", ConvergenceWarning)\n"
     ]
    },
    {
     "name": "stdout",
     "output_type": "stream",
     "text": [
      "2000 palabras ----> accuracy 70.68\n"
     ]
    },
    {
     "name": "stderr",
     "output_type": "stream",
     "text": [
      "/home/jmperez/.pyenv/versions/3.6.5/envs/contrastes/lib/python3.6/site-packages/sklearn/linear_model/sag.py:334: ConvergenceWarning: The max_iter was reached which means the coef_ did not converge\n",
      "  \"the coef_ did not converge\", ConvergenceWarning)\n"
     ]
    },
    {
     "name": "stdout",
     "output_type": "stream",
     "text": [
      "2250 palabras ----> accuracy 71.40\n"
     ]
    },
    {
     "name": "stderr",
     "output_type": "stream",
     "text": [
      "/home/jmperez/.pyenv/versions/3.6.5/envs/contrastes/lib/python3.6/site-packages/sklearn/linear_model/sag.py:334: ConvergenceWarning: The max_iter was reached which means the coef_ did not converge\n",
      "  \"the coef_ did not converge\", ConvergenceWarning)\n"
     ]
    },
    {
     "name": "stdout",
     "output_type": "stream",
     "text": [
      "2500 palabras ----> accuracy 71.16\n"
     ]
    },
    {
     "name": "stderr",
     "output_type": "stream",
     "text": [
      "/home/jmperez/.pyenv/versions/3.6.5/envs/contrastes/lib/python3.6/site-packages/sklearn/linear_model/sag.py:334: ConvergenceWarning: The max_iter was reached which means the coef_ did not converge\n",
      "  \"the coef_ did not converge\", ConvergenceWarning)\n"
     ]
    },
    {
     "name": "stdout",
     "output_type": "stream",
     "text": [
      "2750 palabras ----> accuracy 71.44\n"
     ]
    },
    {
     "name": "stderr",
     "output_type": "stream",
     "text": [
      "/home/jmperez/.pyenv/versions/3.6.5/envs/contrastes/lib/python3.6/site-packages/sklearn/linear_model/sag.py:334: ConvergenceWarning: The max_iter was reached which means the coef_ did not converge\n",
      "  \"the coef_ did not converge\", ConvergenceWarning)\n"
     ]
    },
    {
     "name": "stdout",
     "output_type": "stream",
     "text": [
      "3000 palabras ----> accuracy 70.00\n"
     ]
    },
    {
     "name": "stderr",
     "output_type": "stream",
     "text": [
      "/home/jmperez/.pyenv/versions/3.6.5/envs/contrastes/lib/python3.6/site-packages/sklearn/linear_model/sag.py:334: ConvergenceWarning: The max_iter was reached which means the coef_ did not converge\n",
      "  \"the coef_ did not converge\", ConvergenceWarning)\n"
     ]
    },
    {
     "name": "stdout",
     "output_type": "stream",
     "text": [
      "3250 palabras ----> accuracy 70.56\n"
     ]
    },
    {
     "name": "stderr",
     "output_type": "stream",
     "text": [
      "/home/jmperez/.pyenv/versions/3.6.5/envs/contrastes/lib/python3.6/site-packages/sklearn/linear_model/sag.py:334: ConvergenceWarning: The max_iter was reached which means the coef_ did not converge\n",
      "  \"the coef_ did not converge\", ConvergenceWarning)\n"
     ]
    },
    {
     "name": "stdout",
     "output_type": "stream",
     "text": [
      "3500 palabras ----> accuracy 70.68\n"
     ]
    },
    {
     "name": "stderr",
     "output_type": "stream",
     "text": [
      "/home/jmperez/.pyenv/versions/3.6.5/envs/contrastes/lib/python3.6/site-packages/sklearn/linear_model/sag.py:334: ConvergenceWarning: The max_iter was reached which means the coef_ did not converge\n",
      "  \"the coef_ did not converge\", ConvergenceWarning)\n"
     ]
    },
    {
     "name": "stdout",
     "output_type": "stream",
     "text": [
      "3750 palabras ----> accuracy 71.32\n"
     ]
    },
    {
     "name": "stderr",
     "output_type": "stream",
     "text": [
      "/home/jmperez/.pyenv/versions/3.6.5/envs/contrastes/lib/python3.6/site-packages/sklearn/linear_model/sag.py:334: ConvergenceWarning: The max_iter was reached which means the coef_ did not converge\n",
      "  \"the coef_ did not converge\", ConvergenceWarning)\n"
     ]
    },
    {
     "name": "stdout",
     "output_type": "stream",
     "text": [
      "4000 palabras ----> accuracy 71.48\n"
     ]
    },
    {
     "name": "stderr",
     "output_type": "stream",
     "text": [
      "/home/jmperez/.pyenv/versions/3.6.5/envs/contrastes/lib/python3.6/site-packages/sklearn/linear_model/sag.py:334: ConvergenceWarning: The max_iter was reached which means the coef_ did not converge\n",
      "  \"the coef_ did not converge\", ConvergenceWarning)\n"
     ]
    },
    {
     "name": "stdout",
     "output_type": "stream",
     "text": [
      "4250 palabras ----> accuracy 71.80\n"
     ]
    },
    {
     "name": "stderr",
     "output_type": "stream",
     "text": [
      "/home/jmperez/.pyenv/versions/3.6.5/envs/contrastes/lib/python3.6/site-packages/sklearn/linear_model/sag.py:334: ConvergenceWarning: The max_iter was reached which means the coef_ did not converge\n",
      "  \"the coef_ did not converge\", ConvergenceWarning)\n"
     ]
    },
    {
     "name": "stdout",
     "output_type": "stream",
     "text": [
      "4500 palabras ----> accuracy 71.80\n"
     ]
    }
   ],
   "source": [
    "from sklearn.linear_model import LogisticRegression\n",
    "\n",
    "clfs = {}\n",
    "scores = {}\n",
    "\n",
    "for num_words in range(250, 5000, 250):    \n",
    "    X_tr = X_train[:, :num_words].todense()\n",
    "    X_tst = X_test[:, :num_words].todense()\n",
    "    \n",
    "    clf = LogisticRegression(\n",
    "        multi_class='multinomial', solver='saga', penalty='l2', \n",
    "        max_iter=200, n_jobs=-1)\n",
    "    clf.fit(X_tr, y_train)\n",
    "    \n",
    "    scores[num_words] = clf.score(X_tst, y_test)\n",
    "    print(\"{} palabras ----> accuracy {:.2f}\".format(num_words, scores[num_words]*100))\n",
    "    clfs[num_words] = clf\n",
    "    "
   ]
  },
  {
   "cell_type": "markdown",
   "metadata": {},
   "source": [
    "2500 palabras dan un accuracy de 71%. BASTANTE BIEN. Luego disminuye la performance"
   ]
  },
  {
   "cell_type": "code",
   "execution_count": 23,
   "metadata": {},
   "outputs": [
    {
     "name": "stderr",
     "output_type": "stream",
     "text": [
      "/home/jmperez/.pyenv/versions/3.6.5/envs/contrastes/lib/python3.6/site-packages/sklearn/linear_model/sag.py:334: ConvergenceWarning: The max_iter was reached which means the coef_ did not converge\n",
      "  \"the coef_ did not converge\", ConvergenceWarning)\n"
     ]
    },
    {
     "name": "stdout",
     "output_type": "stream",
     "text": [
      "5000 palabras ----> accuracy 71.88\n"
     ]
    },
    {
     "name": "stderr",
     "output_type": "stream",
     "text": [
      "/home/jmperez/.pyenv/versions/3.6.5/envs/contrastes/lib/python3.6/site-packages/sklearn/linear_model/sag.py:334: ConvergenceWarning: The max_iter was reached which means the coef_ did not converge\n",
      "  \"the coef_ did not converge\", ConvergenceWarning)\n"
     ]
    },
    {
     "name": "stdout",
     "output_type": "stream",
     "text": [
      "5500 palabras ----> accuracy 71.68\n"
     ]
    },
    {
     "name": "stderr",
     "output_type": "stream",
     "text": [
      "/home/jmperez/.pyenv/versions/3.6.5/envs/contrastes/lib/python3.6/site-packages/sklearn/linear_model/sag.py:334: ConvergenceWarning: The max_iter was reached which means the coef_ did not converge\n",
      "  \"the coef_ did not converge\", ConvergenceWarning)\n"
     ]
    },
    {
     "name": "stdout",
     "output_type": "stream",
     "text": [
      "6000 palabras ----> accuracy 72.00\n"
     ]
    },
    {
     "name": "stderr",
     "output_type": "stream",
     "text": [
      "/home/jmperez/.pyenv/versions/3.6.5/envs/contrastes/lib/python3.6/site-packages/sklearn/linear_model/sag.py:334: ConvergenceWarning: The max_iter was reached which means the coef_ did not converge\n",
      "  \"the coef_ did not converge\", ConvergenceWarning)\n"
     ]
    },
    {
     "name": "stdout",
     "output_type": "stream",
     "text": [
      "6500 palabras ----> accuracy 72.24\n"
     ]
    },
    {
     "name": "stderr",
     "output_type": "stream",
     "text": [
      "/home/jmperez/.pyenv/versions/3.6.5/envs/contrastes/lib/python3.6/site-packages/sklearn/linear_model/sag.py:334: ConvergenceWarning: The max_iter was reached which means the coef_ did not converge\n",
      "  \"the coef_ did not converge\", ConvergenceWarning)\n"
     ]
    },
    {
     "name": "stdout",
     "output_type": "stream",
     "text": [
      "7000 palabras ----> accuracy 72.40\n"
     ]
    },
    {
     "name": "stderr",
     "output_type": "stream",
     "text": [
      "/home/jmperez/.pyenv/versions/3.6.5/envs/contrastes/lib/python3.6/site-packages/sklearn/linear_model/sag.py:334: ConvergenceWarning: The max_iter was reached which means the coef_ did not converge\n",
      "  \"the coef_ did not converge\", ConvergenceWarning)\n"
     ]
    },
    {
     "name": "stdout",
     "output_type": "stream",
     "text": [
      "7500 palabras ----> accuracy 72.56\n"
     ]
    },
    {
     "name": "stderr",
     "output_type": "stream",
     "text": [
      "/home/jmperez/.pyenv/versions/3.6.5/envs/contrastes/lib/python3.6/site-packages/sklearn/linear_model/sag.py:334: ConvergenceWarning: The max_iter was reached which means the coef_ did not converge\n",
      "  \"the coef_ did not converge\", ConvergenceWarning)\n"
     ]
    },
    {
     "name": "stdout",
     "output_type": "stream",
     "text": [
      "8000 palabras ----> accuracy 73.28\n"
     ]
    },
    {
     "name": "stderr",
     "output_type": "stream",
     "text": [
      "/home/jmperez/.pyenv/versions/3.6.5/envs/contrastes/lib/python3.6/site-packages/sklearn/linear_model/sag.py:334: ConvergenceWarning: The max_iter was reached which means the coef_ did not converge\n",
      "  \"the coef_ did not converge\", ConvergenceWarning)\n"
     ]
    },
    {
     "name": "stdout",
     "output_type": "stream",
     "text": [
      "8500 palabras ----> accuracy 73.40\n"
     ]
    },
    {
     "name": "stderr",
     "output_type": "stream",
     "text": [
      "/home/jmperez/.pyenv/versions/3.6.5/envs/contrastes/lib/python3.6/site-packages/sklearn/linear_model/sag.py:334: ConvergenceWarning: The max_iter was reached which means the coef_ did not converge\n",
      "  \"the coef_ did not converge\", ConvergenceWarning)\n"
     ]
    },
    {
     "name": "stdout",
     "output_type": "stream",
     "text": [
      "9000 palabras ----> accuracy 73.00\n"
     ]
    },
    {
     "name": "stderr",
     "output_type": "stream",
     "text": [
      "/home/jmperez/.pyenv/versions/3.6.5/envs/contrastes/lib/python3.6/site-packages/sklearn/linear_model/sag.py:334: ConvergenceWarning: The max_iter was reached which means the coef_ did not converge\n",
      "  \"the coef_ did not converge\", ConvergenceWarning)\n"
     ]
    },
    {
     "name": "stdout",
     "output_type": "stream",
     "text": [
      "9500 palabras ----> accuracy 73.00\n"
     ]
    },
    {
     "name": "stderr",
     "output_type": "stream",
     "text": [
      "/home/jmperez/.pyenv/versions/3.6.5/envs/contrastes/lib/python3.6/site-packages/sklearn/linear_model/sag.py:334: ConvergenceWarning: The max_iter was reached which means the coef_ did not converge\n",
      "  \"the coef_ did not converge\", ConvergenceWarning)\n"
     ]
    },
    {
     "name": "stdout",
     "output_type": "stream",
     "text": [
      "10000 palabras ----> accuracy 73.56\n"
     ]
    },
    {
     "name": "stderr",
     "output_type": "stream",
     "text": [
      "/home/jmperez/.pyenv/versions/3.6.5/envs/contrastes/lib/python3.6/site-packages/sklearn/linear_model/sag.py:334: ConvergenceWarning: The max_iter was reached which means the coef_ did not converge\n",
      "  \"the coef_ did not converge\", ConvergenceWarning)\n"
     ]
    },
    {
     "name": "stdout",
     "output_type": "stream",
     "text": [
      "10500 palabras ----> accuracy 74.00\n"
     ]
    },
    {
     "name": "stderr",
     "output_type": "stream",
     "text": [
      "/home/jmperez/.pyenv/versions/3.6.5/envs/contrastes/lib/python3.6/site-packages/sklearn/linear_model/sag.py:334: ConvergenceWarning: The max_iter was reached which means the coef_ did not converge\n",
      "  \"the coef_ did not converge\", ConvergenceWarning)\n"
     ]
    },
    {
     "name": "stdout",
     "output_type": "stream",
     "text": [
      "11000 palabras ----> accuracy 74.24\n"
     ]
    },
    {
     "name": "stderr",
     "output_type": "stream",
     "text": [
      "/home/jmperez/.pyenv/versions/3.6.5/envs/contrastes/lib/python3.6/site-packages/sklearn/linear_model/sag.py:334: ConvergenceWarning: The max_iter was reached which means the coef_ did not converge\n",
      "  \"the coef_ did not converge\", ConvergenceWarning)\n"
     ]
    },
    {
     "name": "stdout",
     "output_type": "stream",
     "text": [
      "11500 palabras ----> accuracy 74.00\n"
     ]
    },
    {
     "name": "stderr",
     "output_type": "stream",
     "text": [
      "/home/jmperez/.pyenv/versions/3.6.5/envs/contrastes/lib/python3.6/site-packages/sklearn/linear_model/sag.py:334: ConvergenceWarning: The max_iter was reached which means the coef_ did not converge\n",
      "  \"the coef_ did not converge\", ConvergenceWarning)\n"
     ]
    },
    {
     "name": "stdout",
     "output_type": "stream",
     "text": [
      "12000 palabras ----> accuracy 74.08\n"
     ]
    },
    {
     "name": "stderr",
     "output_type": "stream",
     "text": [
      "/home/jmperez/.pyenv/versions/3.6.5/envs/contrastes/lib/python3.6/site-packages/sklearn/linear_model/sag.py:334: ConvergenceWarning: The max_iter was reached which means the coef_ did not converge\n",
      "  \"the coef_ did not converge\", ConvergenceWarning)\n"
     ]
    },
    {
     "name": "stdout",
     "output_type": "stream",
     "text": [
      "12500 palabras ----> accuracy 74.08\n"
     ]
    },
    {
     "name": "stderr",
     "output_type": "stream",
     "text": [
      "/home/jmperez/.pyenv/versions/3.6.5/envs/contrastes/lib/python3.6/site-packages/sklearn/linear_model/sag.py:334: ConvergenceWarning: The max_iter was reached which means the coef_ did not converge\n",
      "  \"the coef_ did not converge\", ConvergenceWarning)\n"
     ]
    },
    {
     "name": "stdout",
     "output_type": "stream",
     "text": [
      "13000 palabras ----> accuracy 74.12\n"
     ]
    },
    {
     "name": "stderr",
     "output_type": "stream",
     "text": [
      "/home/jmperez/.pyenv/versions/3.6.5/envs/contrastes/lib/python3.6/site-packages/sklearn/linear_model/sag.py:334: ConvergenceWarning: The max_iter was reached which means the coef_ did not converge\n",
      "  \"the coef_ did not converge\", ConvergenceWarning)\n"
     ]
    },
    {
     "name": "stdout",
     "output_type": "stream",
     "text": [
      "13500 palabras ----> accuracy 74.20\n"
     ]
    },
    {
     "name": "stderr",
     "output_type": "stream",
     "text": [
      "/home/jmperez/.pyenv/versions/3.6.5/envs/contrastes/lib/python3.6/site-packages/sklearn/linear_model/sag.py:334: ConvergenceWarning: The max_iter was reached which means the coef_ did not converge\n",
      "  \"the coef_ did not converge\", ConvergenceWarning)\n"
     ]
    },
    {
     "name": "stdout",
     "output_type": "stream",
     "text": [
      "14000 palabras ----> accuracy 69.88\n"
     ]
    },
    {
     "name": "stderr",
     "output_type": "stream",
     "text": [
      "/home/jmperez/.pyenv/versions/3.6.5/envs/contrastes/lib/python3.6/site-packages/sklearn/linear_model/sag.py:334: ConvergenceWarning: The max_iter was reached which means the coef_ did not converge\n",
      "  \"the coef_ did not converge\", ConvergenceWarning)\n"
     ]
    },
    {
     "name": "stdout",
     "output_type": "stream",
     "text": [
      "14500 palabras ----> accuracy 70.00\n"
     ]
    },
    {
     "name": "stderr",
     "output_type": "stream",
     "text": [
      "/home/jmperez/.pyenv/versions/3.6.5/envs/contrastes/lib/python3.6/site-packages/sklearn/linear_model/sag.py:334: ConvergenceWarning: The max_iter was reached which means the coef_ did not converge\n",
      "  \"the coef_ did not converge\", ConvergenceWarning)\n"
     ]
    },
    {
     "name": "stdout",
     "output_type": "stream",
     "text": [
      "15000 palabras ----> accuracy 69.92\n"
     ]
    },
    {
     "name": "stderr",
     "output_type": "stream",
     "text": [
      "/home/jmperez/.pyenv/versions/3.6.5/envs/contrastes/lib/python3.6/site-packages/sklearn/linear_model/sag.py:334: ConvergenceWarning: The max_iter was reached which means the coef_ did not converge\n",
      "  \"the coef_ did not converge\", ConvergenceWarning)\n"
     ]
    },
    {
     "name": "stdout",
     "output_type": "stream",
     "text": [
      "15500 palabras ----> accuracy 70.56\n"
     ]
    },
    {
     "name": "stderr",
     "output_type": "stream",
     "text": [
      "/home/jmperez/.pyenv/versions/3.6.5/envs/contrastes/lib/python3.6/site-packages/sklearn/linear_model/sag.py:334: ConvergenceWarning: The max_iter was reached which means the coef_ did not converge\n",
      "  \"the coef_ did not converge\", ConvergenceWarning)\n"
     ]
    },
    {
     "name": "stdout",
     "output_type": "stream",
     "text": [
      "16000 palabras ----> accuracy 70.52\n"
     ]
    },
    {
     "name": "stderr",
     "output_type": "stream",
     "text": [
      "/home/jmperez/.pyenv/versions/3.6.5/envs/contrastes/lib/python3.6/site-packages/sklearn/linear_model/sag.py:334: ConvergenceWarning: The max_iter was reached which means the coef_ did not converge\n",
      "  \"the coef_ did not converge\", ConvergenceWarning)\n"
     ]
    },
    {
     "name": "stdout",
     "output_type": "stream",
     "text": [
      "16500 palabras ----> accuracy 70.48\n"
     ]
    },
    {
     "name": "stderr",
     "output_type": "stream",
     "text": [
      "/home/jmperez/.pyenv/versions/3.6.5/envs/contrastes/lib/python3.6/site-packages/sklearn/linear_model/sag.py:334: ConvergenceWarning: The max_iter was reached which means the coef_ did not converge\n",
      "  \"the coef_ did not converge\", ConvergenceWarning)\n"
     ]
    },
    {
     "name": "stdout",
     "output_type": "stream",
     "text": [
      "17000 palabras ----> accuracy 70.64\n"
     ]
    },
    {
     "name": "stderr",
     "output_type": "stream",
     "text": [
      "/home/jmperez/.pyenv/versions/3.6.5/envs/contrastes/lib/python3.6/site-packages/sklearn/linear_model/sag.py:334: ConvergenceWarning: The max_iter was reached which means the coef_ did not converge\n",
      "  \"the coef_ did not converge\", ConvergenceWarning)\n"
     ]
    },
    {
     "name": "stdout",
     "output_type": "stream",
     "text": [
      "17500 palabras ----> accuracy 70.60\n"
     ]
    },
    {
     "name": "stderr",
     "output_type": "stream",
     "text": [
      "/home/jmperez/.pyenv/versions/3.6.5/envs/contrastes/lib/python3.6/site-packages/sklearn/linear_model/sag.py:334: ConvergenceWarning: The max_iter was reached which means the coef_ did not converge\n",
      "  \"the coef_ did not converge\", ConvergenceWarning)\n"
     ]
    },
    {
     "name": "stdout",
     "output_type": "stream",
     "text": [
      "18000 palabras ----> accuracy 70.60\n"
     ]
    },
    {
     "name": "stderr",
     "output_type": "stream",
     "text": [
      "/home/jmperez/.pyenv/versions/3.6.5/envs/contrastes/lib/python3.6/site-packages/sklearn/linear_model/sag.py:334: ConvergenceWarning: The max_iter was reached which means the coef_ did not converge\n",
      "  \"the coef_ did not converge\", ConvergenceWarning)\n"
     ]
    },
    {
     "name": "stdout",
     "output_type": "stream",
     "text": [
      "18500 palabras ----> accuracy 70.80\n"
     ]
    },
    {
     "name": "stderr",
     "output_type": "stream",
     "text": [
      "/home/jmperez/.pyenv/versions/3.6.5/envs/contrastes/lib/python3.6/site-packages/sklearn/linear_model/sag.py:334: ConvergenceWarning: The max_iter was reached which means the coef_ did not converge\n",
      "  \"the coef_ did not converge\", ConvergenceWarning)\n"
     ]
    },
    {
     "name": "stdout",
     "output_type": "stream",
     "text": [
      "19000 palabras ----> accuracy 70.84\n"
     ]
    },
    {
     "name": "stderr",
     "output_type": "stream",
     "text": [
      "/home/jmperez/.pyenv/versions/3.6.5/envs/contrastes/lib/python3.6/site-packages/sklearn/linear_model/sag.py:334: ConvergenceWarning: The max_iter was reached which means the coef_ did not converge\n",
      "  \"the coef_ did not converge\", ConvergenceWarning)\n"
     ]
    },
    {
     "name": "stdout",
     "output_type": "stream",
     "text": [
      "19500 palabras ----> accuracy 70.92\n"
     ]
    }
   ],
   "source": [
    "for num_words in range(5000, 20000, 500):    \n",
    "    X_tr = X_train[:, :num_words].todense()\n",
    "    X_tst = X_test[:, :num_words].todense()\n",
    "    \n",
    "    clf = LogisticRegression(\n",
    "        multi_class='multinomial', solver='saga', penalty='l2', \n",
    "        max_iter=200, n_jobs=-1)\n",
    "    clf.fit(X_tr, y_train)\n",
    "    \n",
    "    scores[num_words] = clf.score(X_tst, y_test)\n",
    "    print(\"{} palabras ----> accuracy {:.2f}\".format(num_words, scores[num_words]*100))\n",
    "    clfs[num_words] = clf"
   ]
  },
  {
   "cell_type": "code",
   "execution_count": 26,
   "metadata": {},
   "outputs": [
    {
     "data": {
      "text/plain": [
       "{250: 0.574,\n",
       " 500: 0.6508,\n",
       " 750: 0.6884,\n",
       " 1000: 0.7064,\n",
       " 1250: 0.7132,\n",
       " 1500: 0.7168,\n",
       " 1750: 0.6992,\n",
       " 2000: 0.7068,\n",
       " 2250: 0.714,\n",
       " 2500: 0.7116,\n",
       " 2750: 0.7144,\n",
       " 3000: 0.7,\n",
       " 3250: 0.7056,\n",
       " 3500: 0.7068,\n",
       " 3750: 0.7132,\n",
       " 4000: 0.7148,\n",
       " 4250: 0.718,\n",
       " 4500: 0.718,\n",
       " 4750: 0.7196,\n",
       " 5000: 0.7188,\n",
       " 5500: 0.7168,\n",
       " 6000: 0.72,\n",
       " 6500: 0.7224,\n",
       " 7000: 0.724,\n",
       " 7500: 0.7256,\n",
       " 8000: 0.7328,\n",
       " 8500: 0.734,\n",
       " 9000: 0.73,\n",
       " 9500: 0.73,\n",
       " 10000: 0.7356,\n",
       " 10500: 0.74,\n",
       " 11000: 0.7424,\n",
       " 11500: 0.74,\n",
       " 12000: 0.7408,\n",
       " 12500: 0.7408,\n",
       " 13000: 0.7412,\n",
       " 13500: 0.742,\n",
       " 14000: 0.6988,\n",
       " 14500: 0.7,\n",
       " 15000: 0.6992,\n",
       " 15500: 0.7056,\n",
       " 16000: 0.7052,\n",
       " 16500: 0.7048,\n",
       " 17000: 0.7064,\n",
       " 17500: 0.706,\n",
       " 18000: 0.706,\n",
       " 18500: 0.708,\n",
       " 19000: 0.7084,\n",
       " 19500: 0.7092}"
      ]
     },
     "execution_count": 26,
     "metadata": {},
     "output_type": "execute_result"
    }
   ],
   "source": [
    "\n",
    "scores"
   ]
  },
  {
   "cell_type": "markdown",
   "metadata": {},
   "source": [
    "## Con Palabras\n",
    "\n",
    "¿Qué pasa con palabras?"
   ]
  },
  {
   "cell_type": "code",
   "execution_count": 28,
   "metadata": {},
   "outputs": [
    {
     "data": {
      "text/html": [
       "<div>\n",
       "<style scoped>\n",
       "    .dataframe tbody tr th:only-of-type {\n",
       "        vertical-align: middle;\n",
       "    }\n",
       "\n",
       "    .dataframe tbody tr th {\n",
       "        vertical-align: top;\n",
       "    }\n",
       "\n",
       "    .dataframe thead th {\n",
       "        text-align: right;\n",
       "    }\n",
       "</style>\n",
       "<table border=\"1\" class=\"dataframe\">\n",
       "  <thead>\n",
       "    <tr style=\"text-align: right;\">\n",
       "      <th></th>\n",
       "      <th>buenosaires_ocurrencias</th>\n",
       "      <th>buenosaires_usuarios</th>\n",
       "      <th>catamarca_ocurrencias</th>\n",
       "      <th>catamarca_usuarios</th>\n",
       "      <th>chaco_ocurrencias</th>\n",
       "      <th>chaco_usuarios</th>\n",
       "      <th>chubut_ocurrencias</th>\n",
       "      <th>chubut_usuarios</th>\n",
       "      <th>cordoba_ocurrencias</th>\n",
       "      <th>cordoba_usuarios</th>\n",
       "      <th>...</th>\n",
       "      <th>tucuman_usuarios</th>\n",
       "      <th>cant_provincias</th>\n",
       "      <th>cant_palabra</th>\n",
       "      <th>cant_usuarios</th>\n",
       "      <th>ival_palabras</th>\n",
       "      <th>ival_personas</th>\n",
       "      <th>ival_palper</th>\n",
       "      <th>rank_palabras</th>\n",
       "      <th>rank_personas</th>\n",
       "      <th>rank_palper</th>\n",
       "    </tr>\n",
       "  </thead>\n",
       "  <tbody>\n",
       "    <tr>\n",
       "      <th>hoa</th>\n",
       "      <td>0.0</td>\n",
       "      <td>0.0</td>\n",
       "      <td>1.0</td>\n",
       "      <td>1.0</td>\n",
       "      <td>0.0</td>\n",
       "      <td>0.0</td>\n",
       "      <td>0.0</td>\n",
       "      <td>0.0</td>\n",
       "      <td>0.0</td>\n",
       "      <td>0.0</td>\n",
       "      <td>...</td>\n",
       "      <td>0.0</td>\n",
       "      <td>6</td>\n",
       "      <td>3281.0</td>\n",
       "      <td>8.0</td>\n",
       "      <td>1.673924</td>\n",
       "      <td>0.331520</td>\n",
       "      <td>0.554939</td>\n",
       "      <td>1.0</td>\n",
       "      <td>13613.0</td>\n",
       "      <td>692.0</td>\n",
       "    </tr>\n",
       "    <tr>\n",
       "      <th>rioja</th>\n",
       "      <td>21.0</td>\n",
       "      <td>8.0</td>\n",
       "      <td>219.0</td>\n",
       "      <td>73.0</td>\n",
       "      <td>3.0</td>\n",
       "      <td>3.0</td>\n",
       "      <td>18.0</td>\n",
       "      <td>11.0</td>\n",
       "      <td>23.0</td>\n",
       "      <td>14.0</td>\n",
       "      <td>...</td>\n",
       "      <td>16.0</td>\n",
       "      <td>23</td>\n",
       "      <td>8020.0</td>\n",
       "      <td>506.0</td>\n",
       "      <td>1.658451</td>\n",
       "      <td>0.849382</td>\n",
       "      <td>1.408657</td>\n",
       "      <td>2.0</td>\n",
       "      <td>551.0</td>\n",
       "      <td>40.0</td>\n",
       "    </tr>\n",
       "    <tr>\n",
       "      <th>ushuaia</th>\n",
       "      <td>19.0</td>\n",
       "      <td>5.0</td>\n",
       "      <td>2.0</td>\n",
       "      <td>2.0</td>\n",
       "      <td>3.0</td>\n",
       "      <td>2.0</td>\n",
       "      <td>16.0</td>\n",
       "      <td>13.0</td>\n",
       "      <td>3.0</td>\n",
       "      <td>3.0</td>\n",
       "      <td>...</td>\n",
       "      <td>2.0</td>\n",
       "      <td>23</td>\n",
       "      <td>5874.0</td>\n",
       "      <td>352.0</td>\n",
       "      <td>1.644964</td>\n",
       "      <td>1.059067</td>\n",
       "      <td>1.742126</td>\n",
       "      <td>3.0</td>\n",
       "      <td>161.0</td>\n",
       "      <td>11.0</td>\n",
       "    </tr>\n",
       "    <tr>\n",
       "      <th>chivilcoy</th>\n",
       "      <td>2331.0</td>\n",
       "      <td>125.0</td>\n",
       "      <td>0.0</td>\n",
       "      <td>0.0</td>\n",
       "      <td>1.0</td>\n",
       "      <td>1.0</td>\n",
       "      <td>0.0</td>\n",
       "      <td>0.0</td>\n",
       "      <td>1.0</td>\n",
       "      <td>1.0</td>\n",
       "      <td>...</td>\n",
       "      <td>0.0</td>\n",
       "      <td>6</td>\n",
       "      <td>2337.0</td>\n",
       "      <td>131.0</td>\n",
       "      <td>1.599973</td>\n",
       "      <td>1.553529</td>\n",
       "      <td>2.485604</td>\n",
       "      <td>4.0</td>\n",
       "      <td>2.0</td>\n",
       "      <td>1.0</td>\n",
       "    </tr>\n",
       "    <tr>\n",
       "      <th>bragado</th>\n",
       "      <td>1757.0</td>\n",
       "      <td>89.0</td>\n",
       "      <td>0.0</td>\n",
       "      <td>0.0</td>\n",
       "      <td>0.0</td>\n",
       "      <td>0.0</td>\n",
       "      <td>1.0</td>\n",
       "      <td>1.0</td>\n",
       "      <td>0.0</td>\n",
       "      <td>0.0</td>\n",
       "      <td>...</td>\n",
       "      <td>0.0</td>\n",
       "      <td>5</td>\n",
       "      <td>1766.0</td>\n",
       "      <td>96.0</td>\n",
       "      <td>1.535212</td>\n",
       "      <td>1.417497</td>\n",
       "      <td>2.176158</td>\n",
       "      <td>5.0</td>\n",
       "      <td>12.0</td>\n",
       "      <td>2.0</td>\n",
       "    </tr>\n",
       "    <tr>\n",
       "      <th>jujuy</th>\n",
       "      <td>17.0</td>\n",
       "      <td>8.0</td>\n",
       "      <td>53.0</td>\n",
       "      <td>23.0</td>\n",
       "      <td>20.0</td>\n",
       "      <td>18.0</td>\n",
       "      <td>22.0</td>\n",
       "      <td>16.0</td>\n",
       "      <td>50.0</td>\n",
       "      <td>21.0</td>\n",
       "      <td>...</td>\n",
       "      <td>49.0</td>\n",
       "      <td>23</td>\n",
       "      <td>8334.0</td>\n",
       "      <td>732.0</td>\n",
       "      <td>1.496421</td>\n",
       "      <td>0.599929</td>\n",
       "      <td>0.897746</td>\n",
       "      <td>6.0</td>\n",
       "      <td>2146.0</td>\n",
       "      <td>197.0</td>\n",
       "    </tr>\n",
       "    <tr>\n",
       "      <th>tilly</th>\n",
       "      <td>0.0</td>\n",
       "      <td>0.0</td>\n",
       "      <td>0.0</td>\n",
       "      <td>0.0</td>\n",
       "      <td>0.0</td>\n",
       "      <td>0.0</td>\n",
       "      <td>1409.0</td>\n",
       "      <td>79.0</td>\n",
       "      <td>1.0</td>\n",
       "      <td>1.0</td>\n",
       "      <td>...</td>\n",
       "      <td>0.0</td>\n",
       "      <td>6</td>\n",
       "      <td>1423.0</td>\n",
       "      <td>90.0</td>\n",
       "      <td>1.473581</td>\n",
       "      <td>1.293685</td>\n",
       "      <td>1.906349</td>\n",
       "      <td>7.0</td>\n",
       "      <td>35.0</td>\n",
       "      <td>5.0</td>\n",
       "    </tr>\n",
       "    <tr>\n",
       "      <th>tdf</th>\n",
       "      <td>1.0</td>\n",
       "      <td>1.0</td>\n",
       "      <td>0.0</td>\n",
       "      <td>0.0</td>\n",
       "      <td>0.0</td>\n",
       "      <td>0.0</td>\n",
       "      <td>0.0</td>\n",
       "      <td>0.0</td>\n",
       "      <td>0.0</td>\n",
       "      <td>0.0</td>\n",
       "      <td>...</td>\n",
       "      <td>0.0</td>\n",
       "      <td>11</td>\n",
       "      <td>1399.0</td>\n",
       "      <td>89.0</td>\n",
       "      <td>1.442562</td>\n",
       "      <td>1.128235</td>\n",
       "      <td>1.627548</td>\n",
       "      <td>8.0</td>\n",
       "      <td>112.0</td>\n",
       "      <td>19.0</td>\n",
       "    </tr>\n",
       "    <tr>\n",
       "      <th>rada</th>\n",
       "      <td>0.0</td>\n",
       "      <td>0.0</td>\n",
       "      <td>1.0</td>\n",
       "      <td>1.0</td>\n",
       "      <td>1.0</td>\n",
       "      <td>1.0</td>\n",
       "      <td>1914.0</td>\n",
       "      <td>169.0</td>\n",
       "      <td>7.0</td>\n",
       "      <td>3.0</td>\n",
       "      <td>...</td>\n",
       "      <td>1.0</td>\n",
       "      <td>18</td>\n",
       "      <td>1988.0</td>\n",
       "      <td>212.0</td>\n",
       "      <td>1.437460</td>\n",
       "      <td>1.233813</td>\n",
       "      <td>1.773557</td>\n",
       "      <td>9.0</td>\n",
       "      <td>62.0</td>\n",
       "      <td>9.0</td>\n",
       "    </tr>\n",
       "    <tr>\n",
       "      <th>gestionando</th>\n",
       "      <td>6.0</td>\n",
       "      <td>2.0</td>\n",
       "      <td>1.0</td>\n",
       "      <td>1.0</td>\n",
       "      <td>0.0</td>\n",
       "      <td>0.0</td>\n",
       "      <td>1.0</td>\n",
       "      <td>1.0</td>\n",
       "      <td>3.0</td>\n",
       "      <td>2.0</td>\n",
       "      <td>...</td>\n",
       "      <td>2.0</td>\n",
       "      <td>20</td>\n",
       "      <td>1646.0</td>\n",
       "      <td>40.0</td>\n",
       "      <td>1.418463</td>\n",
       "      <td>0.149234</td>\n",
       "      <td>0.211683</td>\n",
       "      <td>10.0</td>\n",
       "      <td>67507.0</td>\n",
       "      <td>3810.0</td>\n",
       "    </tr>\n",
       "  </tbody>\n",
       "</table>\n",
       "<p>10 rows × 55 columns</p>\n",
       "</div>"
      ],
      "text/plain": [
       "             buenosaires_ocurrencias  buenosaires_usuarios  \\\n",
       "hoa                              0.0                   0.0   \n",
       "rioja                           21.0                   8.0   \n",
       "ushuaia                         19.0                   5.0   \n",
       "chivilcoy                     2331.0                 125.0   \n",
       "bragado                       1757.0                  89.0   \n",
       "jujuy                           17.0                   8.0   \n",
       "tilly                            0.0                   0.0   \n",
       "tdf                              1.0                   1.0   \n",
       "rada                             0.0                   0.0   \n",
       "gestionando                      6.0                   2.0   \n",
       "\n",
       "             catamarca_ocurrencias  catamarca_usuarios  chaco_ocurrencias  \\\n",
       "hoa                            1.0                 1.0                0.0   \n",
       "rioja                        219.0                73.0                3.0   \n",
       "ushuaia                        2.0                 2.0                3.0   \n",
       "chivilcoy                      0.0                 0.0                1.0   \n",
       "bragado                        0.0                 0.0                0.0   \n",
       "jujuy                         53.0                23.0               20.0   \n",
       "tilly                          0.0                 0.0                0.0   \n",
       "tdf                            0.0                 0.0                0.0   \n",
       "rada                           1.0                 1.0                1.0   \n",
       "gestionando                    1.0                 1.0                0.0   \n",
       "\n",
       "             chaco_usuarios  chubut_ocurrencias  chubut_usuarios  \\\n",
       "hoa                     0.0                 0.0              0.0   \n",
       "rioja                   3.0                18.0             11.0   \n",
       "ushuaia                 2.0                16.0             13.0   \n",
       "chivilcoy               1.0                 0.0              0.0   \n",
       "bragado                 0.0                 1.0              1.0   \n",
       "jujuy                  18.0                22.0             16.0   \n",
       "tilly                   0.0              1409.0             79.0   \n",
       "tdf                     0.0                 0.0              0.0   \n",
       "rada                    1.0              1914.0            169.0   \n",
       "gestionando             0.0                 1.0              1.0   \n",
       "\n",
       "             cordoba_ocurrencias  cordoba_usuarios     ...       \\\n",
       "hoa                          0.0               0.0     ...        \n",
       "rioja                       23.0              14.0     ...        \n",
       "ushuaia                      3.0               3.0     ...        \n",
       "chivilcoy                    1.0               1.0     ...        \n",
       "bragado                      0.0               0.0     ...        \n",
       "jujuy                       50.0              21.0     ...        \n",
       "tilly                        1.0               1.0     ...        \n",
       "tdf                          0.0               0.0     ...        \n",
       "rada                         7.0               3.0     ...        \n",
       "gestionando                  3.0               2.0     ...        \n",
       "\n",
       "             tucuman_usuarios  cant_provincias  cant_palabra  cant_usuarios  \\\n",
       "hoa                       0.0                6        3281.0            8.0   \n",
       "rioja                    16.0               23        8020.0          506.0   \n",
       "ushuaia                   2.0               23        5874.0          352.0   \n",
       "chivilcoy                 0.0                6        2337.0          131.0   \n",
       "bragado                   0.0                5        1766.0           96.0   \n",
       "jujuy                    49.0               23        8334.0          732.0   \n",
       "tilly                     0.0                6        1423.0           90.0   \n",
       "tdf                       0.0               11        1399.0           89.0   \n",
       "rada                      1.0               18        1988.0          212.0   \n",
       "gestionando               2.0               20        1646.0           40.0   \n",
       "\n",
       "             ival_palabras  ival_personas  ival_palper  rank_palabras  \\\n",
       "hoa               1.673924       0.331520     0.554939            1.0   \n",
       "rioja             1.658451       0.849382     1.408657            2.0   \n",
       "ushuaia           1.644964       1.059067     1.742126            3.0   \n",
       "chivilcoy         1.599973       1.553529     2.485604            4.0   \n",
       "bragado           1.535212       1.417497     2.176158            5.0   \n",
       "jujuy             1.496421       0.599929     0.897746            6.0   \n",
       "tilly             1.473581       1.293685     1.906349            7.0   \n",
       "tdf               1.442562       1.128235     1.627548            8.0   \n",
       "rada              1.437460       1.233813     1.773557            9.0   \n",
       "gestionando       1.418463       0.149234     0.211683           10.0   \n",
       "\n",
       "             rank_personas  rank_palper  \n",
       "hoa                13613.0        692.0  \n",
       "rioja                551.0         40.0  \n",
       "ushuaia              161.0         11.0  \n",
       "chivilcoy              2.0          1.0  \n",
       "bragado               12.0          2.0  \n",
       "jujuy               2146.0        197.0  \n",
       "tilly                 35.0          5.0  \n",
       "tdf                  112.0         19.0  \n",
       "rada                  62.0          9.0  \n",
       "gestionando        67507.0       3810.0  \n",
       "\n",
       "[10 rows x 55 columns]"
      ]
     },
     "execution_count": 28,
     "metadata": {},
     "output_type": "execute_result"
    }
   ],
   "source": [
    "word_df.sort_values(\"rank_palabras\", ascending=True, inplace=True)\n",
    "\n",
    "word_df.iloc[:10]"
   ]
  },
  {
   "cell_type": "code",
   "execution_count": 29,
   "metadata": {},
   "outputs": [
    {
     "name": "stdout",
     "output_type": "stream",
     "text": [
      "Vectorizing\n",
      "CPU times: user 9min 53s, sys: 1.89 s, total: 9min 55s\n",
      "Wall time: 10min 17s\n"
     ]
    }
   ],
   "source": [
    "%%time \n",
    "\n",
    "liw_vectorizer = CountVectorizer(\n",
    "    tokenizer=tokenizer.tokenize,\n",
    "    vocabulary=word_df.index)\n",
    "\n",
    "X_train = liw_vectorizer.fit_transform(df_train[\"text\"])\n",
    "print(\"Vectorizing\")\n",
    "X_test = liw_vectorizer.transform(df_test[\"text\"])"
   ]
  },
  {
   "cell_type": "code",
   "execution_count": null,
   "metadata": {},
   "outputs": [],
   "source": [
    "\n",
    "clfs_palabras = {}\n",
    "scores_palabras = {}"
   ]
  },
  {
   "cell_type": "code",
   "execution_count": null,
   "metadata": {},
   "outputs": [
    {
     "name": "stdout",
     "output_type": "stream",
     "text": [
      "250 palabras ----> accuracy 58.80\n",
      "500 palabras ----> accuracy 61.40\n",
      "750 palabras ----> accuracy 63.52\n",
      "1000 palabras ----> accuracy 62.44\n",
      "1250 palabras ----> accuracy 62.08\n",
      "1500 palabras ----> accuracy 62.88\n",
      "1750 palabras ----> accuracy 65.40\n",
      "2000 palabras ----> accuracy 65.56\n",
      "2250 palabras ----> accuracy 65.32\n",
      "2500 palabras ----> accuracy 65.24\n",
      "2750 palabras ----> accuracy 65.44\n",
      "3000 palabras ----> accuracy 65.88\n",
      "3250 palabras ----> accuracy 66.60\n",
      "3500 palabras ----> accuracy 66.76\n",
      "3750 palabras ----> accuracy 66.64\n",
      "4000 palabras ----> accuracy 66.60\n",
      "4250 palabras ----> accuracy 66.80\n",
      "4500 palabras ----> accuracy 67.24\n"
     ]
    },
    {
     "name": "stderr",
     "output_type": "stream",
     "text": [
      "/home/jmperez/.pyenv/versions/3.6.5/envs/contrastes/lib/python3.6/site-packages/sklearn/linear_model/sag.py:334: ConvergenceWarning: The max_iter was reached which means the coef_ did not converge\n",
      "  \"the coef_ did not converge\", ConvergenceWarning)\n"
     ]
    }
   ],
   "source": [
    "\n",
    "\n",
    "for num_words in range(250, 5000, 250):\n",
    "    if num_words in clfs_palabras and num_words in scores_palabras:\n",
    "        print(\"{} palabras ----> accuracy {:.2f}\".format(num_words, scores_palabras[num_words]*100))\n",
    "        continue\n",
    "        \n",
    "    X_tr = X_train[:, :num_words].todense()\n",
    "    X_tst = X_test[:, :num_words].todense()\n",
    "    \n",
    "    clf = LogisticRegression(\n",
    "        multi_class='multinomial', solver='saga', penalty='l2', \n",
    "        max_iter=200, n_jobs=-1)\n",
    "    clf.fit(X_tr, y_train)\n",
    "    \n",
    "    scores_palabras[num_words] = clf.score(X_tst, y_test)\n",
    "    print(\"{} palabras ----> accuracy {:.2f}\".format(num_words, scores_palabras[num_words]*100))\n",
    "    clfs_palabras[num_words] = clf\n",
    "    "
   ]
  },
  {
   "cell_type": "code",
   "execution_count": 60,
   "metadata": {},
   "outputs": [
    {
     "name": "stdout",
     "output_type": "stream",
     "text": [
      "5000 palabras ----> accuracy 67.12\n",
      "5500 palabras ----> accuracy 67.28\n",
      "6000 palabras ----> accuracy 67.36\n",
      "6500 palabras ----> accuracy 67.16\n",
      "7000 palabras ----> accuracy 66.96\n",
      "7500 palabras ----> accuracy 67.20\n",
      "8000 palabras ----> accuracy 66.84\n",
      "8500 palabras ----> accuracy 66.88\n",
      "9000 palabras ----> accuracy 67.24\n",
      "9500 palabras ----> accuracy 65.12\n",
      "10000 palabras ----> accuracy 65.36\n",
      "10500 palabras ----> accuracy 65.44\n",
      "11000 palabras ----> accuracy 66.24\n",
      "11500 palabras ----> accuracy 66.16\n",
      "12000 palabras ----> accuracy 65.88\n",
      "12500 palabras ----> accuracy 66.24\n",
      "13000 palabras ----> accuracy 66.36\n",
      "13500 palabras ----> accuracy 66.32\n",
      "14000 palabras ----> accuracy 66.44\n",
      "14500 palabras ----> accuracy 66.44\n",
      "15000 palabras ----> accuracy 66.32\n",
      "15500 palabras ----> accuracy 66.40\n",
      "16000 palabras ----> accuracy 66.40\n",
      "16500 palabras ----> accuracy 66.36\n",
      "17000 palabras ----> accuracy 66.08\n",
      "17500 palabras ----> accuracy 65.96\n",
      "18000 palabras ----> accuracy 66.04\n"
     ]
    },
    {
     "name": "stderr",
     "output_type": "stream",
     "text": [
      "/home/jmperez/.pyenv/versions/3.6.5/envs/contrastes/lib/python3.6/site-packages/sklearn/linear_model/sag.py:334: ConvergenceWarning: The max_iter was reached which means the coef_ did not converge\n",
      "  \"the coef_ did not converge\", ConvergenceWarning)\n"
     ]
    },
    {
     "name": "stdout",
     "output_type": "stream",
     "text": [
      "18500 palabras ----> accuracy 66.12\n"
     ]
    },
    {
     "name": "stderr",
     "output_type": "stream",
     "text": [
      "/home/jmperez/.pyenv/versions/3.6.5/envs/contrastes/lib/python3.6/site-packages/sklearn/linear_model/sag.py:334: ConvergenceWarning: The max_iter was reached which means the coef_ did not converge\n",
      "  \"the coef_ did not converge\", ConvergenceWarning)\n"
     ]
    },
    {
     "name": "stdout",
     "output_type": "stream",
     "text": [
      "19000 palabras ----> accuracy 66.16\n"
     ]
    },
    {
     "name": "stderr",
     "output_type": "stream",
     "text": [
      "/home/jmperez/.pyenv/versions/3.6.5/envs/contrastes/lib/python3.6/site-packages/sklearn/linear_model/sag.py:334: ConvergenceWarning: The max_iter was reached which means the coef_ did not converge\n",
      "  \"the coef_ did not converge\", ConvergenceWarning)\n"
     ]
    },
    {
     "name": "stdout",
     "output_type": "stream",
     "text": [
      "19500 palabras ----> accuracy 66.40\n"
     ]
    }
   ],
   "source": [
    "for num_words in range(5000, 20000, 500):\n",
    "    if num_words in clfs_palabras:\n",
    "        print(\"{} palabras ----> accuracy {:.2f}\".format(num_words, scores_palabras[num_words]*100))\n",
    "        continue\n",
    "        \n",
    "    X_tr = X_train[:, :num_words].todense()\n",
    "    X_tst = X_test[:, :num_words].todense()\n",
    "    \n",
    "    clf = LogisticRegression(\n",
    "        multi_class='multinomial', solver='saga', penalty='l2', \n",
    "        max_iter=200, n_jobs=-1)\n",
    "    clf.fit(X_tr, y_train)\n",
    "    \n",
    "    scores_palabras[num_words] = clf.score(X_tst, y_test)\n",
    "    print(\"{} palabras ----> accuracy {:.2f}\".format(num_words, scores_palabras[num_words]*100))\n",
    "    clfs_palabras[num_words] = clf"
   ]
  },
  {
   "cell_type": "code",
   "execution_count": 62,
   "metadata": {},
   "outputs": [],
   "source": [
    "import pickle\n",
    "\n",
    "pickle.dump(clfs, open(\"clfs_personas.pkl\", \"wb\"))\n",
    "pickle.dump(clfs_palabras, open(\"clfs_palabras.pkl\", \"wb\"))"
   ]
  },
  {
   "cell_type": "code",
   "execution_count": 63,
   "metadata": {},
   "outputs": [],
   "source": [
    "clfs_personas = pickle.load(open(\"clfs_personas.pkl\", \"rb\"))"
   ]
  },
  {
   "cell_type": "code",
   "execution_count": 66,
   "metadata": {},
   "outputs": [],
   "source": [
    "word_df.sort_values(\"rank_personas\", ascending=True, inplace=True)"
   ]
  },
  {
   "cell_type": "code",
   "execution_count": 67,
   "metadata": {},
   "outputs": [
    {
     "name": "stdout",
     "output_type": "stream",
     "text": [
      "Vectorizing\n",
      "CPU times: user 9min 13s, sys: 456 ms, total: 9min 14s\n",
      "Wall time: 9min 14s\n"
     ]
    }
   ],
   "source": [
    "%%time \n",
    "\n",
    "liw_vectorizer = CountVectorizer(\n",
    "    tokenizer=tokenizer.tokenize,\n",
    "    vocabulary=word_df.index)\n",
    "\n",
    "X_train = liw_vectorizer.fit_transform(df_train[\"text\"])\n",
    "print(\"Vectorizing\")\n",
    "X_test = liw_vectorizer.transform(df_test[\"text\"])"
   ]
  },
  {
   "cell_type": "code",
   "execution_count": 69,
   "metadata": {},
   "outputs": [
    {
     "data": {
      "text/plain": [
       "0.7344"
      ]
     },
     "execution_count": 69,
     "metadata": {},
     "output_type": "execute_result"
    }
   ],
   "source": [
    "X_tr = X_train[:, :10000]\n",
    "X_tst = X_test[:, :10000]\n",
    "\n",
    "clfs_personas[10000].score(X_tst, y_test)"
   ]
  }
 ],
 "metadata": {
  "kernelspec": {
   "display_name": "Python 3",
   "language": "python",
   "name": "python3"
  },
  "language_info": {
   "codemirror_mode": {
    "name": "ipython",
    "version": 3
   },
   "file_extension": ".py",
   "mimetype": "text/x-python",
   "name": "python",
   "nbconvert_exporter": "python",
   "pygments_lexer": "ipython3",
   "version": "3.6.5"
  }
 },
 "nbformat": 4,
 "nbformat_minor": 2
}
